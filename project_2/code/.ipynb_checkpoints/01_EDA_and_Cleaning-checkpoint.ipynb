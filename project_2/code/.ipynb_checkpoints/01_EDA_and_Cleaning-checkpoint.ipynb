{
 "cells": [
  {
   "cell_type": "markdown",
   "id": "e5ad7015-2962-4354-baef-53743495a862",
   "metadata": {},
   "source": [
    "# Project 2: Ames Housing Data and Kaggle Challenge\n",
    "-------"
   ]
  },
  {
   "cell_type": "markdown",
   "id": "9a09becc-9c46-49c7-a247-0a4113e4cb54",
   "metadata": {},
   "source": [
    "## Background\n",
    "dslkfjdf\n",
    "\n",
    "\n",
    "\n",
    "\n",
    "\n",
    "*In this challenge, you will use the well known Ames housing data to create a regression model that predicts the price of houses in Ames, IA. You should feel free to use any and all features that are present in this dataset.*\n",
    "source: https://www.kaggle.com/competitions/dsi-us-11-project-2-regression-challenge\n"
   ]
  },
  {
   "cell_type": "markdown",
   "id": "5bab4a33-6878-4424-88b2-6070a24a9e67",
   "metadata": {
    "jp-MarkdownHeadingCollapsed": true,
    "tags": []
   },
   "source": [
    "## Problem Statement\n",
    "\n",
    "dsfs\n",
    "\n",
    "\n",
    "\n",
    "**Problem Statement**\n",
    "- Is it clear what the student plans to do?\n",
    "- What type of model will be developed?\n",
    "- How will success be evaluated?\n",
    "- Is the scope of the project appropriate?\n",
    "- Is it clear who cares about this or why this is important to investigate?\n",
    "- Does the student consider the audience and the primary and secondary stakeholders?\n",
    "\n",
    "\n",
    "- *Providing business insights through reporting and presentation.*\n",
    "- *tasked with creating a regression model based on the Ames Housing Dataset. This model will predict the price of a house at sale.*\n",
    "- *It is your job to predict the sales price for each house. For each Id in the test set, you must predict the value of the SalePrice variable.*\n",
    "\n"
   ]
  },
  {
   "cell_type": "markdown",
   "id": "75c332a4-eea4-46e1-82a8-da9d5e905a65",
   "metadata": {},
   "source": [
    "## Executive Summary\n",
    "\n",
    "fdsgagh"
   ]
  },
  {
   "cell_type": "markdown",
   "id": "943922fd-f4a4-40f0-b964-2bca74aa5b72",
   "metadata": {},
   "source": [
    "## Content (EDA_and_Cleaning)\n",
    "\n",
    "1. [EDA](#1.-EDA)\n",
    "2. [Data Cleaning](#2.-Data-Cleaning)\n"
   ]
  },
  {
   "cell_type": "markdown",
   "id": "9110045a-581a-4f59-9abd-6e340df08a85",
   "metadata": {},
   "source": [
    "## 1. EDA"
   ]
  },
  {
   "cell_type": "markdown",
   "id": "8908945e-f3fa-405e-aa85-9fe6e56f3b59",
   "metadata": {},
   "source": [
    "**Suggestions**\n",
    "- Read the data dictionary.\n",
    "- Determine what missing values mean.\n",
    "- Figure out what each categorical value represents.\n",
    "- Identify outliers.\n",
    "- Consider whether discrete values are better represented as categorical or continuous. (Are relationships to the target linear?)\n",
    "\n",
    "**WD:**\n",
    "- Determine _what_ missing values mean.\n",
    "- Figure out what each categorical value represents.\n",
    "- Identify outliers.\n",
    "- Consider whether discrete values are better represented as categorical or continuous. (Are relationships to the target linear?)"
   ]
  },
  {
   "cell_type": "code",
   "execution_count": null,
   "id": "00886315-b34a-4022-8acd-547fa9614be4",
   "metadata": {},
   "outputs": [],
   "source": []
  },
  {
   "cell_type": "code",
   "execution_count": null,
   "id": "604cd312-232e-4e3c-ac76-78a61c2a15fc",
   "metadata": {},
   "outputs": [],
   "source": []
  },
  {
   "cell_type": "code",
   "execution_count": null,
   "id": "eb9ef4a6-c697-46c0-9614-6226ec5a2a25",
   "metadata": {},
   "outputs": [],
   "source": []
  },
  {
   "cell_type": "code",
   "execution_count": null,
   "id": "bbbe7ba0-ff50-4704-94cf-203dd48e702e",
   "metadata": {},
   "outputs": [],
   "source": []
  },
  {
   "cell_type": "markdown",
   "id": "551ab6a2-8dc9-4cb6-b506-71f4d4f4c041",
   "metadata": {},
   "source": [
    "## The Modeling Process\n",
    "\n",
    "1. The train dataset has all of the columns that you will need to generate and refine your models. The test dataset has all of those columns except for the target that you are trying to predict in your Regression model.\n",
    "2. Generate your regression model using the training data. We expect that within this process, you'll be making use of:\n",
    "    - train-test split\n",
    "    - cross-validation / grid searching for hyperparameters\n",
    "    - strong exploratory data analysis to question correlation and relationship across predictive variables\n",
    "    - code that reproducibly and consistently applies feature transformation (such as the preprocessing library)\n",
    "3. Predict the values for your target column in the test dataset and consider submitting your predictions to Kaggle to see how your model does against unknown data.\n",
    "    - **Note**: Kaggle expects to see your submissions in a specific format. Check the challenge's page to make sure you are formatting your CSVs correctly!\n",
    "    - **You are limited to models you've learned in class so far**. In other words, you cannot use XGBoost, Neural Networks or any other advanced model for this project.\n",
    "4. Evaluate your models!\n",
    "    - consider your evaluation metrics\n",
    "    - consider your baseline score\n",
    "    - how can your model be used for inference?\n",
    "    - why do you believe your model will generalize to new data?"
   ]
  },
  {
   "cell_type": "code",
   "execution_count": 1,
   "id": "1ecc848b-aa81-4f01-9893-fb7a234f2a4b",
   "metadata": {},
   "outputs": [
    {
     "ename": "NameError",
     "evalue": "name 'pd' is not defined",
     "output_type": "error",
     "traceback": [
      "\u001b[1;31m---------------------------------------------------------------------------\u001b[0m",
      "\u001b[1;31mNameError\u001b[0m                                 Traceback (most recent call last)",
      "Input \u001b[1;32mIn [1]\u001b[0m, in \u001b[0;36m<cell line: 1>\u001b[1;34m()\u001b[0m\n\u001b[1;32m----> 1\u001b[0m \u001b[43mpd\u001b[49m\u001b[38;5;241m.\u001b[39mset_option(\u001b[38;5;124m\"\u001b[39m\u001b[38;5;124mdisplay.max_rows\u001b[39m\u001b[38;5;124m\"\u001b[39m, \u001b[38;5;241m50\u001b[39m)\n\u001b[0;32m      2\u001b[0m pd\u001b[38;5;241m.\u001b[39mset_option(\u001b[38;5;124m\"\u001b[39m\u001b[38;5;124mdisplay.max_columns\u001b[39m\u001b[38;5;124m\"\u001b[39m, \u001b[38;5;241m60\u001b[39m)\n",
      "\u001b[1;31mNameError\u001b[0m: name 'pd' is not defined"
     ]
    }
   ],
   "source": [
    "pd.set_option(\"display.max_rows\", 50)\n",
    "pd.set_option(\"display.max_columns\", 60)"
   ]
  },
  {
   "cell_type": "code",
   "execution_count": null,
   "id": "a69d2a87-3afe-4318-88ba-7cb93b90b3f4",
   "metadata": {},
   "outputs": [],
   "source": []
  },
  {
   "cell_type": "code",
   "execution_count": null,
   "id": "4a6b90a7-7492-42b5-89bc-e230bea5c859",
   "metadata": {},
   "outputs": [],
   "source": []
  },
  {
   "cell_type": "code",
   "execution_count": null,
   "id": "0b3b3a1a-759b-4960-9568-737ae2b63240",
   "metadata": {},
   "outputs": [],
   "source": []
  },
  {
   "cell_type": "markdown",
   "id": "558b61c7-8364-4d4f-8e5e-9676b9dd6646",
   "metadata": {},
   "source": [
    "## 2. Data Cleaning"
   ]
  },
  {
   "cell_type": "markdown",
   "id": "f452960e-29da-442c-915a-28c5f587e58a",
   "metadata": {},
   "source": [
    "- Decide how to impute null values.\n",
    "- Decide how to handle outliers.\n",
    "- Do you want to combine any features?\n",
    "- Do you want to have interaction terms?\n",
    "- Do you want to manually drop collinear features?"
   ]
  },
  {
   "cell_type": "markdown",
   "id": "a32ab406-6fce-4b27-b31c-67b92b57e680",
   "metadata": {},
   "source": [
    "**Data Cleaning and EDA**\n",
    "- Are missing values imputed appropriately?\n",
    "- Are distributions examined and described?\n",
    "- Are outliers identified and addressed?\n",
    "- Are appropriate summary statistics provided?\n",
    "- Are steps taken during data cleaning and EDA framed appropriately?\n",
    "- Does the student address whether or not they are likely to be able to answer their problem statement with the provided data given what they've discovered during EDA?\n",
    "\n",
    "**Suggestions:**\n",
    "\n",
    "- Decide how to impute null values.\n",
    "- Decide how to handle outliers.\n",
    "- Do you want to combine any features?\n",
    "- Do you want to have interaction terms?\n",
    "- Do you want to manually drop collinear features?\n",
    "\n",
    "**WD Notes:**\n",
    "- check data types is mapped properly by pandas\n",
    "- explain how we come across the data that need cleaning\n",
    "\n",
    "Should have test data set, validation data set and test data set\n",
    "\n",
    "Mean/Median/Mode Imputation not ideal but allowed to be used for project 2. can use iterative imputer or knn"
   ]
  },
  {
   "cell_type": "code",
   "execution_count": null,
   "id": "5100a5ba-01f6-4d59-a43a-84039584408c",
   "metadata": {},
   "outputs": [],
   "source": []
  },
  {
   "cell_type": "code",
   "execution_count": null,
   "id": "71adb80a-519d-454e-9d9e-421dfec38591",
   "metadata": {},
   "outputs": [],
   "source": []
  },
  {
   "cell_type": "code",
   "execution_count": null,
   "id": "60437b73-7fc4-4e71-befc-f68e2d7326af",
   "metadata": {},
   "outputs": [],
   "source": []
  },
  {
   "cell_type": "code",
   "execution_count": null,
   "id": "a77ce8f1-c7ae-4f1b-a437-9ca29c8ef091",
   "metadata": {},
   "outputs": [],
   "source": []
  },
  {
   "cell_type": "code",
   "execution_count": null,
   "id": "8262f315-a9f3-4170-8070-145565660f4f",
   "metadata": {},
   "outputs": [],
   "source": []
  },
  {
   "cell_type": "code",
   "execution_count": null,
   "id": "1c926db1-e6e5-47de-a14b-2f2304ec3d1a",
   "metadata": {},
   "outputs": [],
   "source": []
  },
  {
   "cell_type": "markdown",
   "id": "cd0afcb7-9d7c-4c83-ab53-e1fe43d25a7a",
   "metadata": {},
   "source": [
    "- include a screenshot of the scores on kaggle\n",
    "- at least 3 models: linear, ridge, lasso"
   ]
  },
  {
   "cell_type": "code",
   "execution_count": null,
   "id": "9ae697a6-1049-4537-a322-ec5982a9221e",
   "metadata": {},
   "outputs": [],
   "source": []
  }
 ],
 "metadata": {
  "kernelspec": {
   "display_name": "Python 3 (ipykernel)",
   "language": "python",
   "name": "python3"
  },
  "language_info": {
   "codemirror_mode": {
    "name": "ipython",
    "version": 3
   },
   "file_extension": ".py",
   "mimetype": "text/x-python",
   "name": "python",
   "nbconvert_exporter": "python",
   "pygments_lexer": "ipython3",
   "version": "3.9.12"
  }
 },
 "nbformat": 4,
 "nbformat_minor": 5
}
