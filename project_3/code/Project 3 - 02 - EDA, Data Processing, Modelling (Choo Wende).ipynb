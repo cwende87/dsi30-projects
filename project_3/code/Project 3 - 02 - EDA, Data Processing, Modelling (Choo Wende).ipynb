{
 "cells": [
  {
   "cell_type": "markdown",
   "id": "e4c59b8d-299f-4c5d-8e92-e9033c387dd3",
   "metadata": {
    "tags": []
   },
   "source": [
    "# Project 3: Web APIs & NLP\n",
    "_Author: Choo Wende_\n",
    "\n",
    "_Date: 28 Jul 2022_\n",
    "\n",
    "-------"
   ]
  },
  {
   "cell_type": "markdown",
   "id": "b0da8472-ce27-426b-b7bc-4db44e1d187a",
   "metadata": {
    "tags": []
   },
   "source": [
    "## Content"
   ]
  },
  {
   "cell_type": "markdown",
   "id": "349b51a6-b354-4add-b433-b108bed4ee46",
   "metadata": {
    "jp-MarkdownHeadingCollapsed": true,
    "tags": []
   },
   "source": [
    "**Part 1**: Webscrapping & Data Cleaning \n",
    "\n",
    "1. Webscrapping\n",
    "    - API Set-up\n",
    "    - Retrieve JSON\n",
    "    - Overview of subreddits\n",
    "    - Build up data set\n",
    "   \n",
    "2. Data Cleaning\n",
    "    - Clean dataframe\n",
    "    - Combine and export data set\n",
    "    \n",
    "**Part 2**: Exploratory Data Analysis (EDA), Data Processing & Modelling\n",
    "1. [EDA](#1.-Exploratory-Data-Analysis)\n",
    "    - create new column combining title and selftext\n",
    "    - top 10 recurring words in each subreddits\n",
    "    - sentiment analysis of each subreddits\n",
    "\n",
    "2. [Data Pre-processing](#2.-Data-Pre-processing)\n",
    "    - labelling subreddits\n",
    "    - removing HTML, website addresses, non-letters, stopwords\n",
    "    - stemming\n",
    "\n",
    "3. [Classification Modellling](#3.-Classification-Modelling)\n",
    "    - Baseline Accuracy\n",
    "    - Base model\n",
    "    - Logistic Regression Model with Cvec/Tvec\n",
    "    - Naive-Bayes Model with Cvec/Tvec\n",
    "    - Overview of all models\n",
    "    - Evaluation\n",
    "    \n",
    "4. [Recommendations and Future Works](#4.-Recommendations-and-Future-Works)\n",
    "    - Recommended classification model\n",
    "    - Proposal to Attract Travellers\n",
    "    - Future Works\n",
    "\n",
    "5. [Conclusion](#5.-Conclusion)\n",
    "\n",
    "\n",
    "**Subreddits**\n",
    "1. [AustraliaTravel](https://www.reddit.com/r/AustraliaTravel/)\n",
    "2. [Roadtrip](https://www.reddit.com/r/roadtrip/)\n",
    "3. [TravelHacks](https://www.reddit.com/r/TravelHacks/)\n",
    "4. [TravelNoPics](https://www.reddit.com/r/TravelNoPics/)\n",
    "5. [Travel](https://www.reddit.com/r/travel/)\n"
   ]
  },
  {
   "cell_type": "markdown",
   "id": "53a22abc-9507-43ba-b762-3a3307ee7baf",
   "metadata": {},
   "source": [
    "## Libraries\n",
    "All libraries are imported here."
   ]
  },
  {
   "cell_type": "code",
   "execution_count": 1,
   "id": "3ed42024-1c80-475f-b0af-7ab7dbb7cab6",
   "metadata": {},
   "outputs": [],
   "source": [
    "# standard imports\n",
    "import pandas as pd\n",
    "import numpy as np\n",
    "import matplotlib.pyplot as plt\n",
    "import seaborn as sns\n",
    "import re\n",
    "# import requests\n",
    "# import time\n",
    "\n",
    "\n",
    "# import scipy.stats as stats\n",
    "# %matplotlib inline\n",
    "\n",
    "# #Stylistic Choice:\n",
    "# plt.style.use('fivethirtyeight')\n",
    "# sns.set_style('darkgrid')\n",
    "\n",
    "# # modeling imports\n",
    "# from sklearn.linear_model import Ridge, Lasso, ElasticNet, LinearRegression\n",
    "# from sklearn.linear_model import RidgeCV, LassoCV, ElasticNetCV\n",
    "# from sklearn import metrics\n",
    "# from sklearn.preprocessing import StandardScaler, PolynomialFeatures\n",
    "\n",
    "from sklearn.linear_model import LogisticRegression\n",
    "from sklearn.model_selection import train_test_split, cross_val_score, GridSearchCV\n",
    "from sklearn.naive_bayes import MultinomialNB\n",
    "from sklearn.feature_extraction.text import CountVectorizer, TfidfVectorizer\n",
    "from sklearn.metrics import confusion_matrix, ConfusionMatrixDisplay, accuracy_score, \\\n",
    "plot_roc_curve, roc_auc_score\n",
    "from sklearn.pipeline import Pipeline\n",
    "\n",
    "from bs4 import BeautifulSoup\n",
    "from nltk.corpus import stopwords\n",
    "from nltk.stem.porter import PorterStemmer\n",
    "from nltk.sentiment.vader import SentimentIntensityAnalyzer\n",
    "\n",
    "\n",
    "# %config InlineBackend.figure_format = 'retina'\n",
    "# %matplotlib inline"
   ]
  },
  {
   "cell_type": "markdown",
   "id": "e74717dd-f3ba-44ef-aab4-613bbb367f68",
   "metadata": {},
   "source": [
    "## Data Set\n",
    "\n",
    "The data used for this project is as follows:\n",
    "\n",
    "* [`combined_posts.csv`](./datasets/combined_posts.csv): Submissions data scrapped from [roadtrip](https://www.reddit.com/r/roadtrip/) and [TravelHacks](https://www.reddit.com/r/TravelHacks/) subreddits. \n"
   ]
  },
  {
   "cell_type": "markdown",
   "id": "42321f62-dd3d-4fff-b0d7-7329b8f96d0e",
   "metadata": {},
   "source": [
    "## Data Dictionary \n",
    "\n",
    "**combined_posts data set:**\n",
    "\n",
    "|Feature|Type|Description|\n",
    "|---|---|---|\n",
    "|author|object|This is the author of the submission|\n",
    "|subreddit|object|This is name of the sub-reddits|\n",
    "|selftext|object|This is the main content of the submissions in the sub-reddits|\n",
    "|title|object|This is the title of the sub-reddits|\n",
    "|created_utc|integers|This is the time of submission creation in Unix epoch format|\n",
    "\n",
    "\n"
   ]
  },
  {
   "cell_type": "markdown",
   "id": "0a677c65-9d8c-4cda-a53b-f08a51ea802f",
   "metadata": {
    "tags": []
   },
   "source": [
    "## 1. Exploratory Data Analysis"
   ]
  },
  {
   "cell_type": "markdown",
   "id": "9a656745-138f-4776-9658-4a710c35ede3",
   "metadata": {},
   "source": [
    "### Import the dataset"
   ]
  },
  {
   "cell_type": "code",
   "execution_count": 2,
   "id": "9598dd6a-b61a-436b-a869-418f6195a122",
   "metadata": {},
   "outputs": [],
   "source": [
    "# reading data  \n",
    "combined_posts = pd.read_csv('../datasets/combined_posts.csv')"
   ]
  },
  {
   "cell_type": "code",
   "execution_count": 3,
   "id": "26952209-80de-4be2-8d8a-a7c6d9aa8b94",
   "metadata": {},
   "outputs": [
    {
     "name": "stdout",
     "output_type": "stream",
     "text": [
      "<class 'pandas.core.frame.DataFrame'>\n",
      "RangeIndex: 2614 entries, 0 to 2613\n",
      "Data columns (total 5 columns):\n",
      " #   Column       Non-Null Count  Dtype \n",
      "---  ------       --------------  ----- \n",
      " 0   subreddit    2614 non-null   object\n",
      " 1   author       2614 non-null   object\n",
      " 2   selftext     2614 non-null   object\n",
      " 3   title        2614 non-null   object\n",
      " 4   created_utc  2614 non-null   object\n",
      "dtypes: object(5)\n",
      "memory usage: 102.2+ KB\n"
     ]
    }
   ],
   "source": [
    "# Display dataframe summary info.\n",
    "combined_posts.info()"
   ]
  },
  {
   "cell_type": "code",
   "execution_count": 4,
   "id": "4d58fa5e-db62-4b92-8f4e-b5611a708459",
   "metadata": {},
   "outputs": [
    {
     "data": {
      "text/html": [
       "<div>\n",
       "<style scoped>\n",
       "    .dataframe tbody tr th:only-of-type {\n",
       "        vertical-align: middle;\n",
       "    }\n",
       "\n",
       "    .dataframe tbody tr th {\n",
       "        vertical-align: top;\n",
       "    }\n",
       "\n",
       "    .dataframe thead th {\n",
       "        text-align: right;\n",
       "    }\n",
       "</style>\n",
       "<table border=\"1\" class=\"dataframe\">\n",
       "  <thead>\n",
       "    <tr style=\"text-align: right;\">\n",
       "      <th></th>\n",
       "      <th>subreddit</th>\n",
       "      <th>author</th>\n",
       "      <th>selftext</th>\n",
       "      <th>title</th>\n",
       "      <th>created_utc</th>\n",
       "    </tr>\n",
       "  </thead>\n",
       "  <tbody>\n",
       "    <tr>\n",
       "      <th>0</th>\n",
       "      <td>TravelHacks</td>\n",
       "      <td>Remarkable_Lie_8622</td>\n",
       "      <td>Have you any experience booking a roundtrip ti...</td>\n",
       "      <td>How do you book a roundtrip but a different ci...</td>\n",
       "      <td>2022-07-19 21:41:24</td>\n",
       "    </tr>\n",
       "    <tr>\n",
       "      <th>1</th>\n",
       "      <td>TravelHacks</td>\n",
       "      <td>kastelu</td>\n",
       "      <td>Hi everyone! Next month I'll be visiting my co...</td>\n",
       "      <td>What to do in London in 15+ hours?</td>\n",
       "      <td>2022-07-19 21:04:48</td>\n",
       "    </tr>\n",
       "    <tr>\n",
       "      <th>2</th>\n",
       "      <td>TravelHacks</td>\n",
       "      <td>Avocadosandtomatoes</td>\n",
       "      <td>I’m not too particular on the destination. I j...</td>\n",
       "      <td>Is there a way to search cheap flights coming ...</td>\n",
       "      <td>2022-07-19 20:39:03</td>\n",
       "    </tr>\n",
       "    <tr>\n",
       "      <th>3</th>\n",
       "      <td>TravelHacks</td>\n",
       "      <td>monarchal</td>\n",
       "      <td>I just need to be there Saturday, would be nic...</td>\n",
       "      <td>Where’s the cheapest place to get a flight fro...</td>\n",
       "      <td>2022-07-19 18:45:22</td>\n",
       "    </tr>\n",
       "    <tr>\n",
       "      <th>4</th>\n",
       "      <td>TravelHacks</td>\n",
       "      <td>Small-Decision8803</td>\n",
       "      <td>Which would you choose for vacation? I’ve neve...</td>\n",
       "      <td>Seattle vs denver</td>\n",
       "      <td>2022-07-19 18:28:38</td>\n",
       "    </tr>\n",
       "    <tr>\n",
       "      <th>...</th>\n",
       "      <td>...</td>\n",
       "      <td>...</td>\n",
       "      <td>...</td>\n",
       "      <td>...</td>\n",
       "      <td>...</td>\n",
       "    </tr>\n",
       "    <tr>\n",
       "      <th>2609</th>\n",
       "      <td>roadtrip</td>\n",
       "      <td>_princess-galaxia_</td>\n",
       "      <td>\\n\\n[View Poll](https://www.reddit.com/poll/si...</td>\n",
       "      <td>Often told I drive too much. What's the averag...</td>\n",
       "      <td>2022-02-02 05:54:33</td>\n",
       "    </tr>\n",
       "    <tr>\n",
       "      <th>2610</th>\n",
       "      <td>roadtrip</td>\n",
       "      <td>Marokiii</td>\n",
       "      <td>Either driving time or actual distance travele...</td>\n",
       "      <td>What's your sweet spot for AVERAGE daily drivi...</td>\n",
       "      <td>2022-02-02 03:26:20</td>\n",
       "    </tr>\n",
       "    <tr>\n",
       "      <th>2611</th>\n",
       "      <td>roadtrip</td>\n",
       "      <td>SlothGeo</td>\n",
       "      <td>I’ve decided to take a road trip with my three...</td>\n",
       "      <td>First come/First Serve camping near Redwoods?</td>\n",
       "      <td>2022-02-02 03:22:12</td>\n",
       "    </tr>\n",
       "    <tr>\n",
       "      <th>2612</th>\n",
       "      <td>roadtrip</td>\n",
       "      <td>1AXC</td>\n",
       "      <td>I’m from Southern California and want to just ...</td>\n",
       "      <td>Can anyone suggest where to road trip to for g...</td>\n",
       "      <td>2022-02-01 21:33:00</td>\n",
       "    </tr>\n",
       "    <tr>\n",
       "      <th>2613</th>\n",
       "      <td>roadtrip</td>\n",
       "      <td>zebradonkey69</td>\n",
       "      <td>So my sister and her boyfriend are planning a ...</td>\n",
       "      <td>New Orleans —&amp;gt; Denver</td>\n",
       "      <td>2022-02-01 21:05:01</td>\n",
       "    </tr>\n",
       "  </tbody>\n",
       "</table>\n",
       "<p>2614 rows × 5 columns</p>\n",
       "</div>"
      ],
      "text/plain": [
       "        subreddit               author  \\\n",
       "0     TravelHacks  Remarkable_Lie_8622   \n",
       "1     TravelHacks              kastelu   \n",
       "2     TravelHacks  Avocadosandtomatoes   \n",
       "3     TravelHacks            monarchal   \n",
       "4     TravelHacks   Small-Decision8803   \n",
       "...           ...                  ...   \n",
       "2609     roadtrip   _princess-galaxia_   \n",
       "2610     roadtrip             Marokiii   \n",
       "2611     roadtrip             SlothGeo   \n",
       "2612     roadtrip                 1AXC   \n",
       "2613     roadtrip        zebradonkey69   \n",
       "\n",
       "                                               selftext  \\\n",
       "0     Have you any experience booking a roundtrip ti...   \n",
       "1     Hi everyone! Next month I'll be visiting my co...   \n",
       "2     I’m not too particular on the destination. I j...   \n",
       "3     I just need to be there Saturday, would be nic...   \n",
       "4     Which would you choose for vacation? I’ve neve...   \n",
       "...                                                 ...   \n",
       "2609  \\n\\n[View Poll](https://www.reddit.com/poll/si...   \n",
       "2610  Either driving time or actual distance travele...   \n",
       "2611  I’ve decided to take a road trip with my three...   \n",
       "2612  I’m from Southern California and want to just ...   \n",
       "2613  So my sister and her boyfriend are planning a ...   \n",
       "\n",
       "                                                  title          created_utc  \n",
       "0     How do you book a roundtrip but a different ci...  2022-07-19 21:41:24  \n",
       "1                    What to do in London in 15+ hours?  2022-07-19 21:04:48  \n",
       "2     Is there a way to search cheap flights coming ...  2022-07-19 20:39:03  \n",
       "3     Where’s the cheapest place to get a flight fro...  2022-07-19 18:45:22  \n",
       "4                                     Seattle vs denver  2022-07-19 18:28:38  \n",
       "...                                                 ...                  ...  \n",
       "2609  Often told I drive too much. What's the averag...  2022-02-02 05:54:33  \n",
       "2610  What's your sweet spot for AVERAGE daily drivi...  2022-02-02 03:26:20  \n",
       "2611      First come/First Serve camping near Redwoods?  2022-02-02 03:22:12  \n",
       "2612  Can anyone suggest where to road trip to for g...  2022-02-01 21:33:00  \n",
       "2613                           New Orleans —&gt; Denver  2022-02-01 21:05:01  \n",
       "\n",
       "[2614 rows x 5 columns]"
      ]
     },
     "execution_count": 4,
     "metadata": {},
     "output_type": "execute_result"
    }
   ],
   "source": [
    "# Display first 5 rows and last 5 rows of dataframe.\n",
    "combined_posts"
   ]
  },
  {
   "cell_type": "markdown",
   "id": "c8a6a1ca-6616-4e12-bc0a-18636055cdd4",
   "metadata": {
    "tags": []
   },
   "source": [
    "### Create new column combining `selftext` and `title`\n",
    "\n",
    "The new column combine the content in the `selftext` and the `title` so that both content may be processed together later in the project."
   ]
  },
  {
   "cell_type": "code",
   "execution_count": 5,
   "id": "765ff75a-ed3d-4a24-83d0-16c0330cff71",
   "metadata": {},
   "outputs": [],
   "source": [
    "# create new column that combine selftext and title. \n",
    "combined_posts['selftext_title'] = combined_posts['selftext'] + ' ' + combined_posts['title']"
   ]
  },
  {
   "cell_type": "code",
   "execution_count": 6,
   "id": "7d1bb443-f3c6-435e-a2c9-f04ba23c13e4",
   "metadata": {},
   "outputs": [
    {
     "data": {
      "text/html": [
       "<div>\n",
       "<style scoped>\n",
       "    .dataframe tbody tr th:only-of-type {\n",
       "        vertical-align: middle;\n",
       "    }\n",
       "\n",
       "    .dataframe tbody tr th {\n",
       "        vertical-align: top;\n",
       "    }\n",
       "\n",
       "    .dataframe thead th {\n",
       "        text-align: right;\n",
       "    }\n",
       "</style>\n",
       "<table border=\"1\" class=\"dataframe\">\n",
       "  <thead>\n",
       "    <tr style=\"text-align: right;\">\n",
       "      <th></th>\n",
       "      <th>subreddit</th>\n",
       "      <th>author</th>\n",
       "      <th>selftext</th>\n",
       "      <th>title</th>\n",
       "      <th>created_utc</th>\n",
       "      <th>selftext_title</th>\n",
       "    </tr>\n",
       "  </thead>\n",
       "  <tbody>\n",
       "    <tr>\n",
       "      <th>0</th>\n",
       "      <td>TravelHacks</td>\n",
       "      <td>Remarkable_Lie_8622</td>\n",
       "      <td>Have you any experience booking a roundtrip ti...</td>\n",
       "      <td>How do you book a roundtrip but a different ci...</td>\n",
       "      <td>2022-07-19 21:41:24</td>\n",
       "      <td>Have you any experience booking a roundtrip ti...</td>\n",
       "    </tr>\n",
       "    <tr>\n",
       "      <th>1</th>\n",
       "      <td>TravelHacks</td>\n",
       "      <td>kastelu</td>\n",
       "      <td>Hi everyone! Next month I'll be visiting my co...</td>\n",
       "      <td>What to do in London in 15+ hours?</td>\n",
       "      <td>2022-07-19 21:04:48</td>\n",
       "      <td>Hi everyone! Next month I'll be visiting my co...</td>\n",
       "    </tr>\n",
       "    <tr>\n",
       "      <th>2</th>\n",
       "      <td>TravelHacks</td>\n",
       "      <td>Avocadosandtomatoes</td>\n",
       "      <td>I’m not too particular on the destination. I j...</td>\n",
       "      <td>Is there a way to search cheap flights coming ...</td>\n",
       "      <td>2022-07-19 20:39:03</td>\n",
       "      <td>I’m not too particular on the destination. I j...</td>\n",
       "    </tr>\n",
       "    <tr>\n",
       "      <th>3</th>\n",
       "      <td>TravelHacks</td>\n",
       "      <td>monarchal</td>\n",
       "      <td>I just need to be there Saturday, would be nic...</td>\n",
       "      <td>Where’s the cheapest place to get a flight fro...</td>\n",
       "      <td>2022-07-19 18:45:22</td>\n",
       "      <td>I just need to be there Saturday, would be nic...</td>\n",
       "    </tr>\n",
       "    <tr>\n",
       "      <th>4</th>\n",
       "      <td>TravelHacks</td>\n",
       "      <td>Small-Decision8803</td>\n",
       "      <td>Which would you choose for vacation? I’ve neve...</td>\n",
       "      <td>Seattle vs denver</td>\n",
       "      <td>2022-07-19 18:28:38</td>\n",
       "      <td>Which would you choose for vacation? I’ve neve...</td>\n",
       "    </tr>\n",
       "  </tbody>\n",
       "</table>\n",
       "</div>"
      ],
      "text/plain": [
       "     subreddit               author  \\\n",
       "0  TravelHacks  Remarkable_Lie_8622   \n",
       "1  TravelHacks              kastelu   \n",
       "2  TravelHacks  Avocadosandtomatoes   \n",
       "3  TravelHacks            monarchal   \n",
       "4  TravelHacks   Small-Decision8803   \n",
       "\n",
       "                                            selftext  \\\n",
       "0  Have you any experience booking a roundtrip ti...   \n",
       "1  Hi everyone! Next month I'll be visiting my co...   \n",
       "2  I’m not too particular on the destination. I j...   \n",
       "3  I just need to be there Saturday, would be nic...   \n",
       "4  Which would you choose for vacation? I’ve neve...   \n",
       "\n",
       "                                               title          created_utc  \\\n",
       "0  How do you book a roundtrip but a different ci...  2022-07-19 21:41:24   \n",
       "1                 What to do in London in 15+ hours?  2022-07-19 21:04:48   \n",
       "2  Is there a way to search cheap flights coming ...  2022-07-19 20:39:03   \n",
       "3  Where’s the cheapest place to get a flight fro...  2022-07-19 18:45:22   \n",
       "4                                  Seattle vs denver  2022-07-19 18:28:38   \n",
       "\n",
       "                                      selftext_title  \n",
       "0  Have you any experience booking a roundtrip ti...  \n",
       "1  Hi everyone! Next month I'll be visiting my co...  \n",
       "2  I’m not too particular on the destination. I j...  \n",
       "3  I just need to be there Saturday, would be nic...  \n",
       "4  Which would you choose for vacation? I’ve neve...  "
      ]
     },
     "execution_count": 6,
     "metadata": {},
     "output_type": "execute_result"
    }
   ],
   "source": [
    "# Display first 5 rows of data frame.\n",
    "combined_posts.head()"
   ]
  },
  {
   "cell_type": "markdown",
   "id": "98634c67-be76-4ca4-be45-9720cb4fc281",
   "metadata": {
    "tags": []
   },
   "source": [
    "### TravelHacks Subreddit\n",
    "1. One anomaly was observed on the number of submissions by users. Although the user, 'wallpapersdance', submits significantly higher number of posts and on a regular basis, from Feb 2022 to Jun 2022, from the titles of his submissions, he seems to be planning a trip to Greece and his submissions seem genuine. Hence, his submissions were kept.\n",
    "2. From the top 10 occurring words, two of the words observed were 'want' and 'need'. They may mean the same thing in the context of the submissions. \n",
    "3. 'flight' is one of the top recurring words. It may be inferred that one of the key discussions in TravelHacks is 'flight' related.\n",
    "4. Submissions with index 12, 488, 587, 719, 1175, 1236 may be relevant to travelling in australia. \n",
    "    - Of the seven submissions, four submissions are related to cost of car rental, included incurring additional cost due to mistakes made by rental company. The project could consider attracting more car rental companies to operate at the airport to provide more economical solutions (increase supply will lower costs). Grading systems for car rental companies would be beneficial for traveller to make better informed decisions and partner with a more trustworthy rental company. \n",
    "    - Two of the submissions were related to COVID test results. Travellers were worried about testing positive during the trip. The project can explore formulating policy to support travellers who are tested positively to recoup some of the costs incurred during planning or to delay their trip"
   ]
  },
  {
   "cell_type": "markdown",
   "id": "d397eacd-dc9a-475e-9090-f1d96724b141",
   "metadata": {
    "tags": []
   },
   "source": [
    "#### Review Number of Submissions based on Users\n",
    "It is observed that there is a user who submits significantly higher number of posts and on a regular basis, from Feb 2022 to Jun 2022. From titles of his submissions, he seems to be planning a trip to Greece. Hence his posts will be kept as they seem genuine. "
   ]
  },
  {
   "cell_type": "code",
   "execution_count": 7,
   "id": "1fa05e6b-22ff-4266-bebb-9ce489786702",
   "metadata": {},
   "outputs": [
    {
     "data": {
      "text/html": [
       "<div>\n",
       "<style scoped>\n",
       "    .dataframe tbody tr th:only-of-type {\n",
       "        vertical-align: middle;\n",
       "    }\n",
       "\n",
       "    .dataframe tbody tr th {\n",
       "        vertical-align: top;\n",
       "    }\n",
       "\n",
       "    .dataframe thead th {\n",
       "        text-align: right;\n",
       "    }\n",
       "</style>\n",
       "<table border=\"1\" class=\"dataframe\">\n",
       "  <thead>\n",
       "    <tr style=\"text-align: right;\">\n",
       "      <th></th>\n",
       "      <th>subreddit</th>\n",
       "      <th>author</th>\n",
       "      <th>selftext</th>\n",
       "      <th>title</th>\n",
       "      <th>created_utc</th>\n",
       "      <th>selftext_title</th>\n",
       "    </tr>\n",
       "  </thead>\n",
       "  <tbody>\n",
       "    <tr>\n",
       "      <th>0</th>\n",
       "      <td>TravelHacks</td>\n",
       "      <td>Remarkable_Lie_8622</td>\n",
       "      <td>Have you any experience booking a roundtrip ti...</td>\n",
       "      <td>How do you book a roundtrip but a different ci...</td>\n",
       "      <td>2022-07-19 21:41:24</td>\n",
       "      <td>Have you any experience booking a roundtrip ti...</td>\n",
       "    </tr>\n",
       "    <tr>\n",
       "      <th>1</th>\n",
       "      <td>TravelHacks</td>\n",
       "      <td>kastelu</td>\n",
       "      <td>Hi everyone! Next month I'll be visiting my co...</td>\n",
       "      <td>What to do in London in 15+ hours?</td>\n",
       "      <td>2022-07-19 21:04:48</td>\n",
       "      <td>Hi everyone! Next month I'll be visiting my co...</td>\n",
       "    </tr>\n",
       "    <tr>\n",
       "      <th>2</th>\n",
       "      <td>TravelHacks</td>\n",
       "      <td>Avocadosandtomatoes</td>\n",
       "      <td>I’m not too particular on the destination. I j...</td>\n",
       "      <td>Is there a way to search cheap flights coming ...</td>\n",
       "      <td>2022-07-19 20:39:03</td>\n",
       "      <td>I’m not too particular on the destination. I j...</td>\n",
       "    </tr>\n",
       "    <tr>\n",
       "      <th>3</th>\n",
       "      <td>TravelHacks</td>\n",
       "      <td>monarchal</td>\n",
       "      <td>I just need to be there Saturday, would be nic...</td>\n",
       "      <td>Where’s the cheapest place to get a flight fro...</td>\n",
       "      <td>2022-07-19 18:45:22</td>\n",
       "      <td>I just need to be there Saturday, would be nic...</td>\n",
       "    </tr>\n",
       "    <tr>\n",
       "      <th>4</th>\n",
       "      <td>TravelHacks</td>\n",
       "      <td>Small-Decision8803</td>\n",
       "      <td>Which would you choose for vacation? I’ve neve...</td>\n",
       "      <td>Seattle vs denver</td>\n",
       "      <td>2022-07-19 18:28:38</td>\n",
       "      <td>Which would you choose for vacation? I’ve neve...</td>\n",
       "    </tr>\n",
       "  </tbody>\n",
       "</table>\n",
       "</div>"
      ],
      "text/plain": [
       "     subreddit               author  \\\n",
       "0  TravelHacks  Remarkable_Lie_8622   \n",
       "1  TravelHacks              kastelu   \n",
       "2  TravelHacks  Avocadosandtomatoes   \n",
       "3  TravelHacks            monarchal   \n",
       "4  TravelHacks   Small-Decision8803   \n",
       "\n",
       "                                            selftext  \\\n",
       "0  Have you any experience booking a roundtrip ti...   \n",
       "1  Hi everyone! Next month I'll be visiting my co...   \n",
       "2  I’m not too particular on the destination. I j...   \n",
       "3  I just need to be there Saturday, would be nic...   \n",
       "4  Which would you choose for vacation? I’ve neve...   \n",
       "\n",
       "                                               title          created_utc  \\\n",
       "0  How do you book a roundtrip but a different ci...  2022-07-19 21:41:24   \n",
       "1                 What to do in London in 15+ hours?  2022-07-19 21:04:48   \n",
       "2  Is there a way to search cheap flights coming ...  2022-07-19 20:39:03   \n",
       "3  Where’s the cheapest place to get a flight fro...  2022-07-19 18:45:22   \n",
       "4                                  Seattle vs denver  2022-07-19 18:28:38   \n",
       "\n",
       "                                      selftext_title  \n",
       "0  Have you any experience booking a roundtrip ti...  \n",
       "1  Hi everyone! Next month I'll be visiting my co...  \n",
       "2  I’m not too particular on the destination. I j...  \n",
       "3  I just need to be there Saturday, would be nic...  \n",
       "4  Which would you choose for vacation? I’ve neve...  "
      ]
     },
     "execution_count": 7,
     "metadata": {},
     "output_type": "execute_result"
    }
   ],
   "source": [
    "travelhacks_df=combined_posts[combined_posts['subreddit']=='TravelHacks'].copy()\n",
    "travelhacks_df.head()"
   ]
  },
  {
   "cell_type": "code",
   "execution_count": 8,
   "id": "0e8ca388-6dab-4724-892a-7942a7af1cd6",
   "metadata": {},
   "outputs": [
    {
     "data": {
      "text/plain": [
       "wallpapersdance       36\n",
       "Brisingr08             6\n",
       "Zeffury                6\n",
       "Desertedfoxx           6\n",
       "redditusermazafaka     6\n",
       "jacklychi              5\n",
       "wefeellike             4\n",
       "PopNo5397              4\n",
       "xJavier_Escuellax      4\n",
       "SadPatient28           3\n",
       "Name: author, dtype: int64"
      ]
     },
     "execution_count": 8,
     "metadata": {},
     "output_type": "execute_result"
    }
   ],
   "source": [
    "# Review number of submissions by authors.\n",
    "travelhacks_df['author'].value_counts().head(10)"
   ]
  },
  {
   "cell_type": "code",
   "execution_count": 9,
   "id": "b07e5f93-b733-417c-93cb-6f3aebcb5a94",
   "metadata": {},
   "outputs": [
    {
     "data": {
      "text/html": [
       "<div>\n",
       "<style scoped>\n",
       "    .dataframe tbody tr th:only-of-type {\n",
       "        vertical-align: middle;\n",
       "    }\n",
       "\n",
       "    .dataframe tbody tr th {\n",
       "        vertical-align: top;\n",
       "    }\n",
       "\n",
       "    .dataframe thead th {\n",
       "        text-align: right;\n",
       "    }\n",
       "</style>\n",
       "<table border=\"1\" class=\"dataframe\">\n",
       "  <thead>\n",
       "    <tr style=\"text-align: right;\">\n",
       "      <th></th>\n",
       "      <th>subreddit</th>\n",
       "      <th>author</th>\n",
       "      <th>selftext</th>\n",
       "      <th>title</th>\n",
       "      <th>created_utc</th>\n",
       "      <th>selftext_title</th>\n",
       "    </tr>\n",
       "  </thead>\n",
       "  <tbody>\n",
       "    <tr>\n",
       "      <th>303</th>\n",
       "      <td>TravelHacks</td>\n",
       "      <td>wallpapersdance</td>\n",
       "      <td>1. For flights out of the USA, does anything b...</td>\n",
       "      <td>Questions for people who know alot about good ...</td>\n",
       "      <td>2022-06-22 04:49:07</td>\n",
       "      <td>1. For flights out of the USA, does anything b...</td>\n",
       "    </tr>\n",
       "    <tr>\n",
       "      <th>331</th>\n",
       "      <td>TravelHacks</td>\n",
       "      <td>wallpapersdance</td>\n",
       "      <td>Gonna fly to Greece, gonna swap out my verizon...</td>\n",
       "      <td>Questions for people who know alot about SIM c...</td>\n",
       "      <td>2022-06-19 05:21:08</td>\n",
       "      <td>Gonna fly to Greece, gonna swap out my verizon...</td>\n",
       "    </tr>\n",
       "    <tr>\n",
       "      <th>401</th>\n",
       "      <td>TravelHacks</td>\n",
       "      <td>wallpapersdance</td>\n",
       "      <td>Afraid of accounts freezing, not all allow tra...</td>\n",
       "      <td>USA citizen. Going to Athens Greece. Money is ...</td>\n",
       "      <td>2022-06-10 21:52:04</td>\n",
       "      <td>Afraid of accounts freezing, not all allow tra...</td>\n",
       "    </tr>\n",
       "    <tr>\n",
       "      <th>454</th>\n",
       "      <td>TravelHacks</td>\n",
       "      <td>wallpapersdance</td>\n",
       "      <td>How do I do this?</td>\n",
       "      <td>USA citizen going to Greece for 3 months. Bank...</td>\n",
       "      <td>2022-06-05 04:22:34</td>\n",
       "      <td>How do I do this? USA citizen going to Greece ...</td>\n",
       "    </tr>\n",
       "    <tr>\n",
       "      <th>478</th>\n",
       "      <td>TravelHacks</td>\n",
       "      <td>wallpapersdance</td>\n",
       "      <td>What kind of container? What should you label ...</td>\n",
       "      <td>When you are flying for a long trip and are br...</td>\n",
       "      <td>2022-06-03 03:51:05</td>\n",
       "      <td>What kind of container? What should you label ...</td>\n",
       "    </tr>\n",
       "    <tr>\n",
       "      <th>481</th>\n",
       "      <td>TravelHacks</td>\n",
       "      <td>wallpapersdance</td>\n",
       "      <td>I know they are two different countries. So wi...</td>\n",
       "      <td>If I get a SIM card in Athens Greece arirport,...</td>\n",
       "      <td>2022-06-02 20:39:43</td>\n",
       "      <td>I know they are two different countries. So wi...</td>\n",
       "    </tr>\n",
       "    <tr>\n",
       "      <th>486</th>\n",
       "      <td>TravelHacks</td>\n",
       "      <td>wallpapersdance</td>\n",
       "      <td>Are there some kinds of glass more durable (wh...</td>\n",
       "      <td>When buying a cheap travel phone, what feature...</td>\n",
       "      <td>2022-06-02 14:01:14</td>\n",
       "      <td>Are there some kinds of glass more durable (wh...</td>\n",
       "    </tr>\n",
       "    <tr>\n",
       "      <th>523</th>\n",
       "      <td>TravelHacks</td>\n",
       "      <td>wallpapersdance</td>\n",
       "      <td>In USA for example</td>\n",
       "      <td>How much does it cost and how many days should...</td>\n",
       "      <td>2022-05-30 10:42:48</td>\n",
       "      <td>In USA for example How much does it cost and h...</td>\n",
       "    </tr>\n",
       "    <tr>\n",
       "      <th>595</th>\n",
       "      <td>TravelHacks</td>\n",
       "      <td>wallpapersdance</td>\n",
       "      <td>I don't understand. There are definitely many ...</td>\n",
       "      <td>Why are Emirates and Turkish Airlines such goo...</td>\n",
       "      <td>2022-05-20 14:33:33</td>\n",
       "      <td>I don't understand. There are definitely many ...</td>\n",
       "    </tr>\n",
       "    <tr>\n",
       "      <th>653</th>\n",
       "      <td>TravelHacks</td>\n",
       "      <td>wallpapersdance</td>\n",
       "      <td>Going to Athens Greece, never left USA before</td>\n",
       "      <td>When you withdraw money from an ATM at an airp...</td>\n",
       "      <td>2022-05-15 02:25:33</td>\n",
       "      <td>Going to Athens Greece, never left USA before ...</td>\n",
       "    </tr>\n",
       "    <tr>\n",
       "      <th>675</th>\n",
       "      <td>TravelHacks</td>\n",
       "      <td>wallpapersdance</td>\n",
       "      <td>1. What are some signs/clues tit is starting t...</td>\n",
       "      <td>Question for people who had compression sickne...</td>\n",
       "      <td>2022-05-12 01:24:09</td>\n",
       "      <td>1. What are some signs/clues tit is starting t...</td>\n",
       "    </tr>\n",
       "    <tr>\n",
       "      <th>706</th>\n",
       "      <td>TravelHacks</td>\n",
       "      <td>wallpapersdance</td>\n",
       "      <td>Virgin Atlantic World Elite Mastercard \\n\\n* *...</td>\n",
       "      <td>Anyone flown from D.C.-&amp;gt;Athens Greece with ...</td>\n",
       "      <td>2022-05-08 16:34:25</td>\n",
       "      <td>Virgin Atlantic World Elite Mastercard \\n\\n* *...</td>\n",
       "    </tr>\n",
       "    <tr>\n",
       "      <th>724</th>\n",
       "      <td>TravelHacks</td>\n",
       "      <td>wallpapersdance</td>\n",
       "      <td>\"its for shopping and emergency money\" -&amp;gt; t...</td>\n",
       "      <td>If you carry 5000-9000 USD in cash with you wh...</td>\n",
       "      <td>2022-05-06 00:55:51</td>\n",
       "      <td>\"its for shopping and emergency money\" -&amp;gt; t...</td>\n",
       "    </tr>\n",
       "    <tr>\n",
       "      <th>816</th>\n",
       "      <td>TravelHacks</td>\n",
       "      <td>wallpapersdance</td>\n",
       "      <td>&amp;amp;#x200B;\\n\\nA redditor told me this: ' Ple...</td>\n",
       "      <td>Any USA citizens succeeded in getting stuff bo...</td>\n",
       "      <td>2022-04-26 23:58:57</td>\n",
       "      <td>&amp;amp;#x200B;\\n\\nA redditor told me this: ' Ple...</td>\n",
       "    </tr>\n",
       "    <tr>\n",
       "      <th>824</th>\n",
       "      <td>TravelHacks</td>\n",
       "      <td>wallpapersdance</td>\n",
       "      <td>Current plan: bring only 100 physical euros at...</td>\n",
       "      <td>If I don't bring any physical Euros with me to...</td>\n",
       "      <td>2022-04-25 17:05:58</td>\n",
       "      <td>Current plan: bring only 100 physical euros at...</td>\n",
       "    </tr>\n",
       "    <tr>\n",
       "      <th>834</th>\n",
       "      <td>TravelHacks</td>\n",
       "      <td>wallpapersdance</td>\n",
       "      <td>I have a vaccine card from USA. Its getting br...</td>\n",
       "      <td>Questions for people who have tried out vaccin...</td>\n",
       "      <td>2022-04-24 21:27:20</td>\n",
       "      <td>I have a vaccine card from USA. Its getting br...</td>\n",
       "    </tr>\n",
       "    <tr>\n",
       "      <th>839</th>\n",
       "      <td>TravelHacks</td>\n",
       "      <td>wallpapersdance</td>\n",
       "      <td>My bank of america account doesn't have travel...</td>\n",
       "      <td>Questions for USA citizens who have been to Gr...</td>\n",
       "      <td>2022-04-24 11:02:46</td>\n",
       "      <td>My bank of america account doesn't have travel...</td>\n",
       "    </tr>\n",
       "    <tr>\n",
       "      <th>843</th>\n",
       "      <td>TravelHacks</td>\n",
       "      <td>wallpapersdance</td>\n",
       "      <td>\\n\\nI googled this' *Munich* is the capital a...</td>\n",
       "      <td>USA citizen. Flying from Athens Greece -&amp;gt; \"...</td>\n",
       "      <td>2022-04-23 16:40:41</td>\n",
       "      <td>\\n\\nI googled this' *Munich* is the capital a...</td>\n",
       "    </tr>\n",
       "    <tr>\n",
       "      <th>856</th>\n",
       "      <td>TravelHacks</td>\n",
       "      <td>wallpapersdance</td>\n",
       "      <td>I am not sure what to do. I don't really want ...</td>\n",
       "      <td>What are pros and cons of getting travel phone...</td>\n",
       "      <td>2022-04-22 03:00:01</td>\n",
       "      <td>I am not sure what to do. I don't really want ...</td>\n",
       "    </tr>\n",
       "    <tr>\n",
       "      <th>864</th>\n",
       "      <td>TravelHacks</td>\n",
       "      <td>wallpapersdance</td>\n",
       "      <td>Is it open 24/7? Is there always staff there t...</td>\n",
       "      <td>Are the seats next to the airplane entrance/de...</td>\n",
       "      <td>2022-04-21 14:14:08</td>\n",
       "      <td>Is it open 24/7? Is there always staff there t...</td>\n",
       "    </tr>\n",
       "    <tr>\n",
       "      <th>867</th>\n",
       "      <td>TravelHacks</td>\n",
       "      <td>wallpapersdance</td>\n",
       "      <td>' **United Explorer cardholders get two one-ti...</td>\n",
       "      <td>Lounges paid with credit card points/miles-&amp;gt...</td>\n",
       "      <td>2022-04-21 01:58:11</td>\n",
       "      <td>' **United Explorer cardholders get two one-ti...</td>\n",
       "    </tr>\n",
       "    <tr>\n",
       "      <th>883</th>\n",
       "      <td>TravelHacks</td>\n",
       "      <td>wallpapersdance</td>\n",
       "      <td>Also is it a bad idea to put google pay on a s...</td>\n",
       "      <td>What USA credit cards are useable + have a sig...</td>\n",
       "      <td>2022-04-19 13:08:00</td>\n",
       "      <td>Also is it a bad idea to put google pay on a s...</td>\n",
       "    </tr>\n",
       "    <tr>\n",
       "      <th>884</th>\n",
       "      <td>TravelHacks</td>\n",
       "      <td>wallpapersdance</td>\n",
       "      <td>If I take it off, idk would it help to like dr...</td>\n",
       "      <td>Is it realistic to be able to keep a mask on i...</td>\n",
       "      <td>2022-04-19 13:03:00</td>\n",
       "      <td>If I take it off, idk would it help to like dr...</td>\n",
       "    </tr>\n",
       "    <tr>\n",
       "      <th>896</th>\n",
       "      <td>TravelHacks</td>\n",
       "      <td>wallpapersdance</td>\n",
       "      <td>Dunno, should I bring a towel with me on the p...</td>\n",
       "      <td>If I don't have a neck pillow, what else could...</td>\n",
       "      <td>2022-04-18 01:09:38</td>\n",
       "      <td>Dunno, should I bring a towel with me on the p...</td>\n",
       "    </tr>\n",
       "    <tr>\n",
       "      <th>903</th>\n",
       "      <td>TravelHacks</td>\n",
       "      <td>wallpapersdance</td>\n",
       "      <td>Trying to figure out what to bring, what docum...</td>\n",
       "      <td>How do you figure out to call the consulate vs...</td>\n",
       "      <td>2022-04-17 01:34:29</td>\n",
       "      <td>Trying to figure out what to bring, what docum...</td>\n",
       "    </tr>\n",
       "    <tr>\n",
       "      <th>917</th>\n",
       "      <td>TravelHacks</td>\n",
       "      <td>wallpapersdance</td>\n",
       "      <td>I am pretty hesitant to swap out my existing ...</td>\n",
       "      <td>In the Athens Airport, can you buy a cheap tra...</td>\n",
       "      <td>2022-04-14 23:18:20</td>\n",
       "      <td>I am pretty hesitant to swap out my existing ...</td>\n",
       "    </tr>\n",
       "    <tr>\n",
       "      <th>935</th>\n",
       "      <td>TravelHacks</td>\n",
       "      <td>wallpapersdance</td>\n",
       "      <td>Trying to have plan B, Plan C so I'm less stre...</td>\n",
       "      <td>What backup plans should I have if I ever lose...</td>\n",
       "      <td>2022-04-12 19:48:02</td>\n",
       "      <td>Trying to have plan B, Plan C so I'm less stre...</td>\n",
       "    </tr>\n",
       "    <tr>\n",
       "      <th>959</th>\n",
       "      <td>TravelHacks</td>\n",
       "      <td>wallpapersdance</td>\n",
       "      <td>' TOURIST VISA REQUIRED:\\n\\nNot required for s...</td>\n",
       "      <td>Booked my return flight back to USA from Greec...</td>\n",
       "      <td>2022-04-10 02:37:04</td>\n",
       "      <td>' TOURIST VISA REQUIRED:\\n\\nNot required for s...</td>\n",
       "    </tr>\n",
       "    <tr>\n",
       "      <th>961</th>\n",
       "      <td>TravelHacks</td>\n",
       "      <td>wallpapersdance</td>\n",
       "      <td>Do I need to worry about the passenger locator...</td>\n",
       "      <td>USA citizen going to Athens, Greece for 3 mont...</td>\n",
       "      <td>2022-04-09 19:46:58</td>\n",
       "      <td>Do I need to worry about the passenger locator...</td>\n",
       "    </tr>\n",
       "    <tr>\n",
       "      <th>988</th>\n",
       "      <td>TravelHacks</td>\n",
       "      <td>wallpapersdance</td>\n",
       "      <td>If they see capsules w/ plant dust/herbs in it...</td>\n",
       "      <td>Bad idea to bring my Dr. Fuhrman's plant-based...</td>\n",
       "      <td>2022-04-07 01:40:46</td>\n",
       "      <td>If they see capsules w/ plant dust/herbs in it...</td>\n",
       "    </tr>\n",
       "    <tr>\n",
       "      <th>1095</th>\n",
       "      <td>TravelHacks</td>\n",
       "      <td>wallpapersdance</td>\n",
       "      <td>Some ideas so far:\\n\\n\\- I'll mostly stay in t...</td>\n",
       "      <td>As a guest/customer/visitor, when writing your...</td>\n",
       "      <td>2022-03-26 21:01:42</td>\n",
       "      <td>Some ideas so far:\\n\\n\\- I'll mostly stay in t...</td>\n",
       "    </tr>\n",
       "    <tr>\n",
       "      <th>1100</th>\n",
       "      <td>TravelHacks</td>\n",
       "      <td>wallpapersdance</td>\n",
       "      <td>See pic for what I mean by number of guest:\\n\\...</td>\n",
       "      <td>The number of guests listed for AirBnbs- so if...</td>\n",
       "      <td>2022-03-26 14:14:42</td>\n",
       "      <td>See pic for what I mean by number of guest:\\n\\...</td>\n",
       "    </tr>\n",
       "    <tr>\n",
       "      <th>1105</th>\n",
       "      <td>TravelHacks</td>\n",
       "      <td>wallpapersdance</td>\n",
       "      <td>Gonna be in crutches and then cane while recov...</td>\n",
       "      <td>What are the easiest things to accidentally br...</td>\n",
       "      <td>2022-03-25 01:38:11</td>\n",
       "      <td>Gonna be in crutches and then cane while recov...</td>\n",
       "    </tr>\n",
       "    <tr>\n",
       "      <th>1134</th>\n",
       "      <td>TravelHacks</td>\n",
       "      <td>wallpapersdance</td>\n",
       "      <td>Never been to an airbnb before, trying to find...</td>\n",
       "      <td>What are the most common ways airbnb guests ac...</td>\n",
       "      <td>2022-03-21 12:28:03</td>\n",
       "      <td>Never been to an airbnb before, trying to find...</td>\n",
       "    </tr>\n",
       "    <tr>\n",
       "      <th>1234</th>\n",
       "      <td>TravelHacks</td>\n",
       "      <td>wallpapersdance</td>\n",
       "      <td>[https://travel.gov.gr/](https://travel.gov.gr...</td>\n",
       "      <td>Are these Greek travel government/embassy webs...</td>\n",
       "      <td>2022-03-06 18:28:46</td>\n",
       "      <td>[https://travel.gov.gr/](https://travel.gov.gr...</td>\n",
       "    </tr>\n",
       "    <tr>\n",
       "      <th>1316</th>\n",
       "      <td>TravelHacks</td>\n",
       "      <td>wallpapersdance</td>\n",
       "      <td>\\n\\nWhat has your experience been like?</td>\n",
       "      <td>In August, is it generally cheaper to fly from...</td>\n",
       "      <td>2022-02-20 04:41:27</td>\n",
       "      <td>\\n\\nWhat has your experience been like? In Au...</td>\n",
       "    </tr>\n",
       "  </tbody>\n",
       "</table>\n",
       "</div>"
      ],
      "text/plain": [
       "        subreddit           author  \\\n",
       "303   TravelHacks  wallpapersdance   \n",
       "331   TravelHacks  wallpapersdance   \n",
       "401   TravelHacks  wallpapersdance   \n",
       "454   TravelHacks  wallpapersdance   \n",
       "478   TravelHacks  wallpapersdance   \n",
       "481   TravelHacks  wallpapersdance   \n",
       "486   TravelHacks  wallpapersdance   \n",
       "523   TravelHacks  wallpapersdance   \n",
       "595   TravelHacks  wallpapersdance   \n",
       "653   TravelHacks  wallpapersdance   \n",
       "675   TravelHacks  wallpapersdance   \n",
       "706   TravelHacks  wallpapersdance   \n",
       "724   TravelHacks  wallpapersdance   \n",
       "816   TravelHacks  wallpapersdance   \n",
       "824   TravelHacks  wallpapersdance   \n",
       "834   TravelHacks  wallpapersdance   \n",
       "839   TravelHacks  wallpapersdance   \n",
       "843   TravelHacks  wallpapersdance   \n",
       "856   TravelHacks  wallpapersdance   \n",
       "864   TravelHacks  wallpapersdance   \n",
       "867   TravelHacks  wallpapersdance   \n",
       "883   TravelHacks  wallpapersdance   \n",
       "884   TravelHacks  wallpapersdance   \n",
       "896   TravelHacks  wallpapersdance   \n",
       "903   TravelHacks  wallpapersdance   \n",
       "917   TravelHacks  wallpapersdance   \n",
       "935   TravelHacks  wallpapersdance   \n",
       "959   TravelHacks  wallpapersdance   \n",
       "961   TravelHacks  wallpapersdance   \n",
       "988   TravelHacks  wallpapersdance   \n",
       "1095  TravelHacks  wallpapersdance   \n",
       "1100  TravelHacks  wallpapersdance   \n",
       "1105  TravelHacks  wallpapersdance   \n",
       "1134  TravelHacks  wallpapersdance   \n",
       "1234  TravelHacks  wallpapersdance   \n",
       "1316  TravelHacks  wallpapersdance   \n",
       "\n",
       "                                               selftext  \\\n",
       "303   1. For flights out of the USA, does anything b...   \n",
       "331   Gonna fly to Greece, gonna swap out my verizon...   \n",
       "401   Afraid of accounts freezing, not all allow tra...   \n",
       "454                                   How do I do this?   \n",
       "478   What kind of container? What should you label ...   \n",
       "481   I know they are two different countries. So wi...   \n",
       "486   Are there some kinds of glass more durable (wh...   \n",
       "523                                  In USA for example   \n",
       "595   I don't understand. There are definitely many ...   \n",
       "653       Going to Athens Greece, never left USA before   \n",
       "675   1. What are some signs/clues tit is starting t...   \n",
       "706   Virgin Atlantic World Elite Mastercard \\n\\n* *...   \n",
       "724   \"its for shopping and emergency money\" -&gt; t...   \n",
       "816   &amp;#x200B;\\n\\nA redditor told me this: ' Ple...   \n",
       "824   Current plan: bring only 100 physical euros at...   \n",
       "834   I have a vaccine card from USA. Its getting br...   \n",
       "839   My bank of america account doesn't have travel...   \n",
       "843    \\n\\nI googled this' *Munich* is the capital a...   \n",
       "856   I am not sure what to do. I don't really want ...   \n",
       "864   Is it open 24/7? Is there always staff there t...   \n",
       "867   ' **United Explorer cardholders get two one-ti...   \n",
       "883   Also is it a bad idea to put google pay on a s...   \n",
       "884   If I take it off, idk would it help to like dr...   \n",
       "896   Dunno, should I bring a towel with me on the p...   \n",
       "903   Trying to figure out what to bring, what docum...   \n",
       "917    I am pretty hesitant to swap out my existing ...   \n",
       "935   Trying to have plan B, Plan C so I'm less stre...   \n",
       "959   ' TOURIST VISA REQUIRED:\\n\\nNot required for s...   \n",
       "961   Do I need to worry about the passenger locator...   \n",
       "988   If they see capsules w/ plant dust/herbs in it...   \n",
       "1095  Some ideas so far:\\n\\n\\- I'll mostly stay in t...   \n",
       "1100  See pic for what I mean by number of guest:\\n\\...   \n",
       "1105  Gonna be in crutches and then cane while recov...   \n",
       "1134  Never been to an airbnb before, trying to find...   \n",
       "1234  [https://travel.gov.gr/](https://travel.gov.gr...   \n",
       "1316            \\n\\nWhat has your experience been like?   \n",
       "\n",
       "                                                  title          created_utc  \\\n",
       "303   Questions for people who know alot about good ...  2022-06-22 04:49:07   \n",
       "331   Questions for people who know alot about SIM c...  2022-06-19 05:21:08   \n",
       "401   USA citizen. Going to Athens Greece. Money is ...  2022-06-10 21:52:04   \n",
       "454   USA citizen going to Greece for 3 months. Bank...  2022-06-05 04:22:34   \n",
       "478   When you are flying for a long trip and are br...  2022-06-03 03:51:05   \n",
       "481   If I get a SIM card in Athens Greece arirport,...  2022-06-02 20:39:43   \n",
       "486   When buying a cheap travel phone, what feature...  2022-06-02 14:01:14   \n",
       "523   How much does it cost and how many days should...  2022-05-30 10:42:48   \n",
       "595   Why are Emirates and Turkish Airlines such goo...  2022-05-20 14:33:33   \n",
       "653   When you withdraw money from an ATM at an airp...  2022-05-15 02:25:33   \n",
       "675   Question for people who had compression sickne...  2022-05-12 01:24:09   \n",
       "706   Anyone flown from D.C.-&gt;Athens Greece with ...  2022-05-08 16:34:25   \n",
       "724   If you carry 5000-9000 USD in cash with you wh...  2022-05-06 00:55:51   \n",
       "816   Any USA citizens succeeded in getting stuff bo...  2022-04-26 23:58:57   \n",
       "824   If I don't bring any physical Euros with me to...  2022-04-25 17:05:58   \n",
       "834   Questions for people who have tried out vaccin...  2022-04-24 21:27:20   \n",
       "839   Questions for USA citizens who have been to Gr...  2022-04-24 11:02:46   \n",
       "843   USA citizen. Flying from Athens Greece -&gt; \"...  2022-04-23 16:40:41   \n",
       "856   What are pros and cons of getting travel phone...  2022-04-22 03:00:01   \n",
       "864   Are the seats next to the airplane entrance/de...  2022-04-21 14:14:08   \n",
       "867   Lounges paid with credit card points/miles-&gt...  2022-04-21 01:58:11   \n",
       "883   What USA credit cards are useable + have a sig...  2022-04-19 13:08:00   \n",
       "884   Is it realistic to be able to keep a mask on i...  2022-04-19 13:03:00   \n",
       "896   If I don't have a neck pillow, what else could...  2022-04-18 01:09:38   \n",
       "903   How do you figure out to call the consulate vs...  2022-04-17 01:34:29   \n",
       "917   In the Athens Airport, can you buy a cheap tra...  2022-04-14 23:18:20   \n",
       "935   What backup plans should I have if I ever lose...  2022-04-12 19:48:02   \n",
       "959   Booked my return flight back to USA from Greec...  2022-04-10 02:37:04   \n",
       "961   USA citizen going to Athens, Greece for 3 mont...  2022-04-09 19:46:58   \n",
       "988   Bad idea to bring my Dr. Fuhrman's plant-based...  2022-04-07 01:40:46   \n",
       "1095  As a guest/customer/visitor, when writing your...  2022-03-26 21:01:42   \n",
       "1100  The number of guests listed for AirBnbs- so if...  2022-03-26 14:14:42   \n",
       "1105  What are the easiest things to accidentally br...  2022-03-25 01:38:11   \n",
       "1134  What are the most common ways airbnb guests ac...  2022-03-21 12:28:03   \n",
       "1234  Are these Greek travel government/embassy webs...  2022-03-06 18:28:46   \n",
       "1316  In August, is it generally cheaper to fly from...  2022-02-20 04:41:27   \n",
       "\n",
       "                                         selftext_title  \n",
       "303   1. For flights out of the USA, does anything b...  \n",
       "331   Gonna fly to Greece, gonna swap out my verizon...  \n",
       "401   Afraid of accounts freezing, not all allow tra...  \n",
       "454   How do I do this? USA citizen going to Greece ...  \n",
       "478   What kind of container? What should you label ...  \n",
       "481   I know they are two different countries. So wi...  \n",
       "486   Are there some kinds of glass more durable (wh...  \n",
       "523   In USA for example How much does it cost and h...  \n",
       "595   I don't understand. There are definitely many ...  \n",
       "653   Going to Athens Greece, never left USA before ...  \n",
       "675   1. What are some signs/clues tit is starting t...  \n",
       "706   Virgin Atlantic World Elite Mastercard \\n\\n* *...  \n",
       "724   \"its for shopping and emergency money\" -&gt; t...  \n",
       "816   &amp;#x200B;\\n\\nA redditor told me this: ' Ple...  \n",
       "824   Current plan: bring only 100 physical euros at...  \n",
       "834   I have a vaccine card from USA. Its getting br...  \n",
       "839   My bank of america account doesn't have travel...  \n",
       "843    \\n\\nI googled this' *Munich* is the capital a...  \n",
       "856   I am not sure what to do. I don't really want ...  \n",
       "864   Is it open 24/7? Is there always staff there t...  \n",
       "867   ' **United Explorer cardholders get two one-ti...  \n",
       "883   Also is it a bad idea to put google pay on a s...  \n",
       "884   If I take it off, idk would it help to like dr...  \n",
       "896   Dunno, should I bring a towel with me on the p...  \n",
       "903   Trying to figure out what to bring, what docum...  \n",
       "917    I am pretty hesitant to swap out my existing ...  \n",
       "935   Trying to have plan B, Plan C so I'm less stre...  \n",
       "959   ' TOURIST VISA REQUIRED:\\n\\nNot required for s...  \n",
       "961   Do I need to worry about the passenger locator...  \n",
       "988   If they see capsules w/ plant dust/herbs in it...  \n",
       "1095  Some ideas so far:\\n\\n\\- I'll mostly stay in t...  \n",
       "1100  See pic for what I mean by number of guest:\\n\\...  \n",
       "1105  Gonna be in crutches and then cane while recov...  \n",
       "1134  Never been to an airbnb before, trying to find...  \n",
       "1234  [https://travel.gov.gr/](https://travel.gov.gr...  \n",
       "1316   \\n\\nWhat has your experience been like? In Au...  "
      ]
     },
     "execution_count": 9,
     "metadata": {},
     "output_type": "execute_result"
    }
   ],
   "source": [
    "travelhacks_df[travelhacks_df['author']=='wallpapersdance']"
   ]
  },
  {
   "cell_type": "markdown",
   "id": "ec5663d8-def2-48d3-bbb1-449b2f7053ce",
   "metadata": {
    "tags": []
   },
   "source": [
    "#### Retrieve Top 10 Recurring Words\n",
    "1. From the top 10 occurring words, two of the words observed were 'want' and 'need'. They may mean the same thing in the context of the submissions.\n",
    "2. 'flight' is one of the top recurring words. It may be inferred that one of the key discussions in TravelHacks is 'flight' related."
   ]
  },
  {
   "cell_type": "markdown",
   "id": "f44543df-184e-49e7-a7ec-106301802073",
   "metadata": {},
   "source": [
    "##### Define find_top10 function\n",
    "Function aims to find top 10 recurring words in the dataframe columns."
   ]
  },
  {
   "cell_type": "code",
   "execution_count": 10,
   "id": "f86f1ff4-4a11-4393-9de3-4dd366f04f28",
   "metadata": {},
   "outputs": [],
   "source": [
    "def find_top10(df, stop_words='english'):\n",
    "    \n",
    "    # Instantiate a CountVectorizer.\n",
    "    cvec = CountVectorizer(stop_words=stop_words)\n",
    "    \n",
    "    # Instantiate the \"CountVectorizer\" object, which is sklearn's\n",
    "    # bag of words tool.\n",
    "    cvec_title = cvec.fit_transform(df['selftext_title'])\n",
    "    \n",
    "    # Convert into Dataframe\n",
    "    cvec_title = pd.DataFrame(cvec_title.toarray(), \n",
    "                              columns=cvec.get_feature_names())\n",
    "    \n",
    "    # plot top occuring words\n",
    "    plt.figure(figsize=(8, 8))\n",
    "    cvec_title.sum().sort_values(ascending=False).head(10).plot(kind='barh');\n",
    "    plt.title('Top 10 Occuring Words', size=10);\n",
    "    \n",
    "    pass"
   ]
  },
  {
   "cell_type": "code",
   "execution_count": 11,
   "id": "71cc0999-2f42-49cd-8c26-01bf39c88d8a",
   "metadata": {},
   "outputs": [
    {
     "name": "stderr",
     "output_type": "stream",
     "text": [
      "C:\\Users\\Wende.Joanne\\anaconda3\\lib\\site-packages\\sklearn\\utils\\deprecation.py:87: FutureWarning: Function get_feature_names is deprecated; get_feature_names is deprecated in 1.0 and will be removed in 1.2. Please use get_feature_names_out instead.\n",
      "  warnings.warn(msg, category=FutureWarning)\n"
     ]
    },
    {
     "data": {
      "image/png": "[encoded data removed]",
      "text/plain": [
       "<Figure size 576x576 with 1 Axes>"
      ]
     },
     "metadata": {
      "needs_background": "light"
     },
     "output_type": "display_data"
    }
   ],
   "source": [
    "find_top10(travelhacks_df)"
   ]
  },
  {
   "cell_type": "markdown",
   "id": "406a0b17-44e5-458d-a2b6-375c2d958c9c",
   "metadata": {
    "tags": []
   },
   "source": [
    "#### Sentiment Analysis\n",
    "Submissions with index 12, 488, 587, 719, 1175, 1236 may be relevant to travelling in australia. \n",
    "- Of the six submissions, three submissions are related to cost of car rental, included incurring additional cost due to mistakes made by car rental company. The project could consider attracting more car rental companies to operate at the airport to provide more economical solutions (increase supply will lower costs). Grading systems for car rental companies would be beneficial for traveller to make better informed decisions and partner with a more trustworthy rental company. \n",
    "- Two of the submissions were related to COVID test results. Travellers were worried about testing positive during the trip. The project can explore formulating policy to support travellers who are tested positively to recoup some of the costs incurred during planning or to delay their trip. One of which mentioned about insurance coverage. Given the uncertainty of the evolving Covid measures, it is important that travel insurance covers the unfortunate event that a traveller being infected by Covid. The project can consider partnering travel insurance agency to provide such coverage for this event. "
   ]
  },
  {
   "cell_type": "markdown",
   "id": "e32e080e-ed90-4c0c-be0b-9abd00457271",
   "metadata": {},
   "source": [
    "##### Define get_sentiment Function\n",
    "The function aims to plot the sentiments of the text columns. "
   ]
  },
  {
   "cell_type": "code",
   "execution_count": 12,
   "id": "b9c24db6-eccb-494e-b141-e969ddd6878c",
   "metadata": {},
   "outputs": [],
   "source": [
    "def get_sentiment(df):\n",
    "\n",
    "    # Instantiate Sentiment Intensity Analyzer\n",
    "    sent = SentimentIntensityAnalyzer()\n",
    "\n",
    "    # Create Column to Input Calculated Sentiment\n",
    "    df['sentiment'] = df['selftext_title'].map(\n",
    "        lambda text: sent.polarity_scores(text)['compound']\n",
    "    )\n",
    "    \n",
    "    # Plot distribution of sentiments.\n",
    "    plt.figure(figsize=(8, 8))\n",
    "    sns.histplot(df['sentiment']);\n",
    "    plt.axvline(0, color='k', linewidth=1,label='Neutral');\n",
    "    plt.axvline(df['sentiment'].mean(), \n",
    "                color='r', \n",
    "                linestyle='dashed', \n",
    "                linewidth=1,\n",
    "                label=\"Mean Sentiment\");\n",
    "    plt.title(df['subreddit'][0], size=15)\n",
    "    plt.legend();\n",
    "        \n",
    "    return df"
   ]
  },
  {
   "cell_type": "code",
   "execution_count": 13,
   "id": "6be61cd8-6790-4ead-b654-0a91c7f7707e",
   "metadata": {},
   "outputs": [
    {
     "data": {
      "image/png": "[encoded data removed]",
      "text/plain": [
       "<Figure size 576x576 with 1 Axes>"
      ]
     },
     "metadata": {
      "needs_background": "light"
     },
     "output_type": "display_data"
    }
   ],
   "source": [
    "# Get sentiments of 'selftext_title' column\n",
    "travelhacks_sentiments = get_sentiment(travelhacks_df)"
   ]
  },
  {
   "cell_type": "code",
   "execution_count": 14,
   "id": "b54ae4b1-94dc-4f21-8011-e4a76033d25e",
   "metadata": {},
   "outputs": [
    {
     "data": {
      "text/html": [
       "<div>\n",
       "<style scoped>\n",
       "    .dataframe tbody tr th:only-of-type {\n",
       "        vertical-align: middle;\n",
       "    }\n",
       "\n",
       "    .dataframe tbody tr th {\n",
       "        vertical-align: top;\n",
       "    }\n",
       "\n",
       "    .dataframe thead th {\n",
       "        text-align: right;\n",
       "    }\n",
       "</style>\n",
       "<table border=\"1\" class=\"dataframe\">\n",
       "  <thead>\n",
       "    <tr style=\"text-align: right;\">\n",
       "      <th></th>\n",
       "      <th>subreddit</th>\n",
       "      <th>author</th>\n",
       "      <th>selftext</th>\n",
       "      <th>title</th>\n",
       "      <th>created_utc</th>\n",
       "      <th>selftext_title</th>\n",
       "      <th>sentiment</th>\n",
       "    </tr>\n",
       "  </thead>\n",
       "  <tbody>\n",
       "    <tr>\n",
       "      <th>12</th>\n",
       "      <td>TravelHacks</td>\n",
       "      <td>ShoeStatus2431</td>\n",
       "      <td>I booked with Agoda in January. The booking co...</td>\n",
       "      <td>Don't book with Agoda - they are scammers</td>\n",
       "      <td>2022-07-19 07:27:49</td>\n",
       "      <td>I booked with Agoda in January. The booking co...</td>\n",
       "      <td>-0.9293</td>\n",
       "    </tr>\n",
       "    <tr>\n",
       "      <th>32</th>\n",
       "      <td>TravelHacks</td>\n",
       "      <td>spicyradler</td>\n",
       "      <td>I'm reaching the end of my study abroad progra...</td>\n",
       "      <td>Best way to ship suitcases internationally? (s...</td>\n",
       "      <td>2022-07-17 20:22:28</td>\n",
       "      <td>I'm reaching the end of my study abroad progra...</td>\n",
       "      <td>-0.9047</td>\n",
       "    </tr>\n",
       "    <tr>\n",
       "      <th>42</th>\n",
       "      <td>TravelHacks</td>\n",
       "      <td>god_lucky</td>\n",
       "      <td>I had a flight from my country to South Korea ...</td>\n",
       "      <td>Wrongly refused to check in my Emirates crew, ...</td>\n",
       "      <td>2022-07-17 09:15:31</td>\n",
       "      <td>I had a flight from my country to South Korea ...</td>\n",
       "      <td>-0.9552</td>\n",
       "    </tr>\n",
       "    <tr>\n",
       "      <th>145</th>\n",
       "      <td>TravelHacks</td>\n",
       "      <td>Nocturndream</td>\n",
       "      <td>I live in Texas I hate the heat and everything...</td>\n",
       "      <td>I’m so sick of my town</td>\n",
       "      <td>2022-07-07 07:43:25</td>\n",
       "      <td>I live in Texas I hate the heat and everything...</td>\n",
       "      <td>-0.9423</td>\n",
       "    </tr>\n",
       "    <tr>\n",
       "      <th>275</th>\n",
       "      <td>TravelHacks</td>\n",
       "      <td>graceeh67</td>\n",
       "      <td>I’m trying to buy tickets from Missoula, MT to...</td>\n",
       "      <td>Looking for advice on whether to buy now or wa...</td>\n",
       "      <td>2022-06-24 17:18:19</td>\n",
       "      <td>I’m trying to buy tickets from Missoula, MT to...</td>\n",
       "      <td>-0.9224</td>\n",
       "    </tr>\n",
       "    <tr>\n",
       "      <th>276</th>\n",
       "      <td>TravelHacks</td>\n",
       "      <td>CAElite</td>\n",
       "      <td>Hey folks\\n\\nSo last week I went on a work tri...</td>\n",
       "      <td>UK &amp;lt;&amp;gt; USA Flight delays, how do I find o...</td>\n",
       "      <td>2022-06-24 14:53:39</td>\n",
       "      <td>Hey folks\\n\\nSo last week I went on a work tri...</td>\n",
       "      <td>-0.9363</td>\n",
       "    </tr>\n",
       "    <tr>\n",
       "      <th>412</th>\n",
       "      <td>TravelHacks</td>\n",
       "      <td>sweetdreamsandbrie</td>\n",
       "      <td>I saw this ad on Facebook from a company calle...</td>\n",
       "      <td>Is 2FN Travel a legitimate business or a scam?</td>\n",
       "      <td>2022-06-10 00:09:23</td>\n",
       "      <td>I saw this ad on Facebook from a company calle...</td>\n",
       "      <td>-0.9220</td>\n",
       "    </tr>\n",
       "    <tr>\n",
       "      <th>488</th>\n",
       "      <td>TravelHacks</td>\n",
       "      <td>dingle__berries</td>\n",
       "      <td>Tried posting in r/Travel but auto-rejects thi...</td>\n",
       "      <td>Was told Pre-Paid Rental Car unavailable 1 day...</td>\n",
       "      <td>2022-06-02 04:33:12</td>\n",
       "      <td>Tried posting in r/Travel but auto-rejects thi...</td>\n",
       "      <td>-0.9752</td>\n",
       "    </tr>\n",
       "    <tr>\n",
       "      <th>507</th>\n",
       "      <td>TravelHacks</td>\n",
       "      <td>AdmirableManagement2</td>\n",
       "      <td>Are there any ferries that allow dogs from FL ...</td>\n",
       "      <td>How to get my dog to DR from Florida?</td>\n",
       "      <td>2022-05-31 16:03:39</td>\n",
       "      <td>Are there any ferries that allow dogs from FL ...</td>\n",
       "      <td>-0.9420</td>\n",
       "    </tr>\n",
       "    <tr>\n",
       "      <th>587</th>\n",
       "      <td>TravelHacks</td>\n",
       "      <td>Kottyforeman22</td>\n",
       "      <td>I prepaid for a reservation for a Car rental f...</td>\n",
       "      <td>How to get compensation from Rental Car compan...</td>\n",
       "      <td>2022-05-23 20:45:03</td>\n",
       "      <td>I prepaid for a reservation for a Car rental f...</td>\n",
       "      <td>-0.9540</td>\n",
       "    </tr>\n",
       "    <tr>\n",
       "      <th>719</th>\n",
       "      <td>TravelHacks</td>\n",
       "      <td>EndTheFedBanksters</td>\n",
       "      <td>I'm planning a trip for my family to Korea thi...</td>\n",
       "      <td>Does travel insurance cover the cost of all fo...</td>\n",
       "      <td>2022-05-06 16:55:14</td>\n",
       "      <td>I'm planning a trip for my family to Korea thi...</td>\n",
       "      <td>-0.9382</td>\n",
       "    </tr>\n",
       "    <tr>\n",
       "      <th>905</th>\n",
       "      <td>TravelHacks</td>\n",
       "      <td>upward_spiral00</td>\n",
       "      <td>hello gentlemen.\\n\\nhow do you deal with anxie...</td>\n",
       "      <td>Anxiety and Overthinking?</td>\n",
       "      <td>2022-04-16 21:37:57</td>\n",
       "      <td>hello gentlemen.\\n\\nhow do you deal with anxie...</td>\n",
       "      <td>-0.9050</td>\n",
       "    </tr>\n",
       "    <tr>\n",
       "      <th>929</th>\n",
       "      <td>TravelHacks</td>\n",
       "      <td>Alchemist8810</td>\n",
       "      <td>So I have some criminal charges spanning a few...</td>\n",
       "      <td>Traveling to Barbados from Canada with a crimi...</td>\n",
       "      <td>2022-04-13 05:46:03</td>\n",
       "      <td>So I have some criminal charges spanning a few...</td>\n",
       "      <td>-0.9446</td>\n",
       "    </tr>\n",
       "    <tr>\n",
       "      <th>995</th>\n",
       "      <td>TravelHacks</td>\n",
       "      <td>dktrZERO</td>\n",
       "      <td>I had one of the worst travel experiences in a...</td>\n",
       "      <td>Got royally screwed by JetBlue</td>\n",
       "      <td>2022-04-06 19:28:42</td>\n",
       "      <td>I had one of the worst travel experiences in a...</td>\n",
       "      <td>-0.9194</td>\n",
       "    </tr>\n",
       "    <tr>\n",
       "      <th>996</th>\n",
       "      <td>TravelHacks</td>\n",
       "      <td>StrategyLiving4180</td>\n",
       "      <td>I want to take my carry on and personal bag si...</td>\n",
       "      <td>Chances of over head space getting full and be...</td>\n",
       "      <td>2022-04-06 18:25:42</td>\n",
       "      <td>I want to take my carry on and personal bag si...</td>\n",
       "      <td>-0.9696</td>\n",
       "    </tr>\n",
       "    <tr>\n",
       "      <th>1175</th>\n",
       "      <td>TravelHacks</td>\n",
       "      <td>mmmkaaaayyy</td>\n",
       "      <td>So Im used to going places and renting cars fo...</td>\n",
       "      <td>Rant: rental car prices have gotten fucking IN...</td>\n",
       "      <td>2022-03-16 03:46:28</td>\n",
       "      <td>So Im used to going places and renting cars fo...</td>\n",
       "      <td>-0.9802</td>\n",
       "    </tr>\n",
       "    <tr>\n",
       "      <th>1236</th>\n",
       "      <td>TravelHacks</td>\n",
       "      <td>LumpySmurf</td>\n",
       "      <td>I hope this is the right sub to ask this quest...</td>\n",
       "      <td>Entering USA - Negative Test</td>\n",
       "      <td>2022-03-06 09:35:46</td>\n",
       "      <td>I hope this is the right sub to ask this quest...</td>\n",
       "      <td>-0.9287</td>\n",
       "    </tr>\n",
       "  </tbody>\n",
       "</table>\n",
       "</div>"
      ],
      "text/plain": [
       "        subreddit                author  \\\n",
       "12    TravelHacks        ShoeStatus2431   \n",
       "32    TravelHacks           spicyradler   \n",
       "42    TravelHacks             god_lucky   \n",
       "145   TravelHacks          Nocturndream   \n",
       "275   TravelHacks             graceeh67   \n",
       "276   TravelHacks               CAElite   \n",
       "412   TravelHacks    sweetdreamsandbrie   \n",
       "488   TravelHacks       dingle__berries   \n",
       "507   TravelHacks  AdmirableManagement2   \n",
       "587   TravelHacks        Kottyforeman22   \n",
       "719   TravelHacks    EndTheFedBanksters   \n",
       "905   TravelHacks       upward_spiral00   \n",
       "929   TravelHacks         Alchemist8810   \n",
       "995   TravelHacks              dktrZERO   \n",
       "996   TravelHacks    StrategyLiving4180   \n",
       "1175  TravelHacks           mmmkaaaayyy   \n",
       "1236  TravelHacks            LumpySmurf   \n",
       "\n",
       "                                               selftext  \\\n",
       "12    I booked with Agoda in January. The booking co...   \n",
       "32    I'm reaching the end of my study abroad progra...   \n",
       "42    I had a flight from my country to South Korea ...   \n",
       "145   I live in Texas I hate the heat and everything...   \n",
       "275   I’m trying to buy tickets from Missoula, MT to...   \n",
       "276   Hey folks\\n\\nSo last week I went on a work tri...   \n",
       "412   I saw this ad on Facebook from a company calle...   \n",
       "488   Tried posting in r/Travel but auto-rejects thi...   \n",
       "507   Are there any ferries that allow dogs from FL ...   \n",
       "587   I prepaid for a reservation for a Car rental f...   \n",
       "719   I'm planning a trip for my family to Korea thi...   \n",
       "905   hello gentlemen.\\n\\nhow do you deal with anxie...   \n",
       "929   So I have some criminal charges spanning a few...   \n",
       "995   I had one of the worst travel experiences in a...   \n",
       "996   I want to take my carry on and personal bag si...   \n",
       "1175  So Im used to going places and renting cars fo...   \n",
       "1236  I hope this is the right sub to ask this quest...   \n",
       "\n",
       "                                                  title          created_utc  \\\n",
       "12            Don't book with Agoda - they are scammers  2022-07-19 07:27:49   \n",
       "32    Best way to ship suitcases internationally? (s...  2022-07-17 20:22:28   \n",
       "42    Wrongly refused to check in my Emirates crew, ...  2022-07-17 09:15:31   \n",
       "145                              I’m so sick of my town  2022-07-07 07:43:25   \n",
       "275   Looking for advice on whether to buy now or wa...  2022-06-24 17:18:19   \n",
       "276   UK &lt;&gt; USA Flight delays, how do I find o...  2022-06-24 14:53:39   \n",
       "412      Is 2FN Travel a legitimate business or a scam?  2022-06-10 00:09:23   \n",
       "488   Was told Pre-Paid Rental Car unavailable 1 day...  2022-06-02 04:33:12   \n",
       "507               How to get my dog to DR from Florida?  2022-05-31 16:03:39   \n",
       "587   How to get compensation from Rental Car compan...  2022-05-23 20:45:03   \n",
       "719   Does travel insurance cover the cost of all fo...  2022-05-06 16:55:14   \n",
       "905                           Anxiety and Overthinking?  2022-04-16 21:37:57   \n",
       "929   Traveling to Barbados from Canada with a crimi...  2022-04-13 05:46:03   \n",
       "995                      Got royally screwed by JetBlue  2022-04-06 19:28:42   \n",
       "996   Chances of over head space getting full and be...  2022-04-06 18:25:42   \n",
       "1175  Rant: rental car prices have gotten fucking IN...  2022-03-16 03:46:28   \n",
       "1236                       Entering USA - Negative Test  2022-03-06 09:35:46   \n",
       "\n",
       "                                         selftext_title  sentiment  \n",
       "12    I booked with Agoda in January. The booking co...    -0.9293  \n",
       "32    I'm reaching the end of my study abroad progra...    -0.9047  \n",
       "42    I had a flight from my country to South Korea ...    -0.9552  \n",
       "145   I live in Texas I hate the heat and everything...    -0.9423  \n",
       "275   I’m trying to buy tickets from Missoula, MT to...    -0.9224  \n",
       "276   Hey folks\\n\\nSo last week I went on a work tri...    -0.9363  \n",
       "412   I saw this ad on Facebook from a company calle...    -0.9220  \n",
       "488   Tried posting in r/Travel but auto-rejects thi...    -0.9752  \n",
       "507   Are there any ferries that allow dogs from FL ...    -0.9420  \n",
       "587   I prepaid for a reservation for a Car rental f...    -0.9540  \n",
       "719   I'm planning a trip for my family to Korea thi...    -0.9382  \n",
       "905   hello gentlemen.\\n\\nhow do you deal with anxie...    -0.9050  \n",
       "929   So I have some criminal charges spanning a few...    -0.9446  \n",
       "995   I had one of the worst travel experiences in a...    -0.9194  \n",
       "996   I want to take my carry on and personal bag si...    -0.9696  \n",
       "1175  So Im used to going places and renting cars fo...    -0.9802  \n",
       "1236  I hope this is the right sub to ask this quest...    -0.9287  "
      ]
     },
     "execution_count": 14,
     "metadata": {},
     "output_type": "execute_result"
    }
   ],
   "source": [
    "# Display submissions with low sentiment score.\n",
    "travelhacks_sentiments[travelhacks_sentiments['sentiment'] <-0.9]"
   ]
  },
  {
   "cell_type": "code",
   "execution_count": 15,
   "id": "7ef60951-9859-4db7-90f9-3447b4ae8e81",
   "metadata": {},
   "outputs": [
    {
     "name": "stdout",
     "output_type": "stream",
     "text": [
      "Index 12: \n",
      "I booked with Agoda in January. The booking confirmation states a EUR amount but in fine print, it says the money will be converted to my local currency (DKK). Well, now the day came when Agoda was to charge the money, and lo-and-behold, they charge +17% on top of the official exchange rate! I've never experienced anything like this. I thought it must be a mistake or related taxes or something but the confirmation stated it was including all taxes (even listed the amounts). I contacted their customer support and they just stated it was all due to Agoda's conversion fee which was stated when I booked. But nowhere was it stated Agoda would put a +17% surcharge on the official conversion fee. I tried to insist and say it must be a mistake but they were unyielding. They just advised me I could cancel the booking. Trouble is, rebooking with another site would be much more expensive - there's a reason I booked 6 months in advance!\n",
      "\n",
      "I have only one word for this: Fraud. Even if they write that they are going to convert to DKK, there's no way they have the right to add 17% on top.\n",
      "\n",
      "\n",
      "Index 488: \n",
      "Tried posting in r/Travel but auto-rejects this question\n",
      "\n",
      "Was told Pre-Paid Rental Car unavailable 1 day before 2-week road trip. Advice?\n",
      "\n",
      "Booked and Pre-Purchased a non-refundable rental (cargo van) from Hertz directly in mid April for use of period of 2.5 weeks starting today. The afternoon 1 day before we are to pick up the vehicle get a call from local branch saying they won't have the vehicle and that it was a mistake that it was allowed to be booked (I've rented cargo vans from them in the past).\n",
      "\n",
      "All they would/could do is say sorry for the inconvenience, and try to pass me on the the corporate 1-800#.. I called that and after several hours still without any solution. They did mention I could get a large SUV from their \"sister\" company (Dollar) for an upgrade fee of $4800!\n",
      "\n",
      "As of right now now it is 18 hours from when we were to pick up the vehicle and no solution yet.. Any advice? I tried checking other rental companies and their prices are sky-high and no one else does cargo van. A larger SUV could work but not at that cost. Frustrating that they did this such short notice and unwilling to rectify their mistake.\n",
      "\n",
      "I don't understand the point of pre-paying for a rental months in advance just for them to say not available.\n",
      "\n",
      "\n",
      "Index 587: \n",
      "I prepaid for a reservation for a Car rental from Thrifty at ATL. The price was $214 for the weekend. I show up and they say they have to cars available, even though I (and about 10 other customers) had prepaid reservations. They told us to check back in the morning to see if cars were available then. I was in town for a wedding and had to drive through the night, so I was unable to wait until the morning, so I had to look to other options.\n",
      "\n",
      "It was late at night, so the only other Car rental company that was open and had cars was Budget. The cheapest car they had available was $590, so I had to rent from them.\n",
      "\n",
      "I called Thrifty the day after and requested they refund my down-payment and also compensate me for the nearly $400 financial loss that I incurred due to the price of the cheapest available car at the airport available for a last-minute booking.\n",
      "\n",
      "I understand that mistakes happen and companies are entitled to make mistakes, but companies should also rectify the situation with their customers when a mistake is made. In this case, Thrifty made a mistake by not correctly allocating the number of cars to fulfill my reservation, and it directly caused me to suffer a $400 financial loss,\n",
      "\n",
      "The are currently giving me the runaround and it does not seem like they'll be compensating me for the $400. How would I go about getting compensated for this mistake that Thrifty made?\n",
      "\n",
      "\n",
      "Index 719: \n",
      "I'm planning a trip for my family to Korea this fall but we all have to test negative for COVID before departure. If one or two of us get sick, we will need to cancel or delay the trip. Will travel insurance cover the flight refunds for the entire family if only a couple of us test positive and cannot go?\n",
      "\n",
      "\n",
      "Index 1175: \n",
      "So Im used to going places and renting cars for decent amounts - PRE pandemic. But now...? I and almost everyone are paying out of the ASS. Tell me, how much longer is this \"chip shortage\" going to last....? Because Im tired of \\[now\\] paying at least $460 a week for a fucking car and sometimes $515 (as it's the cheapest I can find for one week in May). I live out of state and liked to visit my home state every other month for 3-4 days. Now, it cost so much that I could literally finance a used and pay to keep it at the airport for TWO months the same amount as id pay to rent from the airport for ONE week. That alone just blows my mind. \n",
      "\n",
      "I mean what the actual fuck....? Nevermind rentals elsewhere, like in Alaska that went from $380/week last year to $1100 a week THIS year - yes thats the cheapest there is on Turo while last year $380 was from the airport. And for SUVs...? Yeah, theyre $1700 a week this summer, but were $420-480 a week last summer.\n",
      "\n",
      "Im just fed up with this shit. Clearly dealersbips and the whole industry is just out there trying to butt fuck every american, and theyre likely putting fewer cars out there to try to choke the supply so that everyone just pays more for less. \n",
      "\n",
      "Murica, I guess.\n",
      "\n",
      "\n",
      "Index 1236: \n",
      "I hope this is the right sub to ask this question but I'm reading conflicting stories on different websites. I will be flying to the US in late April via Istanbul. Do I need a negative test 24 hours or 3 days before flying? I'm  a US citizen.\n",
      "\n",
      "\n"
     ]
    }
   ],
   "source": [
    "# Retrieve selftext of post index 12, 488, 587, 719, 1175, 1236\n",
    "# they may be relevant to our project.\n",
    "\n",
    "for i in [12, 488, 587, 719, 1175, 1236]:\n",
    "    \n",
    "    selftext = travelhacks_sentiments.iloc[i]['selftext']\n",
    "    print(f'Index {i}: \\n{selftext}\\n\\n')"
   ]
  },
  {
   "cell_type": "markdown",
   "id": "0b7fa1ae-886c-406f-8709-0832d29dffe6",
   "metadata": {
    "tags": []
   },
   "source": [
    "### roadtrips Subreddit\n",
    "1. No anomaly is observed on the number of submissions by the users.\n",
    "2. Of the top 10 recurring words, 'drive' & 'driving' and 'day' and 'days' were observed. Stemming will be conducted to group these words together so that more distinct words would be included.  \n",
    "3. Submissions with index 388, 477, 709, 804, 853 may be relevant to travelling in australia. \n",
    "    - Two of the submissions, index 388 and 477, are related to safety of driving through areas that may not be safe. The project may review the typical route for road trips in Australia pass through areas that are safe. Police stations could be situated at intervals along the typical routes to assure travellers or assist travellers if needed. \n",
    "    - Two of the submissions, index 709 and 804, are related to long drive and are concern about the effects of having long drive. The project may considor building attractions or amenities pit stop along typical scenic route in Australia so that travellers could take breaks in between long drives.    "
   ]
  },
  {
   "cell_type": "markdown",
   "id": "fbfec4c7-8d9b-479d-9cdc-932c0dc0dd41",
   "metadata": {
    "tags": []
   },
   "source": [
    "\n",
    "#### Review Number of Submissions based on Users\n",
    "No anomaly is observed on the number of submissions by the users."
   ]
  },
  {
   "cell_type": "code",
   "execution_count": 16,
   "id": "a87979e7-dc31-494e-8e78-e4d812adc8a3",
   "metadata": {},
   "outputs": [
    {
     "data": {
      "text/html": [
       "<div>\n",
       "<style scoped>\n",
       "    .dataframe tbody tr th:only-of-type {\n",
       "        vertical-align: middle;\n",
       "    }\n",
       "\n",
       "    .dataframe tbody tr th {\n",
       "        vertical-align: top;\n",
       "    }\n",
       "\n",
       "    .dataframe thead th {\n",
       "        text-align: right;\n",
       "    }\n",
       "</style>\n",
       "<table border=\"1\" class=\"dataframe\">\n",
       "  <thead>\n",
       "    <tr style=\"text-align: right;\">\n",
       "      <th></th>\n",
       "      <th>index</th>\n",
       "      <th>subreddit</th>\n",
       "      <th>author</th>\n",
       "      <th>selftext</th>\n",
       "      <th>title</th>\n",
       "      <th>created_utc</th>\n",
       "      <th>selftext_title</th>\n",
       "    </tr>\n",
       "  </thead>\n",
       "  <tbody>\n",
       "    <tr>\n",
       "      <th>0</th>\n",
       "      <td>1412</td>\n",
       "      <td>roadtrip</td>\n",
       "      <td>Craig_Bryant</td>\n",
       "      <td>We're planning a Pacific Coast road trip in Se...</td>\n",
       "      <td>Pacific Coast road trip</td>\n",
       "      <td>2022-07-20 02:47:45</td>\n",
       "      <td>We're planning a Pacific Coast road trip in Se...</td>\n",
       "    </tr>\n",
       "    <tr>\n",
       "      <th>1</th>\n",
       "      <td>1413</td>\n",
       "      <td>roadtrip</td>\n",
       "      <td>mattynapps</td>\n",
       "      <td>The wife and I are moving from the SF Bay Area...</td>\n",
       "      <td>Moving cross country</td>\n",
       "      <td>2022-07-20 02:44:16</td>\n",
       "      <td>The wife and I are moving from the SF Bay Area...</td>\n",
       "    </tr>\n",
       "    <tr>\n",
       "      <th>2</th>\n",
       "      <td>1414</td>\n",
       "      <td>roadtrip</td>\n",
       "      <td>veg4npoutine</td>\n",
       "      <td>My family and I are from Calgary, Canada, and...</td>\n",
       "      <td>Ideas for a trip from Calgary to LA and Vegas?</td>\n",
       "      <td>2022-07-20 02:37:27</td>\n",
       "      <td>My family and I are from Calgary, Canada, and...</td>\n",
       "    </tr>\n",
       "    <tr>\n",
       "      <th>3</th>\n",
       "      <td>1415</td>\n",
       "      <td>roadtrip</td>\n",
       "      <td>dustyfrothman</td>\n",
       "      <td>I'm about to start a long motorcycle road trip...</td>\n",
       "      <td>From MA to SC. Must stop places along Skyline ...</td>\n",
       "      <td>2022-07-20 00:17:37</td>\n",
       "      <td>I'm about to start a long motorcycle road trip...</td>\n",
       "    </tr>\n",
       "    <tr>\n",
       "      <th>4</th>\n",
       "      <td>1416</td>\n",
       "      <td>roadtrip</td>\n",
       "      <td>snowboarding420</td>\n",
       "      <td>Heading south this Friday and curious which wa...</td>\n",
       "      <td>495 around DC or 15 to 17</td>\n",
       "      <td>2022-07-20 00:00:26</td>\n",
       "      <td>Heading south this Friday and curious which wa...</td>\n",
       "    </tr>\n",
       "  </tbody>\n",
       "</table>\n",
       "</div>"
      ],
      "text/plain": [
       "   index subreddit           author  \\\n",
       "0   1412  roadtrip     Craig_Bryant   \n",
       "1   1413  roadtrip       mattynapps   \n",
       "2   1414  roadtrip     veg4npoutine   \n",
       "3   1415  roadtrip    dustyfrothman   \n",
       "4   1416  roadtrip  snowboarding420   \n",
       "\n",
       "                                            selftext  \\\n",
       "0  We're planning a Pacific Coast road trip in Se...   \n",
       "1  The wife and I are moving from the SF Bay Area...   \n",
       "2   My family and I are from Calgary, Canada, and...   \n",
       "3  I'm about to start a long motorcycle road trip...   \n",
       "4  Heading south this Friday and curious which wa...   \n",
       "\n",
       "                                               title          created_utc  \\\n",
       "0                            Pacific Coast road trip  2022-07-20 02:47:45   \n",
       "1                               Moving cross country  2022-07-20 02:44:16   \n",
       "2     Ideas for a trip from Calgary to LA and Vegas?  2022-07-20 02:37:27   \n",
       "3  From MA to SC. Must stop places along Skyline ...  2022-07-20 00:17:37   \n",
       "4                          495 around DC or 15 to 17  2022-07-20 00:00:26   \n",
       "\n",
       "                                      selftext_title  \n",
       "0  We're planning a Pacific Coast road trip in Se...  \n",
       "1  The wife and I are moving from the SF Bay Area...  \n",
       "2   My family and I are from Calgary, Canada, and...  \n",
       "3  I'm about to start a long motorcycle road trip...  \n",
       "4  Heading south this Friday and curious which wa...  "
      ]
     },
     "execution_count": 16,
     "metadata": {},
     "output_type": "execute_result"
    }
   ],
   "source": [
    "roadtrip_df=combined_posts[combined_posts['subreddit']=='roadtrip'].copy()\n",
    "roadtrip_df.reset_index(inplace=True)\n",
    "roadtrip_df.head()"
   ]
  },
  {
   "cell_type": "code",
   "execution_count": 17,
   "id": "1860939a-ae08-47ab-ad5a-a4580113e195",
   "metadata": {},
   "outputs": [
    {
     "data": {
      "text/plain": [
       "imenmyself1234       6\n",
       "traspo_              4\n",
       "Gregory_Brady        4\n",
       "TheG8Uniter          4\n",
       "CraftyPumpkin1861    4\n",
       "HouseOfBamboo2       3\n",
       "raygan_reddit        3\n",
       "AwayWeGo50           3\n",
       "aspendegie           3\n",
       "LNAKEIAD82           3\n",
       "Name: author, dtype: int64"
      ]
     },
     "execution_count": 17,
     "metadata": {},
     "output_type": "execute_result"
    }
   ],
   "source": [
    "# Review number of submissions by authors.\n",
    "roadtrip_df['author'].value_counts().head(10)"
   ]
  },
  {
   "cell_type": "markdown",
   "id": "4006f8ce-b7da-4c6c-ba7e-9deac1266bd2",
   "metadata": {
    "tags": []
   },
   "source": [
    "#### Retrieve Top 10 Recurring Words\n",
    "Of the top 10 recurring words, 'drive' & 'driving' and 'day' and 'days' were observed. Stemming will be conducted to group these words together so that more distinct words would be included."
   ]
  },
  {
   "cell_type": "code",
   "execution_count": 18,
   "id": "41385a15-8465-451a-b1ac-03eae6d3e85a",
   "metadata": {},
   "outputs": [
    {
     "name": "stderr",
     "output_type": "stream",
     "text": [
      "C:\\Users\\Wende.Joanne\\anaconda3\\lib\\site-packages\\sklearn\\utils\\deprecation.py:87: FutureWarning: Function get_feature_names is deprecated; get_feature_names is deprecated in 1.0 and will be removed in 1.2. Please use get_feature_names_out instead.\n",
      "  warnings.warn(msg, category=FutureWarning)\n"
     ]
    },
    {
     "data": {
      "image/png": "[encoded data removed]",
      "text/plain": [
       "<Figure size 576x576 with 1 Axes>"
      ]
     },
     "metadata": {
      "needs_background": "light"
     },
     "output_type": "display_data"
    }
   ],
   "source": [
    "find_top10(roadtrip_df)"
   ]
  },
  {
   "cell_type": "markdown",
   "id": "4e986b19-1048-444f-b839-c0fd55a96647",
   "metadata": {
    "tags": []
   },
   "source": [
    "#### Sentiment Analysis\n",
    "Submissions with index 399, 476, 709, 801, 850 may be relevant to travelling in australia. \n",
    "- Two of the submissions, index 399 and 476, are related to safety of driving through areas that may not be safe. The project may review the typical route for road trips in Australia pass through areas that are safe. Police stations could be situated at intervals along the typical routes to assure travellers or assist travellers if needed. \n",
    "- Two of the submissions, index 709 and 801, are related to long drive and are concern about the effects of having long drive. The project may considor building attractions or amenities pit stop along typical scenic route in Australia so that travellers could take breaks in between long drives.    "
   ]
  },
  {
   "cell_type": "code",
   "execution_count": 19,
   "id": "e035301a-3279-48e5-88bc-ae41de12cdf7",
   "metadata": {},
   "outputs": [
    {
     "data": {
      "image/png": "[encoded data removed]",
      "text/plain": [
       "<Figure size 576x576 with 1 Axes>"
      ]
     },
     "metadata": {
      "needs_background": "light"
     },
     "output_type": "display_data"
    }
   ],
   "source": [
    "# Get sentiments of 'selftext_title' column\n",
    "roadtrip_sentiments = get_sentiment(roadtrip_df)"
   ]
  },
  {
   "cell_type": "code",
   "execution_count": 20,
   "id": "2d7278bc-13a8-47d0-9fa4-3b813439d0b1",
   "metadata": {},
   "outputs": [
    {
     "data": {
      "text/html": [
       "<div>\n",
       "<style scoped>\n",
       "    .dataframe tbody tr th:only-of-type {\n",
       "        vertical-align: middle;\n",
       "    }\n",
       "\n",
       "    .dataframe tbody tr th {\n",
       "        vertical-align: top;\n",
       "    }\n",
       "\n",
       "    .dataframe thead th {\n",
       "        text-align: right;\n",
       "    }\n",
       "</style>\n",
       "<table border=\"1\" class=\"dataframe\">\n",
       "  <thead>\n",
       "    <tr style=\"text-align: right;\">\n",
       "      <th></th>\n",
       "      <th>index</th>\n",
       "      <th>subreddit</th>\n",
       "      <th>author</th>\n",
       "      <th>selftext</th>\n",
       "      <th>title</th>\n",
       "      <th>created_utc</th>\n",
       "      <th>selftext_title</th>\n",
       "      <th>sentiment</th>\n",
       "    </tr>\n",
       "  </thead>\n",
       "  <tbody>\n",
       "    <tr>\n",
       "      <th>34</th>\n",
       "      <td>1446</td>\n",
       "      <td>roadtrip</td>\n",
       "      <td>SRV1981</td>\n",
       "      <td>From New York, made it to Denver Friday. Withi...</td>\n",
       "      <td>Altitude sickness - Need Route Advice</td>\n",
       "      <td>2022-07-17 11:16:49</td>\n",
       "      <td>From New York, made it to Denver Friday. Withi...</td>\n",
       "      <td>-0.9794</td>\n",
       "    </tr>\n",
       "    <tr>\n",
       "      <th>192</th>\n",
       "      <td>1604</td>\n",
       "      <td>roadtrip</td>\n",
       "      <td>TheUnluckyGamer13</td>\n",
       "      <td>Since this will probably be my last long vacat...</td>\n",
       "      <td>Roadtrip from Seattle to Salt Lake city as a t...</td>\n",
       "      <td>2022-06-25 05:20:00</td>\n",
       "      <td>Since this will probably be my last long vacat...</td>\n",
       "      <td>-0.9356</td>\n",
       "    </tr>\n",
       "    <tr>\n",
       "      <th>219</th>\n",
       "      <td>1631</td>\n",
       "      <td>roadtrip</td>\n",
       "      <td>Lee10190</td>\n",
       "      <td>It used to be when someone passed away (celebr...</td>\n",
       "      <td>Why is it \"fashionable\" to announce deaths in ...</td>\n",
       "      <td>2022-06-21 22:23:09</td>\n",
       "      <td>It used to be when someone passed away (celebr...</td>\n",
       "      <td>-0.9774</td>\n",
       "    </tr>\n",
       "    <tr>\n",
       "      <th>399</th>\n",
       "      <td>1811</td>\n",
       "      <td>roadtrip</td>\n",
       "      <td>ladytenacity</td>\n",
       "      <td>It was 11 pm at night, and I was driving 80 mp...</td>\n",
       "      <td>tailgated in right lane by two cars with their...</td>\n",
       "      <td>2022-05-30 06:56:15</td>\n",
       "      <td>It was 11 pm at night, and I was driving 80 mp...</td>\n",
       "      <td>-0.9832</td>\n",
       "    </tr>\n",
       "    <tr>\n",
       "      <th>401</th>\n",
       "      <td>1813</td>\n",
       "      <td>roadtrip</td>\n",
       "      <td>sunnydog1969</td>\n",
       "      <td>Current itinerary but open for suggestions \\nD...</td>\n",
       "      <td>Advice needed for Dallas,TX to South Dakota ro...</td>\n",
       "      <td>2022-05-30 03:53:48</td>\n",
       "      <td>Current itinerary but open for suggestions \\nD...</td>\n",
       "      <td>-0.9343</td>\n",
       "    </tr>\n",
       "    <tr>\n",
       "      <th>476</th>\n",
       "      <td>1888</td>\n",
       "      <td>roadtrip</td>\n",
       "      <td>Exciting_Animal3141</td>\n",
       "      <td>me and my mom are driving 26 hours to see fami...</td>\n",
       "      <td>scared to go on road trip</td>\n",
       "      <td>2022-05-19 03:40:52</td>\n",
       "      <td>me and my mom are driving 26 hours to see fami...</td>\n",
       "      <td>-0.9485</td>\n",
       "    </tr>\n",
       "    <tr>\n",
       "      <th>581</th>\n",
       "      <td>1993</td>\n",
       "      <td>roadtrip</td>\n",
       "      <td>staticlens</td>\n",
       "      <td>Wanted to see if this itinerary is feasible, i...</td>\n",
       "      <td>Las Vegas to Death Valley - Trip Itinerary</td>\n",
       "      <td>2022-05-01 18:47:35</td>\n",
       "      <td>Wanted to see if this itinerary is feasible, i...</td>\n",
       "      <td>-0.9705</td>\n",
       "    </tr>\n",
       "    <tr>\n",
       "      <th>588</th>\n",
       "      <td>2000</td>\n",
       "      <td>roadtrip</td>\n",
       "      <td>No_Personality2566</td>\n",
       "      <td>I live in the worst city in America. Cleveland...</td>\n",
       "      <td>I've had it. I'm leaving.</td>\n",
       "      <td>2022-05-01 13:53:40</td>\n",
       "      <td>I live in the worst city in America. Cleveland...</td>\n",
       "      <td>-0.9600</td>\n",
       "    </tr>\n",
       "    <tr>\n",
       "      <th>683</th>\n",
       "      <td>2095</td>\n",
       "      <td>roadtrip</td>\n",
       "      <td>Self_Batterment</td>\n",
       "      <td>I love guns but I’m not a total gun nut and of...</td>\n",
       "      <td>Driving from middle of Texas to Arizona and am...</td>\n",
       "      <td>2022-04-20 10:41:07</td>\n",
       "      <td>I love guns but I’m not a total gun nut and of...</td>\n",
       "      <td>-0.9383</td>\n",
       "    </tr>\n",
       "    <tr>\n",
       "      <th>709</th>\n",
       "      <td>2121</td>\n",
       "      <td>roadtrip</td>\n",
       "      <td>Hisokasfatjucybussy</td>\n",
       "      <td>I’m on a car trip for my grandpa’s funeral and...</td>\n",
       "      <td>My ass is numb</td>\n",
       "      <td>2022-04-15 04:05:12</td>\n",
       "      <td>I’m on a car trip for my grandpa’s funeral and...</td>\n",
       "      <td>-0.9398</td>\n",
       "    </tr>\n",
       "    <tr>\n",
       "      <th>801</th>\n",
       "      <td>2213</td>\n",
       "      <td>roadtrip</td>\n",
       "      <td>FIbutY</td>\n",
       "      <td>The wife and I just got back from a brutal cro...</td>\n",
       "      <td>5200 miles in 13 days with little kids - Awful...</td>\n",
       "      <td>2022-04-02 12:13:09</td>\n",
       "      <td>The wife and I just got back from a brutal cro...</td>\n",
       "      <td>-0.9094</td>\n",
       "    </tr>\n",
       "    <tr>\n",
       "      <th>850</th>\n",
       "      <td>2262</td>\n",
       "      <td>roadtrip</td>\n",
       "      <td>tpmsbypassireland</td>\n",
       "      <td>\\n\\nDealing with a flat tire can be very inco...</td>\n",
       "      <td>How Do I Turn My TPMS Light Off Permanently?</td>\n",
       "      <td>2022-03-26 04:31:47</td>\n",
       "      <td>\\n\\nDealing with a flat tire can be very inco...</td>\n",
       "      <td>-0.9929</td>\n",
       "    </tr>\n",
       "    <tr>\n",
       "      <th>1145</th>\n",
       "      <td>2557</td>\n",
       "      <td>roadtrip</td>\n",
       "      <td>Dark_Charmander</td>\n",
       "      <td>Hi,\\n\\nI'm planning a roadtrip in March and I ...</td>\n",
       "      <td>Plan for Utah - Arizona - San Francisco roadtr...</td>\n",
       "      <td>2022-02-08 20:37:53</td>\n",
       "      <td>Hi,\\n\\nI'm planning a roadtrip in March and I ...</td>\n",
       "      <td>-0.9563</td>\n",
       "    </tr>\n",
       "    <tr>\n",
       "      <th>1193</th>\n",
       "      <td>2605</td>\n",
       "      <td>roadtrip</td>\n",
       "      <td>SwimmingProof4875</td>\n",
       "      <td>Hi all. I have done this trip and back several...</td>\n",
       "      <td>Driving from the GTA to Florida mid-Feb : Ques...</td>\n",
       "      <td>2022-02-02 17:11:41</td>\n",
       "      <td>Hi all. I have done this trip and back several...</td>\n",
       "      <td>-0.9850</td>\n",
       "    </tr>\n",
       "  </tbody>\n",
       "</table>\n",
       "</div>"
      ],
      "text/plain": [
       "      index subreddit               author  \\\n",
       "34     1446  roadtrip              SRV1981   \n",
       "192    1604  roadtrip    TheUnluckyGamer13   \n",
       "219    1631  roadtrip             Lee10190   \n",
       "399    1811  roadtrip         ladytenacity   \n",
       "401    1813  roadtrip         sunnydog1969   \n",
       "476    1888  roadtrip  Exciting_Animal3141   \n",
       "581    1993  roadtrip           staticlens   \n",
       "588    2000  roadtrip   No_Personality2566   \n",
       "683    2095  roadtrip      Self_Batterment   \n",
       "709    2121  roadtrip  Hisokasfatjucybussy   \n",
       "801    2213  roadtrip               FIbutY   \n",
       "850    2262  roadtrip    tpmsbypassireland   \n",
       "1145   2557  roadtrip      Dark_Charmander   \n",
       "1193   2605  roadtrip    SwimmingProof4875   \n",
       "\n",
       "                                               selftext  \\\n",
       "34    From New York, made it to Denver Friday. Withi...   \n",
       "192   Since this will probably be my last long vacat...   \n",
       "219   It used to be when someone passed away (celebr...   \n",
       "399   It was 11 pm at night, and I was driving 80 mp...   \n",
       "401   Current itinerary but open for suggestions \\nD...   \n",
       "476   me and my mom are driving 26 hours to see fami...   \n",
       "581   Wanted to see if this itinerary is feasible, i...   \n",
       "588   I live in the worst city in America. Cleveland...   \n",
       "683   I love guns but I’m not a total gun nut and of...   \n",
       "709   I’m on a car trip for my grandpa’s funeral and...   \n",
       "801   The wife and I just got back from a brutal cro...   \n",
       "850    \\n\\nDealing with a flat tire can be very inco...   \n",
       "1145  Hi,\\n\\nI'm planning a roadtrip in March and I ...   \n",
       "1193  Hi all. I have done this trip and back several...   \n",
       "\n",
       "                                                  title          created_utc  \\\n",
       "34                Altitude sickness - Need Route Advice  2022-07-17 11:16:49   \n",
       "192   Roadtrip from Seattle to Salt Lake city as a t...  2022-06-25 05:20:00   \n",
       "219   Why is it \"fashionable\" to announce deaths in ...  2022-06-21 22:23:09   \n",
       "399   tailgated in right lane by two cars with their...  2022-05-30 06:56:15   \n",
       "401   Advice needed for Dallas,TX to South Dakota ro...  2022-05-30 03:53:48   \n",
       "476                           scared to go on road trip  2022-05-19 03:40:52   \n",
       "581          Las Vegas to Death Valley - Trip Itinerary  2022-05-01 18:47:35   \n",
       "588                           I've had it. I'm leaving.  2022-05-01 13:53:40   \n",
       "683   Driving from middle of Texas to Arizona and am...  2022-04-20 10:41:07   \n",
       "709                                      My ass is numb  2022-04-15 04:05:12   \n",
       "801   5200 miles in 13 days with little kids - Awful...  2022-04-02 12:13:09   \n",
       "850        How Do I Turn My TPMS Light Off Permanently?  2022-03-26 04:31:47   \n",
       "1145  Plan for Utah - Arizona - San Francisco roadtr...  2022-02-08 20:37:53   \n",
       "1193  Driving from the GTA to Florida mid-Feb : Ques...  2022-02-02 17:11:41   \n",
       "\n",
       "                                         selftext_title  sentiment  \n",
       "34    From New York, made it to Denver Friday. Withi...    -0.9794  \n",
       "192   Since this will probably be my last long vacat...    -0.9356  \n",
       "219   It used to be when someone passed away (celebr...    -0.9774  \n",
       "399   It was 11 pm at night, and I was driving 80 mp...    -0.9832  \n",
       "401   Current itinerary but open for suggestions \\nD...    -0.9343  \n",
       "476   me and my mom are driving 26 hours to see fami...    -0.9485  \n",
       "581   Wanted to see if this itinerary is feasible, i...    -0.9705  \n",
       "588   I live in the worst city in America. Cleveland...    -0.9600  \n",
       "683   I love guns but I’m not a total gun nut and of...    -0.9383  \n",
       "709   I’m on a car trip for my grandpa’s funeral and...    -0.9398  \n",
       "801   The wife and I just got back from a brutal cro...    -0.9094  \n",
       "850    \\n\\nDealing with a flat tire can be very inco...    -0.9929  \n",
       "1145  Hi,\\n\\nI'm planning a roadtrip in March and I ...    -0.9563  \n",
       "1193  Hi all. I have done this trip and back several...    -0.9850  "
      ]
     },
     "execution_count": 20,
     "metadata": {},
     "output_type": "execute_result"
    }
   ],
   "source": [
    "# Display submissions with low sentiment score.\n",
    "roadtrip_sentiments[roadtrip_sentiments['sentiment'] <-0.9]"
   ]
  },
  {
   "cell_type": "code",
   "execution_count": 21,
   "id": "9b7e25d5-350a-4b8f-a777-82c1c1182bc6",
   "metadata": {},
   "outputs": [
    {
     "name": "stdout",
     "output_type": "stream",
     "text": [
      "Index 399: \n",
      "It was 11 pm at night, and I was driving 80 mph down Interstate 25, in New Mexico. I am driving in the left (passing) lane, when I notice two cars coming up in the distance fast, both with their brights on. I move to the right (slow) lane to let them pass, which they both do. After passing me and the car in front of me at a high speed, the first car (Gray Sedan) then cuts in front of the car in front of me, and then slows down, and the second car (White Van) immediately squeezes in between gray sedan and the car in front of me. White Van is following very closely and aggressively behind gray sedan. I notice this as strange behavior but continue to drive... both have slowed down but I am reluctant to pass them. Finally, I decide I want to lose them, so I pass them going 90 mph and hope to lose them because I am uncomfortable driving ahead of them with them both having their brights on. I stay ahead of them for a bit, until gray sedan suddenly speeds past me, only to cut me off and then proceed to slow down significantly. This time, white Van doesn't get in front of me, but stays behind me with the brights on. I stay behind gray sedan for a bit, but then decide to again pass gray sedan because gray sedan is going slow and white Van is tailing me with the brights on. So I pass gray sedan at a high speed and again try to lose them both. But then I tell my sister, \"why don't we just pull over and let them all go so we can drive in peace\", and then pull to the side of the road. Gray Sedan passes me, immediately slows down, puts on hazard lights, and pulls to the side of the road about 300 feet in front of me. Behind me, white sedan puts on hazard lights and pulls right up behind me, about 10 feet behind me. I suddenly feel a wave of fear and dread, and I pull back onto the highway and hightail it out of there as fast as my car will let me. The two of them do not immediately follow me back onto the highway, and I go so fast that I do not know if, or when, they got back onto the highway. \n",
      "\n",
      "From then on, I'm scared and I want to reach my destination, so I'm going 95-100 mph. About 30 miles later, a completely different (blue?) car merges onto the highway with their brights on. They were going slow when I passed them, but then I look in my rearview and notice that this car is now tailgating me, at 100 mph, in the right (slow) lane, with their brights on. I am feeling even more anxious at this point and I just keep driving. I am not going to pull over to let them pass because maybe that's the point. For about 10 miles, this car tailgates me with the brights on in the slow lane going 100 mph on an empty interstate. Then as we approach another exit, this car suddenly turns off the brights, slows down, and exits off the interstate. \n",
      "\n",
      "And then about 30 miles later, we pass a car pulled over right behind another car, and a third car pulled over a couple hundred feet ahead of the other two. The car a couple hundred feet ahead has hazard lights on, the car right behind has hazard lights on, and the car in the middle has no lights on. A man is standing outside of the car parked right behind the middle car with no lights. We mind our business and keep driving as fast as we can to our destination. \n",
      "\n",
      "And then my sister reminds me, that we saw this same exact pattern about 50 miles before gray sedan and white Van started tailing us: we had seen a car parked behind another car, and a third car a couple hundred feet ahead. \n",
      "\n",
      "Does anyone know what might be happening here? It's super weird.\n",
      "\n",
      "\n",
      "Index 476: \n",
      "me and my mom are driving 26 hours to see family and we’re only driving because i wanna take my dog with me but i’m pretty scared because we have to drive thru some not so safe areas like chicago milwaukee etc how do i even get over this i know the chances of getting involved in something bad are low but i’ve always been a really paranoid person super bad anxiety about something happening to me though i don’t live in the safest area but unfamiliar places just scare me and idk how to just get over it like does anyone else get anxiety about it because last yr i opted out of my road trip with family the day of bc i was scared of something happening to me\n",
      "\n",
      "\n",
      "Index 709: \n",
      "I’m on a car trip for my grandpa’s funeral and my ass is now numb. I can feel that I cant feel my butt. But it’s numb. Is this normal?\n",
      "\n",
      "\n",
      "Index 801: \n",
      "The wife and I just got back from a brutal cross country flight with our 2.5 year old and 3 month old. \n",
      "\n",
      "We’ve got a trip booked to Montana in May. We’ve got flights booked currently; 3 legs and about 14 hours of travel each way. Again, with the kids. Flying in 2022 is bad enough. Add in a a toddler, an infant, and 3 flights each way to get to your destination… and you begin having crazy thoughts… like driving ~2600 miles each way to your destination instead of flying. \n",
      "\n",
      "Our family has the time to take away from work, etc. so that’s not an issue. It sounds like a great little adventure. In theory. We’d take 4-5 days each way driving from New England to Montana. And 5 days in Montana at a house we have booked. It seems way more enjoyable and something I’ll look forward to as opposed to 2 brutal days of flying with toddler and infant in tow only to arrive at our destination annoyed and exhausted. \n",
      "\n",
      "Is this kind of road trip with really little kids a horrible idea? Should we just suck it up and take advantage of the miracle of modern aviation? Talk me out of making the drive because right now the ptsd from the last flight is very real and that was a non-stop direct 6 hour flight. \n",
      "\n",
      "TLDR: Should a family of 4 with toddler and infant take a 5200 mile road trip or is that nuts?\n",
      "\n",
      "\n",
      "Index 850: \n",
      " \n",
      "\n",
      "Dealing with a flat tire can be very inconvenient and even dangerous,  particularly when it happens while you are driving along busy roads.  These are just some of the reasons why the tire pressure monitoring  system (TPMS) has been lauded as an important safety technology.\n",
      "\n",
      "When you have an underinflated tire, the TPMS light  turns on to alert you about it. The timely warning enables you to  address the issue before it becomes a nuisance and safety hazard.\n",
      "\n",
      "The TPMS is indeed an invaluable car feature, and you recognise how  valuable it is. Perhaps there have been several occasions when it helped  you avoid having a flat tire while on the road or eliminated the need  to check your tires’ air pressure level manually.\n",
      "\n",
      "But you also know that this technology is not perfect. You probably  experienced it malfunctioning, causing unnecessary hassle. Like most  vehicle owners, this situation made you think of permanently turning off  the warning light.\n",
      "\n",
      "## What You Need to Know About Your TPMS Light \n",
      "\n",
      "As mentioned earlier, the TPMS light illuminates when there is an  issue with the air pressure in one or more of your tires. This can  either be a case of an underinflated or overinflated tire.\n",
      "\n",
      "**The light stays on until the issue is resolved.** This means you need to remove or add air from the tire in question.\n",
      "\n",
      "**The thing is that the TPMS warning light may illuminate even  if the air pressure in your tires meets the manufacturer’s recommended  level.** This can be attributed to the system getting inaccurate readings due to certain issues.\n",
      "\n",
      "One of the most common reasons is failure to do a TPMS relearn after  changing or replacing tires. The relearn process is necessary to ensure  that the sensors and the system work.   \n",
      "\n",
      "Skipping this step results in the system failing to detect or get the  information from the right sensor. For example, the system is getting  information from the replaced flat tire. This is why your TPMS light  turns on, even if there is no real issue with your tires.\n",
      "\n",
      "The false warning can also result from a damaged sensor or a failing  sensor battery. It can also be due to the cold weather wherein tires’  air pressure naturally drops but goes back to normal after driving for a  few minutes.\n",
      "\n",
      "While these TPMS-related issues are solvable, they can be  inconvenient and annoying since, as a responsible driver, you would have  to check your tires. **They can also be dangerous since the light can be distracting even for experienced drivers.**\n",
      "\n",
      "Plus:\n",
      "\n",
      "Not everyone has the time and money to address TPMS-related issues immediately.\n",
      "\n",
      "But not resolving the problem means seeing the warning light on  whenever they are behind the wheel. So, vehicle owners find ways to turn  off their TPMS light to avoid getting distracted and stop dealing with  these issues repeatedly.\n",
      "\n",
      "## Is It Possible to Turn Off Your TPMS Light Off Permanently?\n",
      "\n",
      "One of the solutions to “turn off” the TPMS light is to cover it with  black tape. It is a crude method but preferred by many as it does not  require tinkering with the vehicle’s wires or ECU.\n",
      "\n",
      "If you are looking for an easy way to deal with pesky TPMS light  issues, know that sticking a tape on your dashboard isn’t your only  option. You can use a TPMS bypass emulator to “turn off” your tire pressure monitoring system and not be bothered by the warning light.\n",
      "\n",
      "The emulator is designed to be non-invasive, which means that you  don’t have to manipulate your car’s wirings or make changes to its ECU.  It is easy to use –turn it on and put it in your vehicle. You don’t even  need a mechanic or a professional to make it work.\n",
      "\n",
      "**One great thing about the TPMS bypass emulator is that it can  “permanently” turn off your TPMS without altering anything in your  vehicle.** If you want to continue using it, it just has to stay on (and inside your vehicle).\n",
      "\n",
      "Suffice to say, this device won’t make changes that can affect the  performance or safety of your vehicle. Moreover, if you want to use your  TPMS again, you can still do so, and all you have to do is turn off the  emulator.\n",
      "\n",
      "**Want to learn more about our TPMS bypass emulators? Call us today on UK: +44(0) 77 837 25020 or IRL: +353(0)83 847 8878**\n",
      "\n",
      "\n"
     ]
    }
   ],
   "source": [
    "# Retrieve selftext of post index 399, 476, 709, 801, 850\n",
    "# they may be relevant to our project.\n",
    "\n",
    "for i in [399, 476, 709, 801, 850]:\n",
    "    \n",
    "    selftext = roadtrip_sentiments.iloc[i]['selftext']\n",
    "    print(f'Index {i}: \\n{selftext}\\n\\n')"
   ]
  },
  {
   "cell_type": "markdown",
   "id": "4b77eb76-96fb-4181-92fe-02e08cc4b8da",
   "metadata": {},
   "source": [
    "### Preliminary Assessments\n",
    "1. In TravelHacks subreddit, one anomaly was observed on the number of submissions by users. Although the user, 'wallpapersdance', submits significantly higher number of posts and on a regular basis, from Feb 2022 to Jun 2022, from the titles of his submissions, he seems to be planning a trip to Greece and his submissions seem genuine. Hence, his submissions were kept.\n",
    "2. Some words like 'drive' & 'driving' and 'day' and 'days' were observed. Stemming will be conducted to group these words together so that more distinct words would be included.\n",
    "3. The word 'trip' is one of the top 10 recurring word in both TravelHacks and roadtrip subreddit. It may not be meaningful to keep the word for modelling. It will be included in the list of stopwords. \n",
    "4. From TravelHacks, key discussions revolves around 'flight'. From roadtrip, 'road', 'drive' and 'car' were discussed frequently. Therefore, the project can explore addressing flight, cars and drive concerns to attract travellers who enjoy road trips. For example, bundle deals that consists of flight tickets and car rental will provide traveller the convenience, which will entice them to choose Australia as an ideal destination. \n",
    "5. In general, the sentiment of the submissions in both TravelHacks and roadtrip subreddits are highly positive. \n",
    "    - TravelHacks:\n",
    "        - Of the six submissions, three submissions are related to cost of car rental, included incurring additional cost due to mistakes made by rental company. The project could consider attracting more car rental companies to operate at the airport to provide more economical solutions (increase supply will lower costs). Grading systems for car rental companies would be beneficial for traveller to make better informed decisions and partner with a more trustworthy rental company. \n",
    "        - Two of the submissions were related to COVID test results. Travellers were worried about testing positive during the trip. The project can explore formulating policy to support travellers who are tested positively to recoup some of the costs incurred during planning or to delay their trip\n",
    "    - roadtrip:\n",
    "        - Two of the submissions, index 388 and 477, are related to safety of driving through areas that may not be safe. The project may review the typical route for road trips in Australia pass through areas that are safe. Police stations could be situated at intervals along the typical routes to assure travellers or assist travellers if needed. \n",
    "        - Two of the submissions, index 709 and 804, are related to long drive and are concern about the effects of having long drive. The project may considor building attractions or amenities pit stop along typical scenic route in Australia so that travellers could take breaks in between long drives.   \n",
    "    - 'hi' and 'hello' greetings are common in submissions. They will be added to the list of stopwords. "
   ]
  },
  {
   "cell_type": "code",
   "execution_count": 22,
   "id": "0e12e7f9-ef9a-403b-8ca7-b00bdaa0538a",
   "metadata": {},
   "outputs": [],
   "source": [
    "# include 'trip', 'hi', 'hello' in the list of stopwords. \n",
    "stopwords_list = stopwords.words(\"english\")\n",
    "stopwords_list.append('trip')\n",
    "stopwords_list.append('hi')\n",
    "stopwords_list.append('hello')"
   ]
  },
  {
   "cell_type": "markdown",
   "id": "da802e9c-6ea1-4634-a7a7-ed94b0186211",
   "metadata": {},
   "source": [
    "## 2. Data Pre-processing"
   ]
  },
  {
   "cell_type": "markdown",
   "id": "f8ea5eb8-6e84-4ed0-8974-e0481ce74822",
   "metadata": {
    "tags": []
   },
   "source": [
    "### Create new column to label `subreddit`"
   ]
  },
  {
   "cell_type": "code",
   "execution_count": 23,
   "id": "0db324cc-9b9d-4ac9-bf0e-9d10b9ec15b5",
   "metadata": {},
   "outputs": [],
   "source": [
    "# Create column to label subreddit\n",
    "combined_posts['subreddit_label'] = combined_posts['subreddit'].map(lambda value: 1 if value=='TravelHacks' else 0)"
   ]
  },
  {
   "cell_type": "code",
   "execution_count": 24,
   "id": "63ef7d4d-8e82-4b0a-ba79-52573dac365b",
   "metadata": {},
   "outputs": [
    {
     "data": {
      "text/html": [
       "<div>\n",
       "<style scoped>\n",
       "    .dataframe tbody tr th:only-of-type {\n",
       "        vertical-align: middle;\n",
       "    }\n",
       "\n",
       "    .dataframe tbody tr th {\n",
       "        vertical-align: top;\n",
       "    }\n",
       "\n",
       "    .dataframe thead th {\n",
       "        text-align: right;\n",
       "    }\n",
       "</style>\n",
       "<table border=\"1\" class=\"dataframe\">\n",
       "  <thead>\n",
       "    <tr style=\"text-align: right;\">\n",
       "      <th></th>\n",
       "      <th>subreddit</th>\n",
       "      <th>author</th>\n",
       "      <th>selftext</th>\n",
       "      <th>title</th>\n",
       "      <th>created_utc</th>\n",
       "      <th>selftext_title</th>\n",
       "      <th>subreddit_label</th>\n",
       "    </tr>\n",
       "  </thead>\n",
       "  <tbody>\n",
       "    <tr>\n",
       "      <th>0</th>\n",
       "      <td>TravelHacks</td>\n",
       "      <td>Remarkable_Lie_8622</td>\n",
       "      <td>Have you any experience booking a roundtrip ti...</td>\n",
       "      <td>How do you book a roundtrip but a different ci...</td>\n",
       "      <td>2022-07-19 21:41:24</td>\n",
       "      <td>Have you any experience booking a roundtrip ti...</td>\n",
       "      <td>1</td>\n",
       "    </tr>\n",
       "    <tr>\n",
       "      <th>1</th>\n",
       "      <td>TravelHacks</td>\n",
       "      <td>kastelu</td>\n",
       "      <td>Hi everyone! Next month I'll be visiting my co...</td>\n",
       "      <td>What to do in London in 15+ hours?</td>\n",
       "      <td>2022-07-19 21:04:48</td>\n",
       "      <td>Hi everyone! Next month I'll be visiting my co...</td>\n",
       "      <td>1</td>\n",
       "    </tr>\n",
       "    <tr>\n",
       "      <th>2</th>\n",
       "      <td>TravelHacks</td>\n",
       "      <td>Avocadosandtomatoes</td>\n",
       "      <td>I’m not too particular on the destination. I j...</td>\n",
       "      <td>Is there a way to search cheap flights coming ...</td>\n",
       "      <td>2022-07-19 20:39:03</td>\n",
       "      <td>I’m not too particular on the destination. I j...</td>\n",
       "      <td>1</td>\n",
       "    </tr>\n",
       "    <tr>\n",
       "      <th>3</th>\n",
       "      <td>TravelHacks</td>\n",
       "      <td>monarchal</td>\n",
       "      <td>I just need to be there Saturday, would be nic...</td>\n",
       "      <td>Where’s the cheapest place to get a flight fro...</td>\n",
       "      <td>2022-07-19 18:45:22</td>\n",
       "      <td>I just need to be there Saturday, would be nic...</td>\n",
       "      <td>1</td>\n",
       "    </tr>\n",
       "    <tr>\n",
       "      <th>4</th>\n",
       "      <td>TravelHacks</td>\n",
       "      <td>Small-Decision8803</td>\n",
       "      <td>Which would you choose for vacation? I’ve neve...</td>\n",
       "      <td>Seattle vs denver</td>\n",
       "      <td>2022-07-19 18:28:38</td>\n",
       "      <td>Which would you choose for vacation? I’ve neve...</td>\n",
       "      <td>1</td>\n",
       "    </tr>\n",
       "    <tr>\n",
       "      <th>...</th>\n",
       "      <td>...</td>\n",
       "      <td>...</td>\n",
       "      <td>...</td>\n",
       "      <td>...</td>\n",
       "      <td>...</td>\n",
       "      <td>...</td>\n",
       "      <td>...</td>\n",
       "    </tr>\n",
       "    <tr>\n",
       "      <th>2609</th>\n",
       "      <td>roadtrip</td>\n",
       "      <td>_princess-galaxia_</td>\n",
       "      <td>\\n\\n[View Poll](https://www.reddit.com/poll/si...</td>\n",
       "      <td>Often told I drive too much. What's the averag...</td>\n",
       "      <td>2022-02-02 05:54:33</td>\n",
       "      <td>\\n\\n[View Poll](https://www.reddit.com/poll/si...</td>\n",
       "      <td>0</td>\n",
       "    </tr>\n",
       "    <tr>\n",
       "      <th>2610</th>\n",
       "      <td>roadtrip</td>\n",
       "      <td>Marokiii</td>\n",
       "      <td>Either driving time or actual distance travele...</td>\n",
       "      <td>What's your sweet spot for AVERAGE daily drivi...</td>\n",
       "      <td>2022-02-02 03:26:20</td>\n",
       "      <td>Either driving time or actual distance travele...</td>\n",
       "      <td>0</td>\n",
       "    </tr>\n",
       "    <tr>\n",
       "      <th>2611</th>\n",
       "      <td>roadtrip</td>\n",
       "      <td>SlothGeo</td>\n",
       "      <td>I’ve decided to take a road trip with my three...</td>\n",
       "      <td>First come/First Serve camping near Redwoods?</td>\n",
       "      <td>2022-02-02 03:22:12</td>\n",
       "      <td>I’ve decided to take a road trip with my three...</td>\n",
       "      <td>0</td>\n",
       "    </tr>\n",
       "    <tr>\n",
       "      <th>2612</th>\n",
       "      <td>roadtrip</td>\n",
       "      <td>1AXC</td>\n",
       "      <td>I’m from Southern California and want to just ...</td>\n",
       "      <td>Can anyone suggest where to road trip to for g...</td>\n",
       "      <td>2022-02-01 21:33:00</td>\n",
       "      <td>I’m from Southern California and want to just ...</td>\n",
       "      <td>0</td>\n",
       "    </tr>\n",
       "    <tr>\n",
       "      <th>2613</th>\n",
       "      <td>roadtrip</td>\n",
       "      <td>zebradonkey69</td>\n",
       "      <td>So my sister and her boyfriend are planning a ...</td>\n",
       "      <td>New Orleans —&amp;gt; Denver</td>\n",
       "      <td>2022-02-01 21:05:01</td>\n",
       "      <td>So my sister and her boyfriend are planning a ...</td>\n",
       "      <td>0</td>\n",
       "    </tr>\n",
       "  </tbody>\n",
       "</table>\n",
       "<p>2614 rows × 7 columns</p>\n",
       "</div>"
      ],
      "text/plain": [
       "        subreddit               author  \\\n",
       "0     TravelHacks  Remarkable_Lie_8622   \n",
       "1     TravelHacks              kastelu   \n",
       "2     TravelHacks  Avocadosandtomatoes   \n",
       "3     TravelHacks            monarchal   \n",
       "4     TravelHacks   Small-Decision8803   \n",
       "...           ...                  ...   \n",
       "2609     roadtrip   _princess-galaxia_   \n",
       "2610     roadtrip             Marokiii   \n",
       "2611     roadtrip             SlothGeo   \n",
       "2612     roadtrip                 1AXC   \n",
       "2613     roadtrip        zebradonkey69   \n",
       "\n",
       "                                               selftext  \\\n",
       "0     Have you any experience booking a roundtrip ti...   \n",
       "1     Hi everyone! Next month I'll be visiting my co...   \n",
       "2     I’m not too particular on the destination. I j...   \n",
       "3     I just need to be there Saturday, would be nic...   \n",
       "4     Which would you choose for vacation? I’ve neve...   \n",
       "...                                                 ...   \n",
       "2609  \\n\\n[View Poll](https://www.reddit.com/poll/si...   \n",
       "2610  Either driving time or actual distance travele...   \n",
       "2611  I’ve decided to take a road trip with my three...   \n",
       "2612  I’m from Southern California and want to just ...   \n",
       "2613  So my sister and her boyfriend are planning a ...   \n",
       "\n",
       "                                                  title          created_utc  \\\n",
       "0     How do you book a roundtrip but a different ci...  2022-07-19 21:41:24   \n",
       "1                    What to do in London in 15+ hours?  2022-07-19 21:04:48   \n",
       "2     Is there a way to search cheap flights coming ...  2022-07-19 20:39:03   \n",
       "3     Where’s the cheapest place to get a flight fro...  2022-07-19 18:45:22   \n",
       "4                                     Seattle vs denver  2022-07-19 18:28:38   \n",
       "...                                                 ...                  ...   \n",
       "2609  Often told I drive too much. What's the averag...  2022-02-02 05:54:33   \n",
       "2610  What's your sweet spot for AVERAGE daily drivi...  2022-02-02 03:26:20   \n",
       "2611      First come/First Serve camping near Redwoods?  2022-02-02 03:22:12   \n",
       "2612  Can anyone suggest where to road trip to for g...  2022-02-01 21:33:00   \n",
       "2613                           New Orleans —&gt; Denver  2022-02-01 21:05:01   \n",
       "\n",
       "                                         selftext_title  subreddit_label  \n",
       "0     Have you any experience booking a roundtrip ti...                1  \n",
       "1     Hi everyone! Next month I'll be visiting my co...                1  \n",
       "2     I’m not too particular on the destination. I j...                1  \n",
       "3     I just need to be there Saturday, would be nic...                1  \n",
       "4     Which would you choose for vacation? I’ve neve...                1  \n",
       "...                                                 ...              ...  \n",
       "2609  \\n\\n[View Poll](https://www.reddit.com/poll/si...                0  \n",
       "2610  Either driving time or actual distance travele...                0  \n",
       "2611  I’ve decided to take a road trip with my three...                0  \n",
       "2612  I’m from Southern California and want to just ...                0  \n",
       "2613  So my sister and her boyfriend are planning a ...                0  \n",
       "\n",
       "[2614 rows x 7 columns]"
      ]
     },
     "execution_count": 24,
     "metadata": {},
     "output_type": "execute_result"
    }
   ],
   "source": [
    "# display first 5 and last 5 rows of dataframe.\n",
    "combined_posts"
   ]
  },
  {
   "cell_type": "markdown",
   "id": "63f3c705-e598-4c6b-a626-ced405ca1412",
   "metadata": {},
   "source": [
    "### Define sub_to_words function\n",
    "Function process the raw submissions to a string of words. Input is a dataframe where column values is a single string."
   ]
  },
  {
   "cell_type": "code",
   "execution_count": 25,
   "id": "82e6da5f-c68e-4a2a-9f41-68d9afd82fdc",
   "metadata": {},
   "outputs": [],
   "source": [
    "def sub_to_words(df):\n",
    "    \n",
    "    # Remove website addresses from selftext_title column\n",
    "    # instantiate regex to identify url\n",
    "    url_regex = (r'(https?:\\/\\/(?:www\\.|(?!www))[a-zA-Z0-9][a-zA-Z0-9-]+[a-zA-Z0-9]\\.[^\\s]{2,}|www\\.[a-zA-Z0-9][a-zA-Z0-9-]+[a-zA-Z0-9]\\.[^\\s]{2,}|https?:\\/\\/(?:www\\.|(?!www))[a-zA-Z0-9]+\\.[^\\s]{2,}|www\\.[a-zA-Z0-9]+\\.[^\\s]{2,})')\n",
    "    \n",
    "    # extract url from selftext_title\n",
    "    df['url'] = df['selftext_title'].str.extract(url_regex)\n",
    "    \n",
    "    # remove url in selftext_title.\n",
    "    df['selftext_title'] = df['selftext_title'].str.replace(url_regex, '', regex=True) \n",
    "    \n",
    "    # drop 'url' column\n",
    "    df.drop(columns='url', inplace=True)\n",
    "    \n",
    "        \n",
    "    # remove HTML code from selftext_title column.\n",
    "    combined_posts['selftext_title'] = combined_posts['selftext_title'].map(\n",
    "            lambda text: BeautifulSoup(text).get_text()\n",
    "    )\n",
    "    \n",
    "    \n",
    "    # Remove non-letters\n",
    "    df['selftext_title'] = df['selftext_title'].map(\n",
    "        lambda text: re.sub(\"[^a-zA-Z]\", \" \", text)\n",
    "    )\n",
    "    \n",
    "    \n",
    "    # Convert to lowercase and split into a list\n",
    "    # Convert letters_only to lower case.\n",
    "    # And split lower_case up at each space.\n",
    "    df['selftext_title'] = df['selftext_title'].map(\n",
    "        lambda text: text.lower().split()\n",
    "    )\n",
    "    \n",
    "    # Remove stopwords \n",
    "    df['selftext_title'] = df['selftext_title'].map(\n",
    "        lambda value: [word for word in value if word not in stopwords_list]\n",
    "    )\n",
    "\n",
    "    \n",
    "    # Stemming\n",
    "    p_stemmer = PorterStemmer()  # Instantiating the stemmer\n",
    "    df[\"selftext_title\"] = df[\"selftext_title\"].apply(\n",
    "        lambda text: [p_stemmer.stem(i) for i in text]\n",
    "    )\n",
    "    \n",
    "    # Joining the list of words back into a string separated by space\n",
    "    df[\"selftext_title\"] = df[\"selftext_title\"].apply(lambda word: \" \".join(word))\n",
    "    \n",
    "    return df"
   ]
  },
  {
   "cell_type": "markdown",
   "id": "5ad64198-d69f-48c1-90c5-0d7cdb773fdb",
   "metadata": {
    "tags": []
   },
   "source": [
    "### Train/Test Split"
   ]
  },
  {
   "cell_type": "code",
   "execution_count": 26,
   "id": "45219b77-2b62-4330-a350-6cb4b6ef76c5",
   "metadata": {},
   "outputs": [],
   "source": [
    "# define X and y. \n",
    "X = combined_posts[['selftext_title']]\n",
    "y = combined_posts['subreddit_label']"
   ]
  },
  {
   "cell_type": "code",
   "execution_count": 27,
   "id": "9a850c3e-b065-4c0c-9088-83b0dc40c75a",
   "metadata": {},
   "outputs": [
    {
     "data": {
      "text/plain": [
       "((2614, 1), (2614,))"
      ]
     },
     "execution_count": 27,
     "metadata": {},
     "output_type": "execute_result"
    }
   ],
   "source": [
    "# verify shape of X and y\n",
    "X.shape, y.shape"
   ]
  },
  {
   "cell_type": "code",
   "execution_count": 28,
   "id": "fddebb1b-2cfd-4553-8f1d-da128855fc9b",
   "metadata": {},
   "outputs": [
    {
     "data": {
      "text/plain": [
       "0       1\n",
       "1       1\n",
       "2       1\n",
       "3       1\n",
       "4       1\n",
       "       ..\n",
       "2609    0\n",
       "2610    0\n",
       "2611    0\n",
       "2612    0\n",
       "2613    0\n",
       "Name: subreddit_label, Length: 2614, dtype: int64"
      ]
     },
     "execution_count": 28,
     "metadata": {},
     "output_type": "execute_result"
    }
   ],
   "source": [
    "# Verify values were mapped correctly\n",
    "# 1 refers to TravelHacks, 0 refers to roadtrips\n",
    "y"
   ]
  },
  {
   "cell_type": "code",
   "execution_count": 29,
   "id": "52ee1b4d-bb71-45a6-9bc0-172c9d8bb9fa",
   "metadata": {},
   "outputs": [],
   "source": [
    "# Create train_test_split.\n",
    "X_train, X_test, y_train, y_test = train_test_split(X,\n",
    "                                                    y,\n",
    "                                                    test_size = 0.20,\n",
    "                                                    random_state = 42,\n",
    "                                                    stratify=y)"
   ]
  },
  {
   "cell_type": "code",
   "execution_count": 30,
   "id": "c0baf880-0be2-47b3-a86a-0eeebf29556d",
   "metadata": {},
   "outputs": [
    {
     "name": "stdout",
     "output_type": "stream",
     "text": [
      "y_train:\n",
      "1    0.539933\n",
      "0    0.460067\n",
      "Name: subreddit_label, dtype: float64\n",
      "\n",
      "y_test:\n",
      "1    0.541109\n",
      "0    0.458891\n",
      "Name: subreddit_label, dtype: float64\n"
     ]
    }
   ],
   "source": [
    "# Verify if proportion of 1 and 0 are equivalent.\n",
    "print(f'y_train:\\n{y_train.value_counts(normalize=True)}\\n')\n",
    "print(f'y_test:\\n{y_test.value_counts(normalize=True)}')"
   ]
  },
  {
   "cell_type": "markdown",
   "id": "77e19136-b751-49cf-ade8-1dc5d162bdb2",
   "metadata": {},
   "source": [
    "### Apply sub_to_words function"
   ]
  },
  {
   "cell_type": "code",
   "execution_count": 31,
   "id": "6d539344-b4bf-45f1-af42-f19bd647b108",
   "metadata": {},
   "outputs": [
    {
     "name": "stderr",
     "output_type": "stream",
     "text": [
      "C:\\Users\\Wende.Joanne\\anaconda3\\lib\\site-packages\\bs4\\__init__.py:435: MarkupResemblesLocatorWarning: The input looks more like a filename than markup. You may want to open this file and pass the filehandle into Beautiful Soup.\n",
      "  warnings.warn(\n"
     ]
    }
   ],
   "source": [
    "# Pre-process train data set\n",
    "X_train = sub_to_words(X_train)\n",
    "\n",
    "# Convert X_train to series\n",
    "X_train = X_train['selftext_title']"
   ]
  },
  {
   "cell_type": "code",
   "execution_count": 32,
   "id": "3f5a34ea-be43-4e47-bf2a-117f32299bd9",
   "metadata": {},
   "outputs": [
    {
     "data": {
      "text/plain": [
       "2031    want drive pacif coast highway spend time sequ...\n",
       "1794    disclaim awar oklahoma legal medicin marijuana...\n",
       "1821    plan arkansa anaheim california late septemb p...\n",
       "1586    speed limit interst visibl sign differ state d...\n",
       "1698    american go roadtrip group aussi colorado last...\n",
       "Name: selftext_title, dtype: object"
      ]
     },
     "execution_count": 32,
     "metadata": {},
     "output_type": "execute_result"
    }
   ],
   "source": [
    "# Display first 5 rows of train data set. \n",
    "X_train.head()"
   ]
  },
  {
   "cell_type": "code",
   "execution_count": 33,
   "id": "84024e10-7839-42d7-b93e-e3c391819e1f",
   "metadata": {},
   "outputs": [
    {
     "name": "stderr",
     "output_type": "stream",
     "text": [
      "C:\\Users\\Wende.Joanne\\anaconda3\\lib\\site-packages\\bs4\\__init__.py:435: MarkupResemblesLocatorWarning: The input looks more like a filename than markup. You may want to open this file and pass the filehandle into Beautiful Soup.\n",
      "  warnings.warn(\n"
     ]
    }
   ],
   "source": [
    "# Pre-process test data set\n",
    "X_test = sub_to_words(X_test)\n",
    "\n",
    "X_test = X_test['selftext_title']"
   ]
  },
  {
   "cell_type": "code",
   "execution_count": 34,
   "id": "ec5694b3-707e-4862-b28c-960c609a088c",
   "metadata": {},
   "outputs": [
    {
     "data": {
      "text/plain": [
       "72      first choic lax lhr sin back lax british airwa...\n",
       "1317    anyon interest buy travel health insur insur a...\n",
       "60      question travel wife babi rate grow definit fi...\n",
       "505     partner look island hop june juli anyon tip tr...\n",
       "164     tri find one day tour go la sequoia park witho...\n",
       "Name: selftext_title, dtype: object"
      ]
     },
     "execution_count": 34,
     "metadata": {},
     "output_type": "execute_result"
    }
   ],
   "source": [
    "# Display first 5 rows of test data set. \n",
    "X_test.head()"
   ]
  },
  {
   "cell_type": "markdown",
   "id": "7d676759-9a5a-4c02-bfe6-c6fa1dd406af",
   "metadata": {},
   "source": [
    "## 3. Classification Modelling"
   ]
  },
  {
   "cell_type": "markdown",
   "id": "9587e798-54c9-4a70-84d6-5527a0fd6bcc",
   "metadata": {},
   "source": [
    "### Baseline Accuracy\n",
    "1. Baseline accuracy is needed to evaluate model if it is better than the null model (predicting the class).\n",
    "2. The proportion of TravelHacks to roadtrip subreddits is 54.1% to 45.9% in the y_test data set. \n",
    "3. The Zero Rate Classifier, which always classify the largest class, has an accuracy of 54.1%. The models generated should perform better than this accuracy. "
   ]
  },
  {
   "cell_type": "code",
   "execution_count": 35,
   "id": "00b3e8ce-c1b1-4fdf-b51c-6df1fc75bc2a",
   "metadata": {},
   "outputs": [
    {
     "name": "stdout",
     "output_type": "stream",
     "text": [
      "y_test:\n",
      "1    0.541109\n",
      "0    0.458891\n",
      "Name: subreddit_label, dtype: float64\n"
     ]
    }
   ],
   "source": [
    "# Display proportion of TravelHacks to roadtrip subreddits.\n",
    "print(f'y_test:\\n{y_test.value_counts(normalize=True)}')"
   ]
  },
  {
   "cell_type": "markdown",
   "id": "52cedd03-289b-40e5-a9f4-295cef24a75f",
   "metadata": {
    "tags": []
   },
   "source": [
    "### a. Base Model: Logistic Regression Model"
   ]
  },
  {
   "cell_type": "markdown",
   "id": "4d6b0644-fb7f-46a2-8020-81ddfccaabc8",
   "metadata": {},
   "source": [
    "#### Count Vectorizer"
   ]
  },
  {
   "cell_type": "code",
   "execution_count": 36,
   "id": "5a384f1d-3e81-4c13-8432-c5d4a801eb33",
   "metadata": {},
   "outputs": [],
   "source": [
    "# Instantiate count vectorizer object, which is sklearn's\n",
    "# bag of words tool.\n",
    "cvec = CountVectorizer()\n",
    "\n",
    "# fit_transform() does two things: First, it fits the model and \n",
    "# learns the vocabulary; second, it transforms our training data\n",
    "# into feature vectors. The input to fit_transform should be a \n",
    "# list of strings.\n",
    "X_train_data_features_cvec = cvec.fit_transform(X_train)\n",
    "X_test_data_features_cvec = cvec.transform(X_test)\n"
   ]
  },
  {
   "cell_type": "code",
   "execution_count": 37,
   "id": "f05fee4a-c70e-4d9b-9907-0a7e8a234bad",
   "metadata": {},
   "outputs": [
    {
     "name": "stdout",
     "output_type": "stream",
     "text": [
      "['aa', 'aaa', 'aal', 'aarhu', 'aarp', 'ab', 'abandon', 'abarth', 'abil', 'abilen', 'abl', 'abnb', 'aboard', 'abroad', 'abruzzo', 'absolut', 'absurd', 'absurdli', 'abu', 'abus', 'ac', 'acadia', 'accent', 'accept', 'access', 'accessbil', 'accessori', 'accid', 'accident', 'accomad', 'accommod', 'accomod', 'accomomd', 'accompani', 'accomplish', 'accord', 'accordingli', 'account', 'accoutn', 'accumul', 'accur', 'accuraci', 'accustom', 'achiev', 'acommod', 'acquir', 'acr', 'across', 'acryl', 'act']\n"
     ]
    },
    {
     "name": "stderr",
     "output_type": "stream",
     "text": [
      "C:\\Users\\Wende.Joanne\\anaconda3\\lib\\site-packages\\sklearn\\utils\\deprecation.py:87: FutureWarning: Function get_feature_names is deprecated; get_feature_names is deprecated in 1.0 and will be removed in 1.2. Please use get_feature_names_out instead.\n",
      "  warnings.warn(msg, category=FutureWarning)\n"
     ]
    }
   ],
   "source": [
    "# Display vocabs. \n",
    "vocab = cvec.get_feature_names()\n",
    "print(vocab[:50])"
   ]
  },
  {
   "cell_type": "markdown",
   "id": "ec6086e4-f2a8-4aaa-8333-299f7416006c",
   "metadata": {},
   "source": [
    "#### Create a LogisticRegression Model"
   ]
  },
  {
   "cell_type": "code",
   "execution_count": 38,
   "id": "4b7baca1-cc0d-4604-a750-675a9414c61d",
   "metadata": {},
   "outputs": [],
   "source": [
    "# create a LinearRegression model\n",
    "logreg = LogisticRegression()\n",
    "\n",
    "# fit it to training data \n",
    "logreg_base = logreg.fit(X_train_data_features_cvec, y_train)\n",
    "\n",
    "# generate predictions based on X_test set. \n",
    "y_pred_train = logreg_base.predict(X_train_data_features_cvec)\n",
    "\n",
    "# generate predictions based on X_test set. \n",
    "y_pred_test = logreg_base.predict(X_test_data_features_cvec)"
   ]
  },
  {
   "cell_type": "markdown",
   "id": "46012473-ff86-461d-85da-18afff18b124",
   "metadata": {
    "tags": []
   },
   "source": [
    "#### Assessment on coefficients\n",
    "1. There are a total of 7044 features in the model. \n",
    "2. The exponential of the coefficients ranges from 0.0919 to 4.96.\n",
    "3. The highest coefficient of 4.96 correspond to the word 'flight'. This may be intepreted as an unit increase of the word 'flight' in the submission suggests that it is 4.96 times likely that the submissions is from TravelHacks subreddit,  holding all else constant. Refer to top 15 highest coefficient words bar plot below. \n",
    "4. The lowest coefficient of 0.0919 corresponds to the word 'road'. This may be intepreted as an unit increase of the word 'road' in the submission suggests that it is 0.0919 times likely that the submissions is from TravelHacks subreddit,  holding all else constant. \n",
    "5. The word 'remov' has a significantly high coefficient. There are 23 submissions with the word 'remov' in their 'selftext_title' column. Further analysis showed that submissions were labelled 'removed' but has some website in the self_text. Hence, it was not identified earlier in during data cleaning. These rows will be removed subsequently.  "
   ]
  },
  {
   "cell_type": "code",
   "execution_count": 39,
   "id": "44d4ca8e-f6e5-4cc0-9296-bf18ec0065ac",
   "metadata": {},
   "outputs": [
    {
     "name": "stderr",
     "output_type": "stream",
     "text": [
      "C:\\Users\\Wende.Joanne\\anaconda3\\lib\\site-packages\\sklearn\\utils\\deprecation.py:87: FutureWarning: Function get_feature_names is deprecated; get_feature_names is deprecated in 1.0 and will be removed in 1.2. Please use get_feature_names_out instead.\n",
      "  warnings.warn(msg, category=FutureWarning)\n"
     ]
    }
   ],
   "source": [
    "# Convert coefficients into Dataframe\n",
    "logreg_base_coef = pd.DataFrame(np.exp(logreg.coef_), \n",
    "                                columns=cvec.get_feature_names())"
   ]
  },
  {
   "cell_type": "code",
   "execution_count": 40,
   "id": "d51cb73d-e471-468e-857e-d19a2b96ab24",
   "metadata": {},
   "outputs": [
    {
     "data": {
      "text/html": [
       "<div>\n",
       "<style scoped>\n",
       "    .dataframe tbody tr th:only-of-type {\n",
       "        vertical-align: middle;\n",
       "    }\n",
       "\n",
       "    .dataframe tbody tr th {\n",
       "        vertical-align: top;\n",
       "    }\n",
       "\n",
       "    .dataframe thead th {\n",
       "        text-align: right;\n",
       "    }\n",
       "</style>\n",
       "<table border=\"1\" class=\"dataframe\">\n",
       "  <thead>\n",
       "    <tr style=\"text-align: right;\">\n",
       "      <th></th>\n",
       "      <th>0</th>\n",
       "    </tr>\n",
       "  </thead>\n",
       "  <tbody>\n",
       "    <tr>\n",
       "      <th>aa</th>\n",
       "      <td>1.033174</td>\n",
       "    </tr>\n",
       "    <tr>\n",
       "      <th>aaa</th>\n",
       "      <td>1.124403</td>\n",
       "    </tr>\n",
       "    <tr>\n",
       "      <th>aal</th>\n",
       "      <td>1.000084</td>\n",
       "    </tr>\n",
       "    <tr>\n",
       "      <th>aarhu</th>\n",
       "      <td>1.009689</td>\n",
       "    </tr>\n",
       "    <tr>\n",
       "      <th>aarp</th>\n",
       "      <td>1.002972</td>\n",
       "    </tr>\n",
       "  </tbody>\n",
       "</table>\n",
       "</div>"
      ],
      "text/plain": [
       "              0\n",
       "aa     1.033174\n",
       "aaa    1.124403\n",
       "aal    1.000084\n",
       "aarhu  1.009689\n",
       "aarp   1.002972"
      ]
     },
     "execution_count": 40,
     "metadata": {},
     "output_type": "execute_result"
    }
   ],
   "source": [
    "# Display firsrt 5 rows of dataframe\n",
    "logreg_base_coef.T.head()"
   ]
  },
  {
   "cell_type": "code",
   "execution_count": 41,
   "id": "d56cbe4b-22ce-4fa0-af1b-4bbb9033eaad",
   "metadata": {},
   "outputs": [
    {
     "data": {
      "text/plain": [
       "count    7044.000000\n",
       "mean        1.005264\n",
       "std         0.161216\n",
       "min         0.091899\n",
       "25%         0.971249\n",
       "50%         0.999999\n",
       "75%         1.021544\n",
       "max         4.963128\n",
       "Name: 0, dtype: float64"
      ]
     },
     "execution_count": 41,
     "metadata": {},
     "output_type": "execute_result"
    }
   ],
   "source": [
    "logreg_base_coef.T[0].describe()"
   ]
  },
  {
   "cell_type": "code",
   "execution_count": 42,
   "id": "011e5ce0-2ad2-4b53-ace8-561650d66bf6",
   "metadata": {},
   "outputs": [
    {
     "data": {
      "image/png": "[encoded data removed]",
      "text/plain": [
       "<Figure size 576x576 with 1 Axes>"
      ]
     },
     "metadata": {
      "needs_background": "light"
     },
     "output_type": "display_data"
    }
   ],
   "source": [
    "# plot top 20 recurring words that predict submissions is from TravelHacks reddit\n",
    "plt.figure(figsize=(8, 8))\n",
    "ax = logreg_base_coef.T[0].sort_values(ascending=True).tail(20).plot(kind='barh');\n",
    "ax.bar_label(ax.containers[0]);\n",
    "plt.title('Top 15 Highest Coefficient Words', size=15);"
   ]
  },
  {
   "cell_type": "code",
   "execution_count": 43,
   "id": "a4ebd4b3-d7f9-4aae-b704-65b0c724b628",
   "metadata": {},
   "outputs": [
    {
     "data": {
      "image/png": "[encoded data removed]",
      "text/plain": [
       "<Figure size 576x576 with 1 Axes>"
      ]
     },
     "metadata": {
      "needs_background": "light"
     },
     "output_type": "display_data"
    }
   ],
   "source": [
    "# plot top 15 recurring words that predict submissions is from roadtrip reddit\n",
    "# lowest coefficient indicate highest preditability for roadtrip subreddit.\n",
    "plt.figure(figsize=(8, 8))\n",
    "ax = logreg_base_coef.T[0].sort_values(ascending=False).tail(15).plot(kind='barh');\n",
    "ax.bar_label(ax.containers[0])\n",
    "plt.title('15 Lowest Coefficient Words', size=15);"
   ]
  },
  {
   "cell_type": "code",
   "execution_count": 44,
   "id": "84ac504f-2619-4f86-8ae1-a71690e56625",
   "metadata": {},
   "outputs": [
    {
     "name": "stderr",
     "output_type": "stream",
     "text": [
      "C:\\Users\\Wende.Joanne\\anaconda3\\lib\\site-packages\\sklearn\\utils\\deprecation.py:87: FutureWarning: Function get_feature_names is deprecated; get_feature_names is deprecated in 1.0 and will be removed in 1.2. Please use get_feature_names_out instead.\n",
      "  warnings.warn(msg, category=FutureWarning)\n"
     ]
    }
   ],
   "source": [
    "# 'remov' has a high coefficient. This may suggest that some removed submissions\n",
    "# were not removed. This will be investigated further.\n",
    "# convert X_train_data_features_cvec to Dataframe\n",
    "X_train_data_features_cvec_df = pd.DataFrame(X_train_data_features_cvec.toarray(),\n",
    "                                             columns=cvec.get_feature_names(),\n",
    "                                             index=X_train.index)\n"
   ]
  },
  {
   "cell_type": "code",
   "execution_count": 45,
   "id": "f3ae8720-67de-444f-8376-a2b266111122",
   "metadata": {},
   "outputs": [
    {
     "data": {
      "text/plain": [
       "0    2068\n",
       "1      22\n",
       "3       1\n",
       "Name: remov, dtype: int64"
      ]
     },
     "execution_count": 45,
     "metadata": {},
     "output_type": "execute_result"
    }
   ],
   "source": [
    "# Count number of entries containing 'remov'\n",
    "X_train_data_features_cvec_df['remov'].value_counts()"
   ]
  },
  {
   "cell_type": "code",
   "execution_count": 46,
   "id": "be918f6b-92b9-49ee-8925-558e5d89b08c",
   "metadata": {},
   "outputs": [
    {
     "data": {
      "text/plain": [
       "Int64Index([2262, 2506,  732,  753,  485,  141,  128,  497,  886, 2223,  779,\n",
       "            1760,   67,   99,  102,  370, 1286, 2222,  142,  876,  487,  185,\n",
       "             110],\n",
       "           dtype='int64')"
      ]
     },
     "execution_count": 46,
     "metadata": {},
     "output_type": "execute_result"
    }
   ],
   "source": [
    "# Get index of rows with the word 'remov'\n",
    "remov_index = X_train_data_features_cvec_df[X_train_data_features_cvec_df['remov']>0].index\n",
    "remov_index"
   ]
  },
  {
   "cell_type": "code",
   "execution_count": 47,
   "id": "e1ba04c2-cc08-4fea-9840-61549101486c",
   "metadata": {},
   "outputs": [
    {
     "data": {
      "text/plain": [
       "2262    Dealing with a flat tire can be very inconveni...\n",
       "2506    Hi, lately I have been looking into the idea o...\n",
       "732     [removed]\\n\\n[View Poll](https://www.reddit.co...\n",
       "753     [https://webcam-passport-photo.onrender.com](h...\n",
       "485     [removed]\\n\\n[View Poll](https://www.reddit.co...\n",
       "141     [removed]\\n\\n[View Poll](https://www.reddit.co...\n",
       "128     [removed]\\n\\n[View Poll](https://www.reddit.co...\n",
       "497     [removed]\\n\\n[View Poll](https://www.reddit.co...\n",
       "886     [removed]\\n\\n[View Poll](https://www.reddit.co...\n",
       "2223    We are hoping to do a bit more traveling this ...\n",
       "779     1. 7-8/11 Rome\\n    1. 8/7 Rome - ARRIVE\\n    ...\n",
       "1760    Hi Everyone, \\n\\nPre-pandemic, we could stop b...\n",
       "67      [removed]\\n\\n[View Poll](https://www.reddit.co...\n",
       "99      [removed]\\n\\n[View Poll](https://www.reddit.co...\n",
       "102     [removed]\\n\\n[View Poll](https://www.reddit.co...\n",
       "370     Getting back in the saddle for the first time ...\n",
       "1286    [removed]\\n\\n[View Poll](https://www.reddit.co...\n",
       "2222    I have a 2017 Ford Escape, had a hitch added (...\n",
       "142     [removed]\\n\\n[View Poll](https://www.reddit.co...\n",
       "876     [removed]\\n\\n[View Poll](https://www.reddit.co...\n",
       "487     [removed]\\n\\n[View Poll](https://www.reddit.co...\n",
       "185     [removed]\\n\\n[View Poll](https://www.reddit.co...\n",
       "110     Save off paying custom duties on goods purchas...\n",
       "Name: selftext_title, dtype: object"
      ]
     },
     "execution_count": 47,
     "metadata": {},
     "output_type": "execute_result"
    }
   ],
   "source": [
    "# Display 'selftext_title' of rows in X_train containing 'remov'\n",
    "# There are some posts that are supposed to be removed \n",
    "# but was not identified during data cleaning. \n",
    "\n",
    "combined_posts.loc[remov_index]['selftext_title']"
   ]
  },
  {
   "cell_type": "code",
   "execution_count": 48,
   "id": "c9f80688-ae0d-4ee9-8c2c-eb80b3b2a44a",
   "metadata": {},
   "outputs": [
    {
     "data": {
      "text/plain": [
       "0    1972\n",
       "1      63\n",
       "2      28\n",
       "3      19\n",
       "4       5\n",
       "5       4\n",
       "Name: rental, dtype: int64"
      ]
     },
     "execution_count": 48,
     "metadata": {},
     "output_type": "execute_result"
    }
   ],
   "source": [
    "# 'rental' has one of the highest coefficient and this is not expected. \n",
    "# This may suggest that rental topics are better discussed in TravelHacks \n",
    "# instead of roadtrip subreddits. \n",
    "# This will be investigated further.\n",
    "# Count number of entries containing 'rental'\n",
    "X_train_data_features_cvec_df['rental'].value_counts()"
   ]
  },
  {
   "cell_type": "code",
   "execution_count": 49,
   "id": "5390cde4-0efa-4493-aa77-6e346f4ab5c5",
   "metadata": {},
   "outputs": [
    {
     "data": {
      "text/plain": [
       "Int64Index([1987, 2508, 1395, 1011, 404, 346, 1331, 887, 103], dtype='int64')"
      ]
     },
     "execution_count": 49,
     "metadata": {},
     "output_type": "execute_result"
    }
   ],
   "source": [
    "# There are too many submissions with the word 'rental'\n",
    "# It may not be possible to review through every single one. \n",
    "# To review submissions with more than 3 'rental' in submissions\n",
    "# Get index of rows with the word 'rental'\n",
    "rental_index = X_train_data_features_cvec_df[X_train_data_features_cvec_df['rental']>3].index\n",
    "rental_index"
   ]
  },
  {
   "cell_type": "code",
   "execution_count": 50,
   "id": "b3c4fe8c-2b04-4c75-b3ac-f1c6c94e2088",
   "metadata": {},
   "outputs": [
    {
     "data": {
      "text/plain": [
       "1987    Hi! My first ever post on reddit (hopefully I ...\n",
       "2508    I know the pandemic messed up the rental marke...\n",
       "1395    Hey Reddit, I hope these tips find you well!\\n...\n",
       "1011    My partner and I are planning on spending a we...\n",
       "404     I'm renting a car this August to drive out to ...\n",
       "346     so i'm moving about \\~6 hours away and want to...\n",
       "1331    I got lucky last year when I booked a rental c...\n",
       "887     Hi everyone! My wife and I just recently retur...\n",
       "103     I do not own a car or have personal auto insur...\n",
       "Name: selftext_title, dtype: object"
      ]
     },
     "execution_count": 50,
     "metadata": {},
     "output_type": "execute_result"
    }
   ],
   "source": [
    "# Display 'selftext_title' of rows in X_train containing more than three 'rental'\n",
    "# these submissions were related to car rental. \n",
    "combined_posts.loc[rental_index]['selftext_title']"
   ]
  },
  {
   "cell_type": "markdown",
   "id": "30fa3e70-14ae-463d-afac-e75ba0b8b1c6",
   "metadata": {},
   "source": [
    "#### Confusion Matrix"
   ]
  },
  {
   "cell_type": "code",
   "execution_count": 51,
   "id": "c152c33f-ef7f-4cb8-b482-653a79702f9a",
   "metadata": {},
   "outputs": [
    {
     "name": "stdout",
     "output_type": "stream",
     "text": [
      "Confusion Matrix:\n",
      "[[214  26]\n",
      " [ 22 261]]\n",
      "\n",
      "tn: 214\n",
      "fp: 26\n",
      "fn: 22\n",
      "tp: 261\n",
      "\n"
     ]
    }
   ],
   "source": [
    "# Generate confusion matrix.\n",
    "cm = confusion_matrix(y_test, y_pred_test)\n",
    "\n",
    "# Save TN/FP/FN/TP values.\n",
    "tn, fp, fn, tp = confusion_matrix(y_test, y_pred_test).ravel()\n",
    "\n",
    "print(f'Confusion Matrix:\\n{cm}\\n')\n",
    "print(f'tn: {tn}\\n\\\n",
    "fp: {fp}\\n\\\n",
    "fn: {fn}\\n\\\n",
    "tp: {tp}\\n')"
   ]
  },
  {
   "cell_type": "code",
   "execution_count": 52,
   "id": "3e83706f-ef90-424e-940b-f41c71907fa8",
   "metadata": {},
   "outputs": [
    {
     "data": {
      "text/html": [
       "<div>\n",
       "<style scoped>\n",
       "    .dataframe tbody tr th:only-of-type {\n",
       "        vertical-align: middle;\n",
       "    }\n",
       "\n",
       "    .dataframe tbody tr th {\n",
       "        vertical-align: top;\n",
       "    }\n",
       "\n",
       "    .dataframe thead th {\n",
       "        text-align: right;\n",
       "    }\n",
       "</style>\n",
       "<table border=\"1\" class=\"dataframe\">\n",
       "  <thead>\n",
       "    <tr style=\"text-align: right;\">\n",
       "      <th></th>\n",
       "      <th>pred roadtrip</th>\n",
       "      <th>pred TravelHacks</th>\n",
       "    </tr>\n",
       "  </thead>\n",
       "  <tbody>\n",
       "    <tr>\n",
       "      <th>actual roadtrip</th>\n",
       "      <td>214</td>\n",
       "      <td>26</td>\n",
       "    </tr>\n",
       "    <tr>\n",
       "      <th>actual TravelHacks</th>\n",
       "      <td>22</td>\n",
       "      <td>261</td>\n",
       "    </tr>\n",
       "  </tbody>\n",
       "</table>\n",
       "</div>"
      ],
      "text/plain": [
       "                    pred roadtrip  pred TravelHacks\n",
       "actual roadtrip               214                26\n",
       "actual TravelHacks             22               261"
      ]
     },
     "execution_count": 52,
     "metadata": {},
     "output_type": "execute_result"
    }
   ],
   "source": [
    "# Instantiate confusion matrix dataframe\n",
    "cm_df = pd.DataFrame(cm, columns=['pred roadtrip', 'pred TravelHacks'], index=['actual roadtrip', 'actual TravelHacks'])\n",
    "cm_df"
   ]
  },
  {
   "cell_type": "code",
   "execution_count": 53,
   "id": "a9a71639-8fe5-45bd-8090-73800ecd92c6",
   "metadata": {},
   "outputs": [
    {
     "data": {
      "image/png": "[encoded data removed]",
      "text/plain": [
       "<Figure size 432x288 with 2 Axes>"
      ]
     },
     "metadata": {
      "needs_background": "light"
     },
     "output_type": "display_data"
    }
   ],
   "source": [
    "# Plot confusion matrix\n",
    "disp = ConfusionMatrixDisplay(confusion_matrix=cm, \n",
    "                              display_labels=['roadtrip', 'TravelHacks'])\n",
    "disp.plot(cmap='Blues');"
   ]
  },
  {
   "cell_type": "markdown",
   "id": "fca7a178-d311-4e09-b760-5230538c29c7",
   "metadata": {},
   "source": [
    "#### Receiver Operating Characteristic (ROC) Curve"
   ]
  },
  {
   "cell_type": "code",
   "execution_count": 54,
   "id": "978b615c-10a6-49eb-ba4d-af2f9623cf87",
   "metadata": {},
   "outputs": [
    {
     "name": "stderr",
     "output_type": "stream",
     "text": [
      "C:\\Users\\Wende.Joanne\\anaconda3\\lib\\site-packages\\sklearn\\utils\\deprecation.py:87: FutureWarning: Function plot_roc_curve is deprecated; Function :func:`plot_roc_curve` is deprecated in 1.0 and will be removed in 1.2. Use one of the class methods: :meth:`sklearn.metric.RocCurveDisplay.from_predictions` or :meth:`sklearn.metric.RocCurveDisplay.from_estimator`.\n",
      "  warnings.warn(msg, category=FutureWarning)\n"
     ]
    },
    {
     "data": {
      "text/plain": [
       "<Figure size 576x432 with 0 Axes>"
      ]
     },
     "metadata": {},
     "output_type": "display_data"
    },
    {
     "data": {
      "image/png": "[encoded data removed]",
      "text/plain": [
       "<Figure size 432x288 with 1 Axes>"
      ]
     },
     "metadata": {
      "needs_background": "light"
     },
     "output_type": "display_data"
    }
   ],
   "source": [
    "# ROC curve\n",
    "plt.figure(figsize=(8, 6));\n",
    "plot_roc_curve(logreg_base, X_test_data_features_cvec, y_test);\n",
    "\n",
    "# Calculate ROC AUC.\n",
    "roc_score = roc_auc_score(y_test, logreg.predict_proba(X_test_data_features_cvec)[:,1])\n",
    "\n",
    "# add worst case scenario line\n",
    "plt.plot([0, 1], [0, 1],\n",
    "         label='baseline', linestyle='--');\n",
    "\n",
    "# add a legend\n",
    "plt.legend();\n",
    "\n",
    "# add plot title\n",
    "plt.title(f'Receiver Operating Characteristic Curve, AUC = {round(roc_score, 2)}');\n"
   ]
  },
  {
   "cell_type": "markdown",
   "id": "b046366b-ec66-4a79-9d64-853d0c9b7dc8",
   "metadata": {},
   "source": [
    "#### Scoring the Model\n",
    "1. Scoring is based on accuracy. \n",
    "2. This is because, in this case, it is assessed that it is not critical if a submission was incorrectly mistaking a TravelHacks for a roadtrip post doesn't seem much better or worse than incorrectly mistaking a roadtrip for a TravelHacks post.\n",
    "3. Hence, false positives and false negatives are assumed to have equal weightage and accuracy metric would be used for evaluation."
   ]
  },
  {
   "cell_type": "code",
   "execution_count": 55,
   "id": "291e08c9-4b5d-42fb-99ec-de989ac7c824",
   "metadata": {},
   "outputs": [
    {
     "data": {
      "text/plain": [
       "0.9976087996174079"
      ]
     },
     "execution_count": 55,
     "metadata": {},
     "output_type": "execute_result"
    }
   ],
   "source": [
    "# Evaluate model on training data.\n",
    "logreg_base.score(X_train_data_features_cvec, y_train)"
   ]
  },
  {
   "cell_type": "code",
   "execution_count": 56,
   "id": "c8151155-6551-43a2-b721-fb1597e3c32f",
   "metadata": {},
   "outputs": [
    {
     "data": {
      "text/plain": [
       "0.9082217973231358"
      ]
     },
     "execution_count": 56,
     "metadata": {},
     "output_type": "execute_result"
    }
   ],
   "source": [
    "# Evaluate model on testing data.\n",
    "logreg_base.score(X_test_data_features_cvec, y_test)"
   ]
  },
  {
   "cell_type": "code",
   "execution_count": 57,
   "id": "50969754-98f9-4f2d-9a37-2d20ab468c08",
   "metadata": {},
   "outputs": [
    {
     "data": {
      "text/plain": [
       "0.9091434378961072"
      ]
     },
     "execution_count": 57,
     "metadata": {},
     "output_type": "execute_result"
    }
   ],
   "source": [
    "# Compute cross_val_score on the X_train data set\n",
    "cross_val_score(logreg_base, X_train_data_features_cvec, y_train, cv=5).mean()"
   ]
  },
  {
   "cell_type": "code",
   "execution_count": 58,
   "id": "b099b7eb-790e-4d7b-8f60-e846f268294c",
   "metadata": {},
   "outputs": [
    {
     "name": "stdout",
     "output_type": "stream",
     "text": [
      "y_test:\n",
      "1    0.548757\n",
      "0    0.451243\n",
      "dtype: float64\n"
     ]
    }
   ],
   "source": [
    "# Display proportion of Predicted TravelHacks to roadtrip subreddits.\n",
    "print(f'y_test:\\n{pd.DataFrame(y_pred_test).value_counts(normalize=True)}')"
   ]
  },
  {
   "cell_type": "markdown",
   "id": "7a984c04-99e1-4d53-92d4-b5ddfcee2570",
   "metadata": {
    "toc-hr-collapsed": true
   },
   "source": [
    "#### Top 10 Words with Highest Count in Train Data"
   ]
  },
  {
   "cell_type": "code",
   "execution_count": 59,
   "id": "fe8f4a76-09a1-4df2-afea-ed5e9c6127c1",
   "metadata": {
    "tags": []
   },
   "outputs": [
    {
     "data": {
      "text/html": [
       "<div>\n",
       "<style scoped>\n",
       "    .dataframe tbody tr th:only-of-type {\n",
       "        vertical-align: middle;\n",
       "    }\n",
       "\n",
       "    .dataframe tbody tr th {\n",
       "        vertical-align: top;\n",
       "    }\n",
       "\n",
       "    .dataframe thead th {\n",
       "        text-align: right;\n",
       "    }\n",
       "</style>\n",
       "<table border=\"1\" class=\"dataframe\">\n",
       "  <thead>\n",
       "    <tr style=\"text-align: right;\">\n",
       "      <th></th>\n",
       "      <th>frequency</th>\n",
       "    </tr>\n",
       "  </thead>\n",
       "  <tbody>\n",
       "    <tr>\n",
       "      <th>travel</th>\n",
       "      <td>1253</td>\n",
       "    </tr>\n",
       "    <tr>\n",
       "      <th>day</th>\n",
       "      <td>1198</td>\n",
       "    </tr>\n",
       "    <tr>\n",
       "      <th>go</th>\n",
       "      <td>1041</td>\n",
       "    </tr>\n",
       "    <tr>\n",
       "      <th>would</th>\n",
       "      <td>1017</td>\n",
       "    </tr>\n",
       "    <tr>\n",
       "      <th>drive</th>\n",
       "      <td>928</td>\n",
       "    </tr>\n",
       "    <tr>\n",
       "      <th>plan</th>\n",
       "      <td>898</td>\n",
       "    </tr>\n",
       "    <tr>\n",
       "      <th>get</th>\n",
       "      <td>827</td>\n",
       "    </tr>\n",
       "    <tr>\n",
       "      <th>road</th>\n",
       "      <td>791</td>\n",
       "    </tr>\n",
       "    <tr>\n",
       "      <th>time</th>\n",
       "      <td>750</td>\n",
       "    </tr>\n",
       "    <tr>\n",
       "      <th>like</th>\n",
       "      <td>746</td>\n",
       "    </tr>\n",
       "  </tbody>\n",
       "</table>\n",
       "</div>"
      ],
      "text/plain": [
       "        frequency\n",
       "travel       1253\n",
       "day          1198\n",
       "go           1041\n",
       "would        1017\n",
       "drive         928\n",
       "plan          898\n",
       "get           827\n",
       "road          791\n",
       "time          750\n",
       "like          746"
      ]
     },
     "execution_count": 59,
     "metadata": {},
     "output_type": "execute_result"
    }
   ],
   "source": [
    "# Display top 10 words with the highest count in train data. \n",
    "X_train_data_features_cvec_df.sum().sort_values(ascending=False).to_frame(name='frequency').head(10)"
   ]
  },
  {
   "cell_type": "markdown",
   "id": "c4cf1d42-5fbf-4cd9-b697-e1532388e882",
   "metadata": {
    "jp-MarkdownHeadingCollapsed": true,
    "tags": []
   },
   "source": [
    "#### Model Evaluation\n",
    "1. The accuracy of the training data and testing data are 99.8% and 90.8% respectively. The model performed better on training data set and is within expectation.\n",
    "    - Since the baseline model has a higher accuracy on the training set than on the testing set, the model is overfit.\n",
    "    - This overfitting could be address by removing features (e.g. setting max_features to be lower than 5000) and/or by regularizing our model.\n",
    "2. The model has a cross validation accuracy of 90.9% on the train data. This means that the model is able to explain 90.9% of the variance in the y_train values.\n",
    "3. The word 'remov' has a significantly high coefficient. There are 23 submissions with the word 'remov' in their 'selftext_title' column. Further analysis showed that submissions were labelled 'removed' but has some website in the self_text. Hence, it was not identified earlier in during data cleaning. These rows will be removed subsequently."
   ]
  },
  {
   "cell_type": "markdown",
   "id": "9fb0aa9d-bb79-494b-8ea9-09940a0a78fa",
   "metadata": {},
   "source": [
    "#### Removing rows that were labelled '[removed]'"
   ]
  },
  {
   "cell_type": "code",
   "execution_count": 60,
   "id": "ede3a422-0de6-44d8-81c5-dbcf263bbd62",
   "metadata": {},
   "outputs": [
    {
     "data": {
      "text/html": [
       "<div>\n",
       "<style scoped>\n",
       "    .dataframe tbody tr th:only-of-type {\n",
       "        vertical-align: middle;\n",
       "    }\n",
       "\n",
       "    .dataframe tbody tr th {\n",
       "        vertical-align: top;\n",
       "    }\n",
       "\n",
       "    .dataframe thead th {\n",
       "        text-align: right;\n",
       "    }\n",
       "</style>\n",
       "<table border=\"1\" class=\"dataframe\">\n",
       "  <thead>\n",
       "    <tr style=\"text-align: right;\">\n",
       "      <th></th>\n",
       "      <th>subreddit</th>\n",
       "      <th>author</th>\n",
       "      <th>selftext</th>\n",
       "      <th>title</th>\n",
       "      <th>created_utc</th>\n",
       "      <th>selftext_title</th>\n",
       "      <th>subreddit_label</th>\n",
       "    </tr>\n",
       "  </thead>\n",
       "  <tbody>\n",
       "    <tr>\n",
       "      <th>67</th>\n",
       "      <td>TravelHacks</td>\n",
       "      <td>EconomicMetal</td>\n",
       "      <td>[removed]\\n\\n[View Poll](https://www.reddit.co...</td>\n",
       "      <td>Planning a surprise trip</td>\n",
       "      <td>2022-07-13 20:48:36</td>\n",
       "      <td>[removed]\\n\\n[View Poll](https://www.reddit.co...</td>\n",
       "      <td>1</td>\n",
       "    </tr>\n",
       "    <tr>\n",
       "      <th>99</th>\n",
       "      <td>TravelHacks</td>\n",
       "      <td>PitifulWorldliness</td>\n",
       "      <td>[removed]\\n\\n[View Poll](https://www.reddit.co...</td>\n",
       "      <td>Did inflation affect your vacation plans?</td>\n",
       "      <td>2022-07-11 15:50:56</td>\n",
       "      <td>[removed]\\n\\n[View Poll](https://www.reddit.co...</td>\n",
       "      <td>1</td>\n",
       "    </tr>\n",
       "    <tr>\n",
       "      <th>102</th>\n",
       "      <td>TravelHacks</td>\n",
       "      <td>Professional_Eye_987</td>\n",
       "      <td>[removed]\\n\\n[View Poll](https://www.reddit.co...</td>\n",
       "      <td>Beautiful road trip from Chandigarh to kasauli...</td>\n",
       "      <td>2022-07-11 13:00:31</td>\n",
       "      <td>[removed]\\n\\n[View Poll](https://www.reddit.co...</td>\n",
       "      <td>1</td>\n",
       "    </tr>\n",
       "    <tr>\n",
       "      <th>128</th>\n",
       "      <td>TravelHacks</td>\n",
       "      <td>Gadttravel2023</td>\n",
       "      <td>[removed]\\n\\n[View Poll](https://www.reddit.co...</td>\n",
       "      <td>Travel to Viet Nam</td>\n",
       "      <td>2022-07-08 03:30:13</td>\n",
       "      <td>[removed]\\n\\n[View Poll](https://www.reddit.co...</td>\n",
       "      <td>1</td>\n",
       "    </tr>\n",
       "    <tr>\n",
       "      <th>141</th>\n",
       "      <td>TravelHacks</td>\n",
       "      <td>SnooPandas5706</td>\n",
       "      <td>[removed]\\n\\n[View Poll](https://www.reddit.co...</td>\n",
       "      <td>What do you think of video-guided tour apps?</td>\n",
       "      <td>2022-07-07 12:47:27</td>\n",
       "      <td>[removed]\\n\\n[View Poll](https://www.reddit.co...</td>\n",
       "      <td>1</td>\n",
       "    </tr>\n",
       "    <tr>\n",
       "      <th>142</th>\n",
       "      <td>TravelHacks</td>\n",
       "      <td>SnooPandas5706</td>\n",
       "      <td>[removed]\\n\\n[View Poll](https://www.reddit.co...</td>\n",
       "      <td>What do you think of video-guided tour apps?</td>\n",
       "      <td>2022-07-07 12:42:53</td>\n",
       "      <td>[removed]\\n\\n[View Poll](https://www.reddit.co...</td>\n",
       "      <td>1</td>\n",
       "    </tr>\n",
       "    <tr>\n",
       "      <th>185</th>\n",
       "      <td>TravelHacks</td>\n",
       "      <td>Kshitij_More</td>\n",
       "      <td>[removed]\\n\\n[View Poll](https://www.reddit.co...</td>\n",
       "      <td>Will you like to post travel images in specifi...</td>\n",
       "      <td>2022-07-02 10:02:41</td>\n",
       "      <td>[removed]\\n\\n[View Poll](https://www.reddit.co...</td>\n",
       "      <td>1</td>\n",
       "    </tr>\n",
       "    <tr>\n",
       "      <th>413</th>\n",
       "      <td>TravelHacks</td>\n",
       "      <td>SelectLingonberry617</td>\n",
       "      <td>[removed]\\n\\n[View Poll](https://www.reddit.co...</td>\n",
       "      <td>Undecided one-week solo trip, Chicago+LA? Indi...</td>\n",
       "      <td>2022-06-09 23:31:11</td>\n",
       "      <td>[removed]\\n\\n[View Poll](https://www.reddit.co...</td>\n",
       "      <td>1</td>\n",
       "    </tr>\n",
       "    <tr>\n",
       "      <th>485</th>\n",
       "      <td>TravelHacks</td>\n",
       "      <td>Fun_Pound_9099</td>\n",
       "      <td>[removed]\\n\\n[View Poll](https://www.reddit.co...</td>\n",
       "      <td>C&amp;amp;E Travel Agency.</td>\n",
       "      <td>2022-06-02 15:41:26</td>\n",
       "      <td>[removed]\\n\\n[View Poll](https://www.reddit.co...</td>\n",
       "      <td>1</td>\n",
       "    </tr>\n",
       "    <tr>\n",
       "      <th>487</th>\n",
       "      <td>TravelHacks</td>\n",
       "      <td>Competitive-Panic473</td>\n",
       "      <td>[removed]\\n\\n[View Poll](https://www.reddit.co...</td>\n",
       "      <td>Your first choice?</td>\n",
       "      <td>2022-06-02 12:53:30</td>\n",
       "      <td>[removed]\\n\\n[View Poll](https://www.reddit.co...</td>\n",
       "      <td>1</td>\n",
       "    </tr>\n",
       "    <tr>\n",
       "      <th>497</th>\n",
       "      <td>TravelHacks</td>\n",
       "      <td>Competitive-Panic473</td>\n",
       "      <td>[removed]\\n\\n[View Poll](https://www.reddit.co...</td>\n",
       "      <td>What is your choice?</td>\n",
       "      <td>2022-06-01 12:10:49</td>\n",
       "      <td>[removed]\\n\\n[View Poll](https://www.reddit.co...</td>\n",
       "      <td>1</td>\n",
       "    </tr>\n",
       "    <tr>\n",
       "      <th>692</th>\n",
       "      <td>TravelHacks</td>\n",
       "      <td>Thematchalattee</td>\n",
       "      <td>[removed]\\n\\n[View Poll](https://www.reddit.co...</td>\n",
       "      <td>West Virginia Vs North Carolina</td>\n",
       "      <td>2022-05-10 18:35:34</td>\n",
       "      <td>[removed]\\n\\n[View Poll](https://www.reddit.co...</td>\n",
       "      <td>1</td>\n",
       "    </tr>\n",
       "    <tr>\n",
       "      <th>732</th>\n",
       "      <td>TravelHacks</td>\n",
       "      <td>digitalfolkartist</td>\n",
       "      <td>[removed]\\n\\n[View Poll](https://www.reddit.co...</td>\n",
       "      <td>$40 r/t to Oslo</td>\n",
       "      <td>2022-05-05 04:58:43</td>\n",
       "      <td>[removed]\\n\\n[View Poll](https://www.reddit.co...</td>\n",
       "      <td>1</td>\n",
       "    </tr>\n",
       "    <tr>\n",
       "      <th>876</th>\n",
       "      <td>TravelHacks</td>\n",
       "      <td>throaway36789</td>\n",
       "      <td>[removed]\\n\\n[View Poll](https://www.reddit.co...</td>\n",
       "      <td>How far in advance do you plan a trip to anoth...</td>\n",
       "      <td>2022-04-20 04:08:00</td>\n",
       "      <td>[removed]\\n\\n[View Poll](https://www.reddit.co...</td>\n",
       "      <td>1</td>\n",
       "    </tr>\n",
       "    <tr>\n",
       "      <th>886</th>\n",
       "      <td>TravelHacks</td>\n",
       "      <td>Cochilovo187</td>\n",
       "      <td>[removed]\\n\\n[View Poll](https://www.reddit.co...</td>\n",
       "      <td>I wish I could be cool with my sexy beautiful ...</td>\n",
       "      <td>2022-04-19 11:51:37</td>\n",
       "      <td>[removed]\\n\\n[View Poll](https://www.reddit.co...</td>\n",
       "      <td>1</td>\n",
       "    </tr>\n",
       "    <tr>\n",
       "      <th>943</th>\n",
       "      <td>TravelHacks</td>\n",
       "      <td>rohitgupta010</td>\n",
       "      <td>[removed]\\n\\n[View Poll](https://www.reddit.co...</td>\n",
       "      <td>If you could time-travel, which period would y...</td>\n",
       "      <td>2022-04-12 07:13:57</td>\n",
       "      <td>[removed]\\n\\n[View Poll](https://www.reddit.co...</td>\n",
       "      <td>1</td>\n",
       "    </tr>\n",
       "    <tr>\n",
       "      <th>1286</th>\n",
       "      <td>TravelHacks</td>\n",
       "      <td>Patient_Bullfrog_986</td>\n",
       "      <td>[removed]\\n\\n[View Poll](https://www.reddit.co...</td>\n",
       "      <td>Do you enjoy doing the planning for your trips?</td>\n",
       "      <td>2022-02-25 10:03:49</td>\n",
       "      <td>[removed]\\n\\n[View Poll](https://www.reddit.co...</td>\n",
       "      <td>1</td>\n",
       "    </tr>\n",
       "  </tbody>\n",
       "</table>\n",
       "</div>"
      ],
      "text/plain": [
       "        subreddit                author  \\\n",
       "67    TravelHacks         EconomicMetal   \n",
       "99    TravelHacks    PitifulWorldliness   \n",
       "102   TravelHacks  Professional_Eye_987   \n",
       "128   TravelHacks        Gadttravel2023   \n",
       "141   TravelHacks        SnooPandas5706   \n",
       "142   TravelHacks        SnooPandas5706   \n",
       "185   TravelHacks          Kshitij_More   \n",
       "413   TravelHacks  SelectLingonberry617   \n",
       "485   TravelHacks        Fun_Pound_9099   \n",
       "487   TravelHacks  Competitive-Panic473   \n",
       "497   TravelHacks  Competitive-Panic473   \n",
       "692   TravelHacks       Thematchalattee   \n",
       "732   TravelHacks     digitalfolkartist   \n",
       "876   TravelHacks         throaway36789   \n",
       "886   TravelHacks          Cochilovo187   \n",
       "943   TravelHacks         rohitgupta010   \n",
       "1286  TravelHacks  Patient_Bullfrog_986   \n",
       "\n",
       "                                               selftext  \\\n",
       "67    [removed]\\n\\n[View Poll](https://www.reddit.co...   \n",
       "99    [removed]\\n\\n[View Poll](https://www.reddit.co...   \n",
       "102   [removed]\\n\\n[View Poll](https://www.reddit.co...   \n",
       "128   [removed]\\n\\n[View Poll](https://www.reddit.co...   \n",
       "141   [removed]\\n\\n[View Poll](https://www.reddit.co...   \n",
       "142   [removed]\\n\\n[View Poll](https://www.reddit.co...   \n",
       "185   [removed]\\n\\n[View Poll](https://www.reddit.co...   \n",
       "413   [removed]\\n\\n[View Poll](https://www.reddit.co...   \n",
       "485   [removed]\\n\\n[View Poll](https://www.reddit.co...   \n",
       "487   [removed]\\n\\n[View Poll](https://www.reddit.co...   \n",
       "497   [removed]\\n\\n[View Poll](https://www.reddit.co...   \n",
       "692   [removed]\\n\\n[View Poll](https://www.reddit.co...   \n",
       "732   [removed]\\n\\n[View Poll](https://www.reddit.co...   \n",
       "876   [removed]\\n\\n[View Poll](https://www.reddit.co...   \n",
       "886   [removed]\\n\\n[View Poll](https://www.reddit.co...   \n",
       "943   [removed]\\n\\n[View Poll](https://www.reddit.co...   \n",
       "1286  [removed]\\n\\n[View Poll](https://www.reddit.co...   \n",
       "\n",
       "                                                  title          created_utc  \\\n",
       "67                             Planning a surprise trip  2022-07-13 20:48:36   \n",
       "99            Did inflation affect your vacation plans?  2022-07-11 15:50:56   \n",
       "102   Beautiful road trip from Chandigarh to kasauli...  2022-07-11 13:00:31   \n",
       "128                                  Travel to Viet Nam  2022-07-08 03:30:13   \n",
       "141        What do you think of video-guided tour apps?  2022-07-07 12:47:27   \n",
       "142        What do you think of video-guided tour apps?  2022-07-07 12:42:53   \n",
       "185   Will you like to post travel images in specifi...  2022-07-02 10:02:41   \n",
       "413   Undecided one-week solo trip, Chicago+LA? Indi...  2022-06-09 23:31:11   \n",
       "485                              C&amp;E Travel Agency.  2022-06-02 15:41:26   \n",
       "487                                  Your first choice?  2022-06-02 12:53:30   \n",
       "497                                What is your choice?  2022-06-01 12:10:49   \n",
       "692                     West Virginia Vs North Carolina  2022-05-10 18:35:34   \n",
       "732                                     $40 r/t to Oslo  2022-05-05 04:58:43   \n",
       "876   How far in advance do you plan a trip to anoth...  2022-04-20 04:08:00   \n",
       "886   I wish I could be cool with my sexy beautiful ...  2022-04-19 11:51:37   \n",
       "943   If you could time-travel, which period would y...  2022-04-12 07:13:57   \n",
       "1286    Do you enjoy doing the planning for your trips?  2022-02-25 10:03:49   \n",
       "\n",
       "                                         selftext_title  subreddit_label  \n",
       "67    [removed]\\n\\n[View Poll](https://www.reddit.co...                1  \n",
       "99    [removed]\\n\\n[View Poll](https://www.reddit.co...                1  \n",
       "102   [removed]\\n\\n[View Poll](https://www.reddit.co...                1  \n",
       "128   [removed]\\n\\n[View Poll](https://www.reddit.co...                1  \n",
       "141   [removed]\\n\\n[View Poll](https://www.reddit.co...                1  \n",
       "142   [removed]\\n\\n[View Poll](https://www.reddit.co...                1  \n",
       "185   [removed]\\n\\n[View Poll](https://www.reddit.co...                1  \n",
       "413   [removed]\\n\\n[View Poll](https://www.reddit.co...                1  \n",
       "485   [removed]\\n\\n[View Poll](https://www.reddit.co...                1  \n",
       "487   [removed]\\n\\n[View Poll](https://www.reddit.co...                1  \n",
       "497   [removed]\\n\\n[View Poll](https://www.reddit.co...                1  \n",
       "692   [removed]\\n\\n[View Poll](https://www.reddit.co...                1  \n",
       "732   [removed]\\n\\n[View Poll](https://www.reddit.co...                1  \n",
       "876   [removed]\\n\\n[View Poll](https://www.reddit.co...                1  \n",
       "886   [removed]\\n\\n[View Poll](https://www.reddit.co...                1  \n",
       "943   [removed]\\n\\n[View Poll](https://www.reddit.co...                1  \n",
       "1286  [removed]\\n\\n[View Poll](https://www.reddit.co...                1  "
      ]
     },
     "execution_count": 60,
     "metadata": {},
     "output_type": "execute_result"
    }
   ],
   "source": [
    "# display rows with submissions '[removed]'\n",
    "combined_posts[combined_posts['selftext'].str.contains('\\[removed\\]')]"
   ]
  },
  {
   "cell_type": "code",
   "execution_count": 61,
   "id": "3b12694a-bbf2-43d5-a01d-6adc86119c40",
   "metadata": {},
   "outputs": [
    {
     "data": {
      "text/plain": [
       "Int64Index([  67,   99,  102,  128,  141,  142,  185,  413,  485,  487,  497,\n",
       "             692,  732,  876,  886,  943, 1286],\n",
       "           dtype='int64')"
      ]
     },
     "execution_count": 61,
     "metadata": {},
     "output_type": "execute_result"
    }
   ],
   "source": [
    "# get index of rows with submissions '[removed]'\n",
    "removed_index = combined_posts[\n",
    "    combined_posts['selftext'].str.contains('\\[removed\\]')].index\n",
    "removed_index"
   ]
  },
  {
   "cell_type": "code",
   "execution_count": 62,
   "id": "c0dd91c9-efcc-48a2-8663-3a8932c7b55e",
   "metadata": {},
   "outputs": [],
   "source": [
    "# drop drows with submissions '[removed]' and reset index \n",
    "combined_posts.drop(index=removed_index, inplace=True)"
   ]
  },
  {
   "cell_type": "code",
   "execution_count": 63,
   "id": "85138fc5-0df0-45f7-851c-5b1b42da9c7f",
   "metadata": {},
   "outputs": [],
   "source": [
    "# reset index for data set. \n",
    "combined_posts.reset_index(drop=True, inplace=True)"
   ]
  },
  {
   "cell_type": "markdown",
   "id": "f9cffcae-7fa4-4bf2-b0d2-3fd8357b7cc3",
   "metadata": {},
   "source": [
    "#### Redefine X, y and Train/Test Split"
   ]
  },
  {
   "cell_type": "code",
   "execution_count": 64,
   "id": "df88bced-9ecb-4cbc-9a3b-6cfc8c85b569",
   "metadata": {},
   "outputs": [],
   "source": [
    "# re-define X and y. \n",
    "X = combined_posts[['selftext_title']]\n",
    "y = combined_posts['subreddit_label']"
   ]
  },
  {
   "cell_type": "code",
   "execution_count": 65,
   "id": "2464ddb0-f43a-4f61-939a-f27c21ae2f14",
   "metadata": {},
   "outputs": [],
   "source": [
    "# Re-create train_test_split.\n",
    "X_train, X_test, y_train, y_test = train_test_split(X,\n",
    "                                                    y,\n",
    "                                                    test_size = 0.20,\n",
    "                                                    random_state = 42,\n",
    "                                                    stratify=y)"
   ]
  },
  {
   "cell_type": "code",
   "execution_count": 66,
   "id": "129a04c1-2765-4d1c-bc0e-3ce65ebac943",
   "metadata": {},
   "outputs": [
    {
     "name": "stderr",
     "output_type": "stream",
     "text": [
      "C:\\Users\\Wende.Joanne\\anaconda3\\lib\\site-packages\\bs4\\__init__.py:435: MarkupResemblesLocatorWarning: The input looks more like a filename than markup. You may want to open this file and pass the filehandle into Beautiful Soup.\n",
      "  warnings.warn(\n",
      "C:\\Users\\Wende.Joanne\\anaconda3\\lib\\site-packages\\bs4\\__init__.py:435: MarkupResemblesLocatorWarning: The input looks more like a filename than markup. You may want to open this file and pass the filehandle into Beautiful Soup.\n",
      "  warnings.warn(\n"
     ]
    }
   ],
   "source": [
    "# Pre-process Training and Testing data set\n",
    "X_train = sub_to_words(X_train)\n",
    "X_test = sub_to_words(X_test)\n",
    "\n",
    "# Convert X_train and X_test to series\n",
    "X_train = X_train['selftext_title']\n",
    "X_test = X_test['selftext_title']"
   ]
  },
  {
   "cell_type": "code",
   "execution_count": 67,
   "id": "d74fc53d-5057-41ce-bcac-f8396882178d",
   "metadata": {
    "tags": []
   },
   "outputs": [],
   "source": [
    "# Instantiate count vectorizer object, which is sklearn's\n",
    "# bag of words tool.\n",
    "cvec = CountVectorizer()\n",
    "\n",
    "# fit_transform() does two things: First, it fits the model and \n",
    "# learns the vocabulary; second, it transforms our training data\n",
    "# into feature vectors. The input to fit_transform should be a \n",
    "# list of strings.\n",
    "X_train_data_features_cvec = cvec.fit_transform(X_train)\n",
    "X_test_data_features_cvec = cvec.transform(X_test)\n"
   ]
  },
  {
   "cell_type": "code",
   "execution_count": 68,
   "id": "7bca7ba4-0ac6-4a42-a146-decdbce384a1",
   "metadata": {},
   "outputs": [],
   "source": [
    "# create a LinearRegression model\n",
    "logreg = LogisticRegression()\n",
    "\n",
    "# fit it to training data \n",
    "logreg_base = logreg.fit(X_train_data_features_cvec, y_train)"
   ]
  },
  {
   "cell_type": "code",
   "execution_count": 69,
   "id": "51f14bca-89a4-41a7-bd06-969a0071a8cd",
   "metadata": {},
   "outputs": [
    {
     "data": {
      "text/plain": [
       "0.9971112181030333"
      ]
     },
     "execution_count": 69,
     "metadata": {},
     "output_type": "execute_result"
    }
   ],
   "source": [
    "# Evaluate model on training data.\n",
    "logreg_base.score(X_train_data_features_cvec, y_train)"
   ]
  },
  {
   "cell_type": "code",
   "execution_count": 70,
   "id": "54a91cf6-68cb-4480-b2b7-1efb82485396",
   "metadata": {},
   "outputs": [
    {
     "data": {
      "text/plain": [
       "0.9057692307692308"
      ]
     },
     "execution_count": 70,
     "metadata": {},
     "output_type": "execute_result"
    }
   ],
   "source": [
    "# Evaluate model on testing data.\n",
    "logreg_base.score(X_test_data_features_cvec, y_test)"
   ]
  },
  {
   "cell_type": "code",
   "execution_count": 71,
   "id": "8e4e737b-1e96-41d6-b1a9-d9a7beb69457",
   "metadata": {},
   "outputs": [
    {
     "data": {
      "text/plain": [
       "0.8984082483781279"
      ]
     },
     "execution_count": 71,
     "metadata": {},
     "output_type": "execute_result"
    }
   ],
   "source": [
    "# Compute cross_val_score on the X_train data set\n",
    "cross_val_score(logreg_base, X_train_data_features_cvec, y_train, cv=5).mean()"
   ]
  },
  {
   "cell_type": "markdown",
   "id": "df7a201a-42b1-4522-a7a7-71700b699879",
   "metadata": {},
   "source": [
    "#### Plot Results"
   ]
  },
  {
   "cell_type": "markdown",
   "id": "5ecd6ae4-5bd0-4410-84a5-a6dd4da33357",
   "metadata": {},
   "source": [
    "##### Define plot_results Function"
   ]
  },
  {
   "cell_type": "code",
   "execution_count": 72,
   "id": "2388ed4c-8368-4dfd-a210-f23a258121c9",
   "metadata": {},
   "outputs": [],
   "source": [
    "# define function to plot results. \n",
    "def plot_results(model, X_test, y_test):\n",
    "    \n",
    "    # Get predictions\n",
    "    preds = model.predict(X_test)\n",
    "    \n",
    "    # Calculate test accuracy\n",
    "    acc = accuracy_score(y_test, preds)\n",
    "\n",
    "            \n",
    "    #============= Plot Confusion Matrix =================    \n",
    "    # Save confusion matrix values\n",
    "    tn, fp, fn, tp = confusion_matrix(y_test, preds).ravel()\n",
    "    cm = confusion_matrix(y_test, preds)\n",
    "\n",
    "    # Calculate Sensitivity\n",
    "    sens = tp / (tp + fn)\n",
    "    \n",
    "    # Calculate Specificity\n",
    "    spec = tn / (tn + fp)\n",
    "      \n",
    "    # Instantiate confusion matrix dataframe\n",
    "    cm_df = pd.DataFrame(cm, \n",
    "                         columns=['pred roadtrip', 'pred TravelHacks'], \n",
    "                         index=['actual roadtrip', 'actual TravelHacks'])\n",
    "\n",
    "    # Plot confusion matrix\n",
    "    disp = ConfusionMatrixDisplay(confusion_matrix=cm, \n",
    "                                  display_labels=['roadtrip', 'TravelHacks'])\n",
    "    disp.plot(cmap='Blues');\n",
    "    \n",
    "    \n",
    "    \n",
    "    #============= Plot ROC Curve =================\n",
    "    # ROC curve\n",
    "    plt.figure(figsize=(8, 6));\n",
    "    plot_roc_curve(model, X_test, y_test);\n",
    "\n",
    "    # Calculate ROC AUC.\n",
    "    roc_score = roc_auc_score(y_test, model.predict_proba(X_test)[:,1])\n",
    "\n",
    "    # add worst case scenario line\n",
    "    plt.plot([0, 1], [0, 1],\n",
    "             label='baseline', linestyle='--');\n",
    "\n",
    "    # add a legend\n",
    "    plt.legend();\n",
    "\n",
    "    # add plot title \n",
    "    plt.title(f'Receiver Operating Characteristic Curve, AUC = {round(roc_score, 2)}');\n",
    "\n",
    "    \n",
    "    # Print results\n",
    "    print(f'Accuracy: {accuracy_score(y_test, preds)}')\n",
    "    print(f'Sensitivity: {sens}')\n",
    "    print(f'Specificity: {spec}')\n",
    "    print(f'ROC: {roc_score}\\n')\n",
    "    \n",
    "    # Compile results in dataframe\n",
    "    results = pd.DataFrame(data=[['',\n",
    "                                  '',\n",
    "                                  '',\n",
    "                                  acc, \n",
    "                                  sens, \n",
    "                                  spec, \n",
    "                                  roc_score]],\n",
    "                           columns=['Model',\n",
    "                                    'Cross Validated Score',\n",
    "                                    'Training Accuracy',\n",
    "                                    'Accuracy', \n",
    "                                    'Sensitivity', \n",
    "                                    'Specificity', \n",
    "                                    'ROC'])    \n",
    "    \n",
    "    return results"
   ]
  },
  {
   "cell_type": "code",
   "execution_count": 73,
   "id": "0c59efa6-57be-4d67-942a-fdc993ac84d8",
   "metadata": {},
   "outputs": [
    {
     "name": "stderr",
     "output_type": "stream",
     "text": [
      "C:\\Users\\Wende.Joanne\\anaconda3\\lib\\site-packages\\sklearn\\utils\\deprecation.py:87: FutureWarning: Function plot_roc_curve is deprecated; Function :func:`plot_roc_curve` is deprecated in 1.0 and will be removed in 1.2. Use one of the class methods: :meth:`sklearn.metric.RocCurveDisplay.from_predictions` or :meth:`sklearn.metric.RocCurveDisplay.from_estimator`.\n",
      "  warnings.warn(msg, category=FutureWarning)\n"
     ]
    },
    {
     "name": "stdout",
     "output_type": "stream",
     "text": [
      "Accuracy: 0.9057692307692308\n",
      "Sensitivity: 0.9283154121863799\n",
      "Specificity: 0.8796680497925311\n",
      "ROC: 0.9640238552030815\n",
      "\n"
     ]
    },
    {
     "data": {
      "image/png": "[encoded data removed]",
      "text/plain": [
       "<Figure size 432x288 with 2 Axes>"
      ]
     },
     "metadata": {
      "needs_background": "light"
     },
     "output_type": "display_data"
    },
    {
     "data": {
      "text/plain": [
       "<Figure size 576x432 with 0 Axes>"
      ]
     },
     "metadata": {},
     "output_type": "display_data"
    },
    {
     "data": {
      "image/png": "[encoded data removed]",
      "text/plain": [
       "<Figure size 432x288 with 1 Axes>"
      ]
     },
     "metadata": {
      "needs_background": "light"
     },
     "output_type": "display_data"
    }
   ],
   "source": [
    "# Retrieve results of model\n",
    "logreg_base_results = plot_results(logreg_base, \n",
    "                                   X_test_data_features_cvec, \n",
    "                                   y_test)\n",
    "\n",
    "# Assigning value for model and training accuracy\n",
    "logreg_base_results['Model'] = 'logreg_base'\n",
    "logreg_base_results['Cross Validated Score'] = cross_val_score(\n",
    "    logreg_base, \n",
    "    X_train_data_features_cvec, \n",
    "    y_train, \n",
    "    cv=5).mean()\n",
    "\n",
    "logreg_base_results['Training Accuracy'] = logreg_base.score(\n",
    "    X_train_data_features_cvec, \n",
    "    y_train\n",
    ")\n",
    "\n",
    "# Instantiate model summary dataframe.\n",
    "model_summary = pd.DataFrame(logreg_base_results)\n"
   ]
  },
  {
   "cell_type": "code",
   "execution_count": 74,
   "id": "c6d9a502-8b71-4e1e-9aea-2c56aff58657",
   "metadata": {},
   "outputs": [
    {
     "name": "stderr",
     "output_type": "stream",
     "text": [
      "C:\\Users\\Wende.Joanne\\anaconda3\\lib\\site-packages\\sklearn\\utils\\deprecation.py:87: FutureWarning: Function get_feature_names is deprecated; get_feature_names is deprecated in 1.0 and will be removed in 1.2. Please use get_feature_names_out instead.\n",
      "  warnings.warn(msg, category=FutureWarning)\n"
     ]
    },
    {
     "data": {
      "image/png": "[encoded data removed]",
      "text/plain": [
       "<Figure size 576x576 with 1 Axes>"
      ]
     },
     "metadata": {
      "needs_background": "light"
     },
     "output_type": "display_data"
    },
    {
     "data": {
      "image/png": "[encoded data removed]",
      "text/plain": [
       "<Figure size 576x576 with 1 Axes>"
      ]
     },
     "metadata": {
      "needs_background": "light"
     },
     "output_type": "display_data"
    }
   ],
   "source": [
    "#============= Plot Coefficients Barplot =================\n",
    "# retrieve words and corresponding coefficients\n",
    "words = list(cvec.get_feature_names())\n",
    "coef = list(np.exp(logreg_base.coef_[0]))\n",
    "\n",
    "# Create dataframe with words and coef\n",
    "coef_df = pd.DataFrame(zip(words, coef), columns=['words', 'coef'])\n",
    "\n",
    "# set 'words' as index.\n",
    "coef_df.set_index('words', inplace=True)\n",
    "\n",
    "\n",
    "# plot top 15 recurring words that predict submissions is from TravelHacks reddit\n",
    "plt.figure(figsize=(8, 8))\n",
    "ax = sns.barplot(data=coef_df.sort_values(by='coef', ascending=False).head(15), \n",
    "                 y=coef_df.sort_values(by='coef', ascending=False).head(15).index, \n",
    "                 x='coef', \n",
    "                 palette=\"crest\")\n",
    "ax.bar_label(ax.containers[0])\n",
    "plt.title('Top 15 Highest Coefficient Words', size=15);\n",
    "\n",
    "\n",
    "# plot top 15 recurring words that predict submissions is from roadtrip reddit\n",
    "# lowest coefficient indicate highest preditability for roadtrip subreddit.\n",
    "plt.figure(figsize=(8, 8))\n",
    "ax = sns.barplot(data=coef_df.sort_values(by='coef', ascending=True).head(15), \n",
    "                 y=coef_df.sort_values(by='coef', ascending=True).head(15).index, \n",
    "                 x='coef', \n",
    "                 palette=\"crest\");\n",
    "ax.bar_label(ax.containers[0])\n",
    "plt.title('15 Lowest Coefficient Words', size=15);"
   ]
  },
  {
   "cell_type": "markdown",
   "id": "2a64af55-cdf7-49e8-9833-16a8ff568fa7",
   "metadata": {},
   "source": [
    "#### Re-evaluation\n",
    "1. The accuracy of the training data and testing data are 99.8% and 90.6% respectively. The model performed better on training data set and is within expectation.\n",
    "    - Since the baseline model has a higher accuracy on the training set than on the testing set, the model is overfit.\n",
    "    - This overfitting could be address by removing features (e.g. setting max_features to be lower than 5000) and/or by regularizing our model.\n",
    "2. The model has a cross validation accuracy of 89.8% on the train data. This means that the model is able to explain 89.8% of the variance in the y_train values.\n",
    "3. The Logistics Regression Base Model performed signicantly better than the baseline accuracy. "
   ]
  },
  {
   "cell_type": "markdown",
   "id": "cd03390e-d239-4c86-b173-08ba1155b1a7",
   "metadata": {},
   "source": [
    "### b. Logistic Regression Model with Cvec/Tvec"
   ]
  },
  {
   "cell_type": "markdown",
   "id": "2cae6d86-0f3f-4a16-869a-c2945fcf4189",
   "metadata": {},
   "source": [
    "#### Define run_vect Function\n",
    "The function aims to find out the best estimator."
   ]
  },
  {
   "cell_type": "code",
   "execution_count": 75,
   "id": "4092fded-1066-489f-a8f5-2e5216238627",
   "metadata": {},
   "outputs": [],
   "source": [
    "def run_vect(estimator, X_train, y_train):\n",
    "\n",
    "    # Let's set a pipeline up with two stages:\n",
    "    # 1. count vectorizer (transformer)\n",
    "    # 2. tf-idf vectorizer (transformer)\n",
    "    # 3. logistic regression (estimator)\n",
    "    cvec_pipe =  Pipeline([\n",
    "        ('cvec', CountVectorizer()),\n",
    "        ('estimator', estimator)\n",
    "    ])\n",
    "\n",
    "    tvec_pipe =  Pipeline([\n",
    "        ('tvec', TfidfVectorizer()),\n",
    "        ('estimator', estimator)\n",
    "    ])\n",
    "\n",
    "    # Search over the following values of hyperparameters:\n",
    "    cvec_pipe_params = {\n",
    "        'cvec__max_features': [2_000, 3_000, 4_000, 5_000],\n",
    "        'cvec__min_df': [2, 3, 4],\n",
    "        'cvec__max_df': [0.85, 0.9, 0.95],\n",
    "        'cvec__ngram_range': [(1,1), (1,2)]\n",
    "    }\n",
    "\n",
    "    tvec_pipe_params = {\n",
    "        'tvec__max_features': [2_000, 3_000, 4_000, 5_000],\n",
    "        'tvec__min_df' : [2, 3, 4],\n",
    "        'tvec__max_df': [0.85, 0.9, 0.95],\n",
    "        'tvec__ngram_range': [(1,1), (1,2)],\n",
    "    }\n",
    "\n",
    "    # Instantiate GridSearchCV.\n",
    "    gs_cvec = GridSearchCV(cvec_pipe,\n",
    "                           param_grid=cvec_pipe_params, \n",
    "                           cv=5)\n",
    "\n",
    "    gs_tvec = GridSearchCV(tvec_pipe,\n",
    "                           param_grid=tvec_pipe_params, \n",
    "                           cv=5)\n",
    "\n",
    "    # Fit GridSearch to training data.\n",
    "    gs_cvec.fit(X_train, y_train);\n",
    "\n",
    "    # Fit GridSearch to training data.\n",
    "    gs_tvec.fit(X_train, y_train);\n",
    "    \n",
    "    \n",
    "    # Find best score?\n",
    "    print(f'Count Vectorizer scores: {gs_cvec.best_score_}')\n",
    "\n",
    "    # Find best score?\n",
    "    print(f'TF-IDF Vectorizer scores: {gs_tvec.best_score_}\\n')\n",
    "    \n",
    "    if gs_cvec.best_score_>gs_tvec.best_score_:\n",
    "        \n",
    "        # print best vectorizer\n",
    "        print('Best vectorizer: Count Vectorizer')\n",
    "        \n",
    "        # print best params\n",
    "        print(f'Best parameters: {gs_cvec.best_params_}')\n",
    "        \n",
    "        # Score model on training set.\n",
    "        print(f'Training Score: {gs_cvec.score(X_train, y_train)}')\n",
    "              \n",
    "        return gs_cvec.best_estimator_\n",
    "    \n",
    "    else:\n",
    "\n",
    "        # print best vectorizer\n",
    "        print('Best vectorizer: TF-IDF Vectorizer')\n",
    "        \n",
    "        # print best params\n",
    "        print(f'Best parameters: \\n{gs_tvec.best_params_}')\n",
    "        \n",
    "        # Score model on training set.\n",
    "        print(f'Training Score: \\n{gs_tvec.score(X_train, y_train)}')\n",
    "       \n",
    "        return gs_tvec.best_estimator_\n",
    "\n"
   ]
  },
  {
   "cell_type": "markdown",
   "id": "78cdace7-e321-46ad-a63e-870f96fd9054",
   "metadata": {
    "tags": []
   },
   "source": [
    "#### Find Best Vectorizer"
   ]
  },
  {
   "cell_type": "code",
   "execution_count": 76,
   "id": "51937ca1-2103-4cba-999a-0b32bed12099",
   "metadata": {},
   "outputs": [
    {
     "name": "stdout",
     "output_type": "stream",
     "text": [
      "Count Vectorizer scores: 0.9022532437442076\n",
      "TF-IDF Vectorizer scores: 0.9162221964782207\n",
      "\n",
      "Best vectorizer: TF-IDF Vectorizer\n",
      "Best parameters: \n",
      "{'tvec__max_df': 0.85, 'tvec__max_features': 4000, 'tvec__min_df': 3, 'tvec__ngram_range': (1, 2)}\n",
      "Training Score: \n",
      "0.9537794896485315\n"
     ]
    }
   ],
   "source": [
    "# find best vectorizer\n",
    "gs_logreg_model = run_vect(LogisticRegression(), X_train, y_train)"
   ]
  },
  {
   "cell_type": "code",
   "execution_count": 77,
   "id": "83a5fdd0-eb48-46c0-b19e-cc24f94df250",
   "metadata": {},
   "outputs": [
    {
     "data": {
      "text/plain": [
       "0.9192307692307692"
      ]
     },
     "execution_count": 77,
     "metadata": {},
     "output_type": "execute_result"
    }
   ],
   "source": [
    "# Score model on testing set\n",
    "gs_logreg_model.score(X_test, y_test)"
   ]
  },
  {
   "cell_type": "markdown",
   "id": "e6047b46-3bf7-4305-806b-2909f53f6ce4",
   "metadata": {},
   "source": [
    "#### Plot gs_logreg_model Results"
   ]
  },
  {
   "cell_type": "code",
   "execution_count": 78,
   "id": "ea27eb01-1581-42c0-8a27-44fe260a1cc4",
   "metadata": {},
   "outputs": [
    {
     "name": "stdout",
     "output_type": "stream",
     "text": [
      "Accuracy: 0.9192307692307692\n",
      "Sensitivity: 0.9354838709677419\n",
      "Specificity: 0.9004149377593361\n",
      "ROC: 0.9693630184862951\n",
      "\n"
     ]
    },
    {
     "name": "stderr",
     "output_type": "stream",
     "text": [
      "C:\\Users\\Wende.Joanne\\anaconda3\\lib\\site-packages\\sklearn\\utils\\deprecation.py:87: FutureWarning: Function plot_roc_curve is deprecated; Function :func:`plot_roc_curve` is deprecated in 1.0 and will be removed in 1.2. Use one of the class methods: :meth:`sklearn.metric.RocCurveDisplay.from_predictions` or :meth:`sklearn.metric.RocCurveDisplay.from_estimator`.\n",
      "  warnings.warn(msg, category=FutureWarning)\n"
     ]
    },
    {
     "data": {
      "image/png": "[encoded data removed]",
      "text/plain": [
       "<Figure size 432x288 with 2 Axes>"
      ]
     },
     "metadata": {
      "needs_background": "light"
     },
     "output_type": "display_data"
    },
    {
     "data": {
      "text/plain": [
       "<Figure size 576x432 with 0 Axes>"
      ]
     },
     "metadata": {},
     "output_type": "display_data"
    },
    {
     "data": {
      "image/png": "[encoded data removed]",
      "text/plain": [
       "<Figure size 432x288 with 1 Axes>"
      ]
     },
     "metadata": {
      "needs_background": "light"
     },
     "output_type": "display_data"
    }
   ],
   "source": [
    "# plot results\n",
    "gs_logreg_results = plot_results(gs_logreg_model, X_test, y_test)"
   ]
  },
  {
   "cell_type": "code",
   "execution_count": 79,
   "id": "70a6a4fd-333c-4afd-b3ad-da27d388e1b3",
   "metadata": {},
   "outputs": [],
   "source": [
    "# Assign value for model and training accuracy\n",
    "gs_logreg_results['Model'] = 'logreg_tvec (gs_logreg_model)'\n",
    "gs_logreg_results['Cross Validated Score'] = 0.922236617797477\n",
    "gs_logreg_results['Training Accuracy'] = gs_logreg_model.score(X_train, y_train)\n",
    "    \n",
    "# append model results to model_summary dataframe\n",
    "model_summary = pd.concat([model_summary, gs_logreg_results], ignore_index=True)"
   ]
  },
  {
   "cell_type": "code",
   "execution_count": 80,
   "id": "1b30eb3a-0b5e-4ec7-a4e9-214e9172a36d",
   "metadata": {},
   "outputs": [
    {
     "data": {
      "text/html": [
       "<div>\n",
       "<style scoped>\n",
       "    .dataframe tbody tr th:only-of-type {\n",
       "        vertical-align: middle;\n",
       "    }\n",
       "\n",
       "    .dataframe tbody tr th {\n",
       "        vertical-align: top;\n",
       "    }\n",
       "\n",
       "    .dataframe thead th {\n",
       "        text-align: right;\n",
       "    }\n",
       "</style>\n",
       "<table border=\"1\" class=\"dataframe\">\n",
       "  <thead>\n",
       "    <tr style=\"text-align: right;\">\n",
       "      <th></th>\n",
       "      <th>Model</th>\n",
       "      <th>Cross Validated Score</th>\n",
       "      <th>Training Accuracy</th>\n",
       "      <th>Accuracy</th>\n",
       "      <th>Sensitivity</th>\n",
       "      <th>Specificity</th>\n",
       "      <th>ROC</th>\n",
       "    </tr>\n",
       "  </thead>\n",
       "  <tbody>\n",
       "    <tr>\n",
       "      <th>0</th>\n",
       "      <td>logreg_base</td>\n",
       "      <td>0.898408</td>\n",
       "      <td>0.997111</td>\n",
       "      <td>0.905769</td>\n",
       "      <td>0.928315</td>\n",
       "      <td>0.879668</td>\n",
       "      <td>0.964024</td>\n",
       "    </tr>\n",
       "    <tr>\n",
       "      <th>1</th>\n",
       "      <td>logreg_tvec (gs_logreg_model)</td>\n",
       "      <td>0.922237</td>\n",
       "      <td>0.953779</td>\n",
       "      <td>0.919231</td>\n",
       "      <td>0.935484</td>\n",
       "      <td>0.900415</td>\n",
       "      <td>0.969363</td>\n",
       "    </tr>\n",
       "  </tbody>\n",
       "</table>\n",
       "</div>"
      ],
      "text/plain": [
       "                           Model  Cross Validated Score  Training Accuracy  \\\n",
       "0                    logreg_base               0.898408           0.997111   \n",
       "1  logreg_tvec (gs_logreg_model)               0.922237           0.953779   \n",
       "\n",
       "   Accuracy  Sensitivity  Specificity       ROC  \n",
       "0  0.905769     0.928315     0.879668  0.964024  \n",
       "1  0.919231     0.935484     0.900415  0.969363  "
      ]
     },
     "execution_count": 80,
     "metadata": {},
     "output_type": "execute_result"
    }
   ],
   "source": [
    "# Display models summary\n",
    "model_summary"
   ]
  },
  {
   "cell_type": "markdown",
   "id": "ea25ae3d-e079-41df-8c96-03233f9fd4a3",
   "metadata": {
    "tags": []
   },
   "source": [
    "#### Model Evaluation\n",
    "1. The accuracy of the training data and testing data are 95.4% and 91.9% respectively. The model performed better on training data set and is within expectation.\n",
    "    - Since the model has a higher accuracy on the training set than on the testing set, the model is slightly overfit.\n",
    "2. Comparing to the base logistics regression model, \n",
    "    - the logreg_tvec model is less fitted to the training data and achieve a slightly higher ROC score than the base model. \n",
    "    - This means that the logreg_tvec model performs slightly better in predicting the classifications.\n",
    "    - This is because the model is able to reduce the number of false negatives(wrongly classify a TravelHacks submissions as roadtrip's) and false positives (wrongly classify a roadtrip submissions as TravelHacks') as seen from the better sensitivity score and specificity score.\n"
   ]
  },
  {
   "cell_type": "markdown",
   "id": "b170bff1-22e3-434b-9591-f06dafaf3b77",
   "metadata": {
    "tags": []
   },
   "source": [
    "#### Assessment on coefficients (see plots below)\n",
    "1. There are a total of 4,000 features in the model, due to limit set. \n",
    "2. The highest coefficient of 73.4 correspond to the word 'flight'. This may be intepreted as an unit increase of the word 'flight' in the submission suggests that it is 73.4 times likely that the submissions is from TravelHacks subreddit,  holding all else constant. \n",
    "3. The lowest coefficient of 0.00175 corresponds to the word 'road'. This may be intepreted as an unit increase of the word 'road' in the submission suggests that it is 0.00175 times likely that the submissions is from TravelHacks subreddit,  holding all else constant.\n",
    "4. It is interesting to note that main discussion in TravelHacks revolves around 'ticket', 'flight', 'airline'. This may suggest that travellers may prefer to find out about tips to get flying tips in TravelHacks. The project may consider reviewing strategies implemented by airlines at TravelHacks and partner airlines operating in Australia to attract travellers and increase availability of flight.\n",
    "\n",
    "**TravelHacks**\n",
    "\n",
    "5. The top five words for TravelHacks are 'flight', 'travel', 'book', 'ticket' and 'airline'.\n",
    "6. It is interesting to note that main discussion in TravelHacks revolves around 'ticket', 'flight'. This may suggest that travellers may prefer to find out about tips to get cheap air tickets, travelling tips in TravelHacks. The project may consider reviewing strategies implemented by airlines at TravelHacks and partner airlines operating in Australia to attract travellers and increase availability of flight.\n",
    "7. Other than the flight related topics under TravelHacks subreddit like air tickets discussed earlier, some of the interesting words identified here are:\n",
    "    - 'test': travellers are concern with the types of test requirements (PCR, ART tests) during travelling. The project can explore providing testing services at airport to facilitate travellers meeting the requirements to ease the travellers' burden. \n",
    "\n",
    "**roadtrip**\n",
    "\n",
    "8. The top five words that are not related to US states for roadtrip are 'road', 'drive', 'roadtrip', 'stop' and 'route'. \n",
    "9. Other words of interests to the project are 'camp', 'park', 'coast'.\n",
    "10. This may suggest that discussion in roadtrip subreddit are concern about having stops and camping ground while travelling from one destination to another. Places of interests along the route includes parks and coastal roads. The project may consider establishing resting areas with amenities or camping areas around national parks or along coastal roads unique to Austrialia, e.g. the Great Ocean Road.  "
   ]
  },
  {
   "cell_type": "code",
   "execution_count": 81,
   "id": "febb1753-88fe-4195-84a9-75e0006e627e",
   "metadata": {},
   "outputs": [
    {
     "name": "stderr",
     "output_type": "stream",
     "text": [
      "C:\\Users\\Wende.Joanne\\anaconda3\\lib\\site-packages\\sklearn\\utils\\deprecation.py:87: FutureWarning: Function get_feature_names is deprecated; get_feature_names is deprecated in 1.0 and will be removed in 1.2. Please use get_feature_names_out instead.\n",
      "  warnings.warn(msg, category=FutureWarning)\n"
     ]
    },
    {
     "data": {
      "image/png": "[encoded data removed]",
      "text/plain": [
       "<Figure size 576x576 with 1 Axes>"
      ]
     },
     "metadata": {
      "needs_background": "light"
     },
     "output_type": "display_data"
    },
    {
     "data": {
      "image/png": "[encoded data removed]",
      "text/plain": [
       "<Figure size 576x576 with 1 Axes>"
      ]
     },
     "metadata": {
      "needs_background": "light"
     },
     "output_type": "display_data"
    }
   ],
   "source": [
    "# Analysis of coefficients of model\n",
    "\n",
    "#============= Plot Coefficients Barplot =================\n",
    "# retrieve words and corresponding coefficients\n",
    "words = list(gs_logreg_model.steps[0][1].get_feature_names())\n",
    "coef = list(np.exp(gs_logreg_model.steps[1][1].coef_[0]))\n",
    "\n",
    "# Create dataframe with words and coef\n",
    "coef_df = pd.DataFrame(zip(words, coef), columns=['words', 'coef'])\n",
    "\n",
    "# set 'words' as index.\n",
    "coef_df.set_index('words', inplace=True)\n",
    "\n",
    "\n",
    "# plot top 20 recurring words that predict submissions is from TravelHacks reddit\n",
    "plt.figure(figsize=(8, 8))\n",
    "ax = sns.barplot(data=coef_df.sort_values(by='coef', ascending=False).head(20), \n",
    "                 y=coef_df.sort_values(by='coef', ascending=False).head(20).index, \n",
    "                 x='coef', \n",
    "                 palette=\"crest\")\n",
    "ax.bar_label(ax.containers[0])\n",
    "plt.title('Top 20 Highest Coefficient Words', size=15);\n",
    "\n",
    "\n",
    "# plot top 20 recurring words that predict submissions is from roadtrip reddit\n",
    "# lowest coefficient indicate highest preditability for roadtrip subreddit.\n",
    "plt.figure(figsize=(8, 8))\n",
    "ax = sns.barplot(data=coef_df.sort_values(by='coef', ascending=True).head(20), \n",
    "                 y=coef_df.sort_values(by='coef', ascending=True).head(20).index, \n",
    "                 x='coef', \n",
    "                 palette=\"crest\");\n",
    "ax.bar_label(ax.containers[0])\n",
    "plt.title('20 Lowest Coefficient Words', size=15);"
   ]
  },
  {
   "cell_type": "code",
   "execution_count": 82,
   "id": "b258a5ff-3f1b-4030-823d-c3b185e77d44",
   "metadata": {},
   "outputs": [
    {
     "data": {
      "text/plain": [
       "Pipeline(steps=[('tvec',\n",
       "                 TfidfVectorizer(max_df=0.85, max_features=4000, min_df=3,\n",
       "                                 ngram_range=(1, 2))),\n",
       "                ('estimator', LogisticRegression())])"
      ]
     },
     "execution_count": 82,
     "metadata": {},
     "output_type": "execute_result"
    }
   ],
   "source": [
    "# Dataframe that links model's bag of words to X_train data \n",
    "# is to be created for further analysis.\n",
    "\n",
    "# display set up for best estimator\n",
    "gs_logreg_model"
   ]
  },
  {
   "cell_type": "code",
   "execution_count": 83,
   "id": "5d7a68b6-a013-4eaf-b29d-1f7e8e7036f4",
   "metadata": {},
   "outputs": [],
   "source": [
    "# Instantiate count vectorizer object, which is sklearn's\n",
    "# bag of words tool.\n",
    "gs_logreg_tvec = TfidfVectorizer(max_df=0.85, \n",
    "                                 max_features=4000, \n",
    "                                 min_df=3,\n",
    "                                 ngram_range=(1, 2))\n",
    "\n",
    "# fit_transform() does two things: First, it fits the model and \n",
    "# learns the vocabulary; second, it transforms our training data\n",
    "# into feature vectors. The input to fit_transform should be a \n",
    "# list of strings.\n",
    "X_train_tvec = gs_logreg_tvec.fit_transform(X_train)"
   ]
  },
  {
   "cell_type": "code",
   "execution_count": 84,
   "id": "ff16e2ec-d2ac-40fc-a5ec-1e9434bd36a5",
   "metadata": {},
   "outputs": [
    {
     "name": "stderr",
     "output_type": "stream",
     "text": [
      "C:\\Users\\Wende.Joanne\\anaconda3\\lib\\site-packages\\sklearn\\utils\\deprecation.py:87: FutureWarning: Function get_feature_names is deprecated; get_feature_names is deprecated in 1.0 and will be removed in 1.2. Please use get_feature_names_out instead.\n",
      "  warnings.warn(msg, category=FutureWarning)\n"
     ]
    }
   ],
   "source": [
    "# convert X_train_cvec to Dataframe for further analysis\n",
    "X_train_features_df = pd.DataFrame(X_train_tvec.toarray(),\n",
    "                                   columns=gs_logreg_tvec.get_feature_names(),\n",
    "                                   index=X_train.index)"
   ]
  },
  {
   "cell_type": "code",
   "execution_count": 85,
   "id": "6fdbcc95-e15a-42b2-aaf1-06d2c09d9920",
   "metadata": {
    "tags": []
   },
   "outputs": [
    {
     "data": {
      "text/plain": [
       "(31,\n",
       " [1024,\n",
       "  1183,\n",
       "  1251,\n",
       "  1212,\n",
       "  1057,\n",
       "  996,\n",
       "  1094,\n",
       "  495,\n",
       "  1102,\n",
       "  764,\n",
       "  1090,\n",
       "  235,\n",
       "  705,\n",
       "  580,\n",
       "  1064,\n",
       "  707,\n",
       "  802,\n",
       "  183,\n",
       "  553,\n",
       "  1220,\n",
       "  67,\n",
       "  1126,\n",
       "  2153,\n",
       "  436,\n",
       "  591,\n",
       "  945,\n",
       "  841,\n",
       "  1082,\n",
       "  515,\n",
       "  1284,\n",
       "  785])"
      ]
     },
     "execution_count": 85,
     "metadata": {},
     "output_type": "execute_result"
    }
   ],
   "source": [
    "# Explore content which has 'test' word\n",
    "test_index=X_train_features_df[X_train_features_df['test']>0].index\n",
    "len(test_index), list(test_index)"
   ]
  },
  {
   "cell_type": "code",
   "execution_count": 86,
   "id": "6fb6ae36-2f0c-405e-9487-a06932734276",
   "metadata": {},
   "outputs": [
    {
     "name": "stdout",
     "output_type": "stream",
     "text": [
      "Index 1024:\n",
      "Hi. I've never been to Hawaii and am seeking advice. Single older guy looking to take girlfriend. \n",
      "\n",
      "Here's my questions:\n",
      "- best island for white sandy beaches and warm blue water\n",
      "- best all inclusive package on that island\n",
      "- has adults only pools and jacuzzi\n",
      "- and less crowded beaches\n",
      "- best time of year to go\n",
      "- is proof of vaccination or negative test required for the flights or to enter the state? \n",
      "\n",
      "Anything I'm forgetting? \n",
      "\n",
      "Thank you. Hawaii\n",
      "\n",
      "\n",
      "Index 1183:\n",
      "Hello! A friend and I are travelling to Morocco next Monday and I’m wondering if anyone has some light to shed on the vague language used to describe the PCR test window within the Moroccan travel requirements.\n",
      "  \n",
      "Our itinerary is to fly within Canada to a larger airport, then to Paris, and finally to Casablanca. The total trip will take about 18 hours. For the PCR tests available to us, the turn around time for results is 24-48 hours.\n",
      "  \n",
      "Does the 48 hour window for negative PCR tests apply to our first leg of the trip within Canada, or apply to the flight into Morocco from Paris? If we qualify once we begin travel in Canada, we’ll get a test two days before so we can guarantee our results by the time we reach Moroccan customs. If it applies to the later flight, we’ll have to get it one day before travel and pray our results don’t get delayed.\n",
      "\n",
      "Any help would be very much appreciated! Travelling to Morocco, would love some help with the vague language around PCR testing windows\n",
      "\n",
      "\n",
      "Index 1251:\n",
      "And if so, will I bypass the carry-on luggage checks, onward ticket checks, COVID test checks (I doubt this one), etc.? Is self-check-in still a thing?\n",
      "\n",
      "\n",
      "Index 1212:\n",
      "Hi all. Planning to go to Spain soon and we have to have a negative rapid antigen test before boarding our flight at least 24 hours before. Flight leaves on Monday so we have to get this test done on Sunday.\n",
      "\n",
      "Problem is nearly all the labs in Spain are closed on Sunday. Does anyone know of any labs in Barcelona that are open on a Sunday or know if any other way to get test results in time for departure? Rapid tests in a lab in Spain?\n",
      "\n",
      "\n",
      "Index 1057:\n",
      "I’m traveling to Ramallah from Chicago, flying to Amman Jordan and then I guess taking buses until I reach Ramallah. This is my first time traveling alone to a foreign country and would appreciate as much help as possible, preferable someone who’s traveled within the past month as Amman has changed Covid restrictions 3/1/2022. My main big concerns are the following,  \n",
      "\n",
      "1. How difficult is it to get from Amman to West Bank? I don’t speak Arabic, and won’t have cell service right away to be able to call any services  \n",
      "\n",
      "2. How much roughly should I expect to spend getting from Amman to West Bank? I know there’s buses but also visa fees and probably other fees,(something about a bridge?) I’ve heard huge margins from 100$ total to near 800$. I hear that tourists are easily taken advantage of as they don’t speak the language and don’t know the normal costs for these things.   \n",
      "\n",
      "3. From what I’ve seen online Jordan does not require a pcr test to enter Amman anymore, so does that mean I do not need to take one in the US before flying over there, or will the US still make me take one to leave the country? I know US requires one to enter the country but not sure about leaving it.  \n",
      "\n",
      "4. Additionally from previous question, even though Jordan does not require pcr to enter Amman, will I still need a pcr to get from Amman to Ramallah since I believe I need to cross through Israel? And if so are they easily available near/inside the Amman airport? Also how much are the PCRs there, I know they are around 100$ here in the states. Im trying to avoid traveling with excess money while traveling alone,I can have family money gram me money after I’m at my friends home in Ramallah. \n",
      "\n",
      "Thanks for any and all help in advance Traveling to Ramallah West Bank from Chicago, would appreciate any insight from anyone who has recently traveled there\n",
      "\n",
      "\n"
     ]
    }
   ],
   "source": [
    "# print out 5 rows of content that has word 'test' \n",
    "for i in test_index[:5]:\n",
    "    text = combined_posts['selftext_title'].loc[i]\n",
    "    print(f'Index {i}:\\n{text}\\n\\n')"
   ]
  },
  {
   "cell_type": "markdown",
   "id": "d6dd83f6-0685-4df0-bdc0-5e94219108e6",
   "metadata": {},
   "source": [
    "### c. Naive-Bayes Model with Cvec/Tvec"
   ]
  },
  {
   "cell_type": "markdown",
   "id": "aad4aad6-f110-422c-9665-6474ba0f0f8d",
   "metadata": {
    "tags": [],
    "toc-hr-collapsed": true
   },
   "source": [
    "#### Find Best Vectorizer\n",
    "1. MultinomialNB is chosen because the columns of X are all integer counts. "
   ]
  },
  {
   "cell_type": "code",
   "execution_count": 87,
   "id": "a4bc9742-4e9c-4fc0-ad69-c9990048f6b9",
   "metadata": {},
   "outputs": [
    {
     "name": "stdout",
     "output_type": "stream",
     "text": [
      "Count Vectorizer scores: 0.9061132993512512\n",
      "TF-IDF Vectorizer scores: 0.905633688600556\n",
      "\n",
      "Best vectorizer: Count Vectorizer\n",
      "Best parameters: {'cvec__max_df': 0.85, 'cvec__max_features': 3000, 'cvec__min_df': 2, 'cvec__ngram_range': (1, 1)}\n",
      "Training Score: 0.9325950890707752\n"
     ]
    }
   ],
   "source": [
    "# find best vectorizer\n",
    "gs_nb_model = run_vect(MultinomialNB(), X_train, y_train)"
   ]
  },
  {
   "cell_type": "code",
   "execution_count": 88,
   "id": "490f0fb5-5145-4f27-99c5-f29547d9e34d",
   "metadata": {},
   "outputs": [
    {
     "data": {
      "text/plain": [
       "0.8980769230769231"
      ]
     },
     "execution_count": 88,
     "metadata": {},
     "output_type": "execute_result"
    }
   ],
   "source": [
    "# Score model on testing set\n",
    "gs_nb_model.score(X_test, y_test)"
   ]
  },
  {
   "cell_type": "markdown",
   "id": "a5218d72-7489-471a-b83b-4d472c6f8863",
   "metadata": {},
   "source": [
    "#### Plot gs_nb_model Results"
   ]
  },
  {
   "cell_type": "code",
   "execution_count": 89,
   "id": "bc94a64f-71fc-4dcc-a0bb-feba8902f6f4",
   "metadata": {},
   "outputs": [
    {
     "name": "stdout",
     "output_type": "stream",
     "text": [
      "Accuracy: 0.8980769230769231\n",
      "Sensitivity: 0.8709677419354839\n",
      "Specificity: 0.9294605809128631\n",
      "ROC: 0.9599042222519669\n",
      "\n"
     ]
    },
    {
     "name": "stderr",
     "output_type": "stream",
     "text": [
      "C:\\Users\\Wende.Joanne\\anaconda3\\lib\\site-packages\\sklearn\\utils\\deprecation.py:87: FutureWarning: Function plot_roc_curve is deprecated; Function :func:`plot_roc_curve` is deprecated in 1.0 and will be removed in 1.2. Use one of the class methods: :meth:`sklearn.metric.RocCurveDisplay.from_predictions` or :meth:`sklearn.metric.RocCurveDisplay.from_estimator`.\n",
      "  warnings.warn(msg, category=FutureWarning)\n"
     ]
    },
    {
     "data": {
      "image/png": "[encoded data removed]",
      "text/plain": [
       "<Figure size 432x288 with 2 Axes>"
      ]
     },
     "metadata": {
      "needs_background": "light"
     },
     "output_type": "display_data"
    },
    {
     "data": {
      "text/plain": [
       "<Figure size 576x432 with 0 Axes>"
      ]
     },
     "metadata": {},
     "output_type": "display_data"
    },
    {
     "data": {
      "image/png": "[encoded data removed]",
      "text/plain": [
       "<Figure size 432x288 with 1 Axes>"
      ]
     },
     "metadata": {
      "needs_background": "light"
     },
     "output_type": "display_data"
    }
   ],
   "source": [
    "gs_nb_results = plot_results(gs_nb_model, X_test, y_test)"
   ]
  },
  {
   "cell_type": "code",
   "execution_count": 90,
   "id": "0ef25b94-937d-4594-971b-e0cb22222b3a",
   "metadata": {},
   "outputs": [],
   "source": [
    "# Assign value for model and training accuracy\n",
    "gs_nb_results['Model'] = 'nb_cvec (gs_nb_model)'\n",
    "gs_nb_results['Cross Validated Score'] = 0.9325950890707752\n",
    "gs_nb_results['Training Accuracy'] = gs_nb_model.score(X_train, y_train)\n",
    "\n",
    "# append model results to model_summary dataframe\n",
    "model_summary = pd.concat([model_summary, gs_nb_results], ignore_index=True)"
   ]
  },
  {
   "cell_type": "code",
   "execution_count": 91,
   "id": "d7f83d81-738a-468f-9d28-0622eeaea808",
   "metadata": {},
   "outputs": [
    {
     "data": {
      "text/html": [
       "<div>\n",
       "<style scoped>\n",
       "    .dataframe tbody tr th:only-of-type {\n",
       "        vertical-align: middle;\n",
       "    }\n",
       "\n",
       "    .dataframe tbody tr th {\n",
       "        vertical-align: top;\n",
       "    }\n",
       "\n",
       "    .dataframe thead th {\n",
       "        text-align: right;\n",
       "    }\n",
       "</style>\n",
       "<table border=\"1\" class=\"dataframe\">\n",
       "  <thead>\n",
       "    <tr style=\"text-align: right;\">\n",
       "      <th></th>\n",
       "      <th>Model</th>\n",
       "      <th>Cross Validated Score</th>\n",
       "      <th>Training Accuracy</th>\n",
       "      <th>Accuracy</th>\n",
       "      <th>Sensitivity</th>\n",
       "      <th>Specificity</th>\n",
       "      <th>ROC</th>\n",
       "    </tr>\n",
       "  </thead>\n",
       "  <tbody>\n",
       "    <tr>\n",
       "      <th>0</th>\n",
       "      <td>logreg_base</td>\n",
       "      <td>0.898408</td>\n",
       "      <td>0.997111</td>\n",
       "      <td>0.905769</td>\n",
       "      <td>0.928315</td>\n",
       "      <td>0.879668</td>\n",
       "      <td>0.964024</td>\n",
       "    </tr>\n",
       "    <tr>\n",
       "      <th>1</th>\n",
       "      <td>logreg_tvec (gs_logreg_model)</td>\n",
       "      <td>0.922237</td>\n",
       "      <td>0.953779</td>\n",
       "      <td>0.919231</td>\n",
       "      <td>0.935484</td>\n",
       "      <td>0.900415</td>\n",
       "      <td>0.969363</td>\n",
       "    </tr>\n",
       "    <tr>\n",
       "      <th>2</th>\n",
       "      <td>nb_cvec (gs_nb_model)</td>\n",
       "      <td>0.932595</td>\n",
       "      <td>0.932595</td>\n",
       "      <td>0.898077</td>\n",
       "      <td>0.870968</td>\n",
       "      <td>0.929461</td>\n",
       "      <td>0.959904</td>\n",
       "    </tr>\n",
       "  </tbody>\n",
       "</table>\n",
       "</div>"
      ],
      "text/plain": [
       "                           Model  Cross Validated Score  Training Accuracy  \\\n",
       "0                    logreg_base               0.898408           0.997111   \n",
       "1  logreg_tvec (gs_logreg_model)               0.922237           0.953779   \n",
       "2          nb_cvec (gs_nb_model)               0.932595           0.932595   \n",
       "\n",
       "   Accuracy  Sensitivity  Specificity       ROC  \n",
       "0  0.905769     0.928315     0.879668  0.964024  \n",
       "1  0.919231     0.935484     0.900415  0.969363  \n",
       "2  0.898077     0.870968     0.929461  0.959904  "
      ]
     },
     "execution_count": 91,
     "metadata": {},
     "output_type": "execute_result"
    }
   ],
   "source": [
    "# Display models summary\n",
    "model_summary"
   ]
  },
  {
   "cell_type": "markdown",
   "id": "cb47faba-bbea-4ea2-8ed8-80d80a27056a",
   "metadata": {
    "tags": []
   },
   "source": [
    "#### Model Evaluation\n",
    "1. For the Naive Bayes Model with count vectorizer, the accuracy of the training data and testing data are 93.3% and 89.8% respectively. The model performed better on training data set and is within expectation.\n",
    "    - Since the model has a higher accuracy on the training set than on the testing set, the model is slightly overfit.\n",
    "2. Comparing to the base logistics regression model, \n",
    "    - While the nb_cvec model is less fitted to the training data, it achieved a slightly lower ROC score than the base model as it has higher number of false positives (lower sensitivity).\n",
    "    - This means that the nb_cvec model model performs slightly worse in predicting the classifications than the base model.\n",
    "    - This may be because the model assumes that the features are independent of each other.\n"
   ]
  },
  {
   "cell_type": "markdown",
   "id": "75e995e4-23de-40ee-9293-318f34a91566",
   "metadata": {
    "tags": []
   },
   "source": [
    "#### Assessment on Important Features (see plots below)\n",
    "1. There are a total of 3,000 features in the model, due to the limit set. \n",
    "\n",
    "**TravelHacks**\n",
    "\n",
    "2. The top five words of importance to classify submission as TravelHacks are 'layover', 'hack', 'airline', 'refund' and 'discount'.\n",
    "3. Similar to earlier observations, the main discussion in TravelHacks revolves around 'flight'. This may suggest that travellers may prefer to find out about tips to get cheap air tickets, travelling tips in TravelHacks. The project may consider reviewing strategies implemented by airlines at TravelHacks and partner airlines operating in Australia to attract travellers and increase availability of flight.\n",
    "4. Other than the flight related topics under TravelHacks subreddit like air tickets discussed earlier, 'test' is also part of the top 20 words. In addition one other interesting word identified is:\n",
    "    - 'test': travellers are concern with the types of test requirements (PCR, ART tests) during travelling. The project can explore providing testing services at airport to facilitate travellers meeting the requirements to ease the travellers' burden. \n",
    "    - 'vaccine': travellers are concerned about being vaccinated or show proof of vaccine when travelling to other countries. As vaccination is up to individuals. There is not much Australia can do about it. However, resources may be invested in countries where vaccination take up rate is high, for example, Singapore. \n",
    "\n",
    "**roadtrip**\n",
    "\n",
    "5. The top five words of importance that are not related to US states to classify submission as roadtrip are 'np', 'rv', 'roadtrip', 'campground' and 'detour'.\n",
    "    - 'np' refers National Park, from the analysis. This suggests that travellers are interested in travelling to national park as part of their roadtrips.\n",
    "    - 'rv' refers to recreational vehicles. This suggests that travellers are concern about comfort of being in the recreational vehicles for long trips. Having stops in between may help. The project can also partner car rental agency to supply more SUVs or campervans for better comfort, especially for families.  \n",
    "    - 'detour': In general, minor detours are acceptable to travellers. Attractions that are slightly off typical roadtrip route may be promoted for travellers to have an unique Australian experience.   \n",
    "    - 'yellowstone', 'zion', 'yosemite', 'arches' are national parks in US. \n",
    "    - 'moab' is a city in US.\n",
    "    - 'utah' is a state in US.\n",
    "6. It is interesting to note that camp related words occur several times in the top 20 words: 'campground', 'camper', 'camp' and 'campsit'. This suggest that travellers are interested in camping while on roadtrip. \n"
   ]
  },
  {
   "cell_type": "code",
   "execution_count": 92,
   "id": "35746538-321b-41ae-ae9d-4acf4c3c5614",
   "metadata": {},
   "outputs": [],
   "source": [
    "# Computing the prob for each class\n",
    "log_prob_diff = np.round((gs_nb_model.steps[1][1].feature_log_prob_[1] \n",
    "                          - gs_nb_model.steps[1][1].feature_log_prob_[0]), 2)\n",
    "\n"
   ]
  },
  {
   "cell_type": "code",
   "execution_count": 93,
   "id": "0b4c8ab5-6e4e-426f-8ab0-4a2361f9c357",
   "metadata": {},
   "outputs": [],
   "source": [
    "# Compile log_prob_diff into a dataframe\n",
    "log_prob_df = pd.DataFrame(log_prob_diff, \n",
    "                           index=gs_nb_model[0].get_feature_names_out(), \n",
    "                           columns=['log_prob_diff'])\n",
    "log_prob_df['P(word|TravelHacks) Log Prob'] = np.exp(gs_nb_model.steps[1][1].feature_log_prob_[1])\n",
    "log_prob_df['P(word|roadtrip) Log Prob'] = np.exp(gs_nb_model.steps[1][1].feature_log_prob_[0])"
   ]
  },
  {
   "cell_type": "code",
   "execution_count": 94,
   "id": "9db1ddcd-1f03-4435-a1df-a1e2ff9b5d61",
   "metadata": {},
   "outputs": [
    {
     "data": {
      "image/png": "[encoded data removed]",
      "text/plain": [
       "<Figure size 576x576 with 1 Axes>"
      ]
     },
     "metadata": {
      "needs_background": "light"
     },
     "output_type": "display_data"
    }
   ],
   "source": [
    "# plot top 20 words that differentiate TravelHacks submissions from roadtrip's\n",
    "plt.figure(figsize=(8, 8))\n",
    "ax = sns.barplot(data=log_prob_df.sort_values(by='log_prob_diff', ascending=False).head(20), \n",
    "                 y=log_prob_df.sort_values(by='log_prob_diff', ascending=False).head(20).index, \n",
    "                 x='log_prob_diff', \n",
    "                 palette=\"crest\");\n",
    "ax.bar_label(ax.containers[0])\n",
    "plt.title('20 Highest Log Probability Difference Words for TravelHacks', size=15);"
   ]
  },
  {
   "cell_type": "code",
   "execution_count": 95,
   "id": "9a76f27f-d2ca-45bc-a16c-b288f74715a9",
   "metadata": {},
   "outputs": [
    {
     "data": {
      "text/plain": [
       "Pipeline(steps=[('cvec',\n",
       "                 CountVectorizer(max_df=0.85, max_features=3000, min_df=2)),\n",
       "                ('estimator', MultinomialNB())])"
      ]
     },
     "execution_count": 95,
     "metadata": {},
     "output_type": "execute_result"
    }
   ],
   "source": [
    "# Dataframe that links model's bag of words to X_train data \n",
    "# is to be created for further analysis.\n",
    "\n",
    "# display set up for best estimator\n",
    "gs_nb_model"
   ]
  },
  {
   "cell_type": "code",
   "execution_count": 96,
   "id": "078827b5-75f5-444a-8029-182e898628b6",
   "metadata": {},
   "outputs": [],
   "source": [
    "# Instantiate count vectorizer object, which is sklearn's\n",
    "# bag of words tool.\n",
    "gs_nb_cvec = CountVectorizer(max_df=0.85, \n",
    "                                 max_features=3000, \n",
    "                                 min_df=2)\n",
    "\n",
    "# fit_transform() does two things: First, it fits the model and \n",
    "# learns the vocabulary; second, it transforms our training data\n",
    "# into feature vectors. The input to fit_transform should be a \n",
    "# list of strings.\n",
    "X_train_cvec = gs_nb_cvec.fit_transform(X_train)"
   ]
  },
  {
   "cell_type": "code",
   "execution_count": 97,
   "id": "cb3ded98-dccd-4320-b2d8-82eb139a24f6",
   "metadata": {},
   "outputs": [
    {
     "name": "stderr",
     "output_type": "stream",
     "text": [
      "C:\\Users\\Wende.Joanne\\anaconda3\\lib\\site-packages\\sklearn\\utils\\deprecation.py:87: FutureWarning: Function get_feature_names is deprecated; get_feature_names is deprecated in 1.0 and will be removed in 1.2. Please use get_feature_names_out instead.\n",
      "  warnings.warn(msg, category=FutureWarning)\n"
     ]
    }
   ],
   "source": [
    "# convert X_train_cvec to Dataframe for further analysis\n",
    "X_train_features_df = pd.DataFrame(X_train_cvec.toarray(),\n",
    "                                   columns=gs_nb_cvec.get_feature_names(),\n",
    "                                   index=X_train.index)"
   ]
  },
  {
   "cell_type": "code",
   "execution_count": 98,
   "id": "35a8d85a-8862-4fb9-9c43-f93f4d3c456b",
   "metadata": {},
   "outputs": [
    {
     "data": {
      "text/plain": [
       "(26,\n",
       " [1024,\n",
       "  1291,\n",
       "  821,\n",
       "  1191,\n",
       "  911,\n",
       "  764,\n",
       "  922,\n",
       "  1090,\n",
       "  891,\n",
       "  892,\n",
       "  1298,\n",
       "  1264,\n",
       "  1380,\n",
       "  29,\n",
       "  67,\n",
       "  1126,\n",
       "  368,\n",
       "  627,\n",
       "  1320,\n",
       "  787,\n",
       "  591,\n",
       "  945,\n",
       "  1082,\n",
       "  1284,\n",
       "  1828,\n",
       "  785])"
      ]
     },
     "execution_count": 98,
     "metadata": {},
     "output_type": "execute_result"
    }
   ],
   "source": [
    "# Explore content which has 'vaccin' word\n",
    "vaccin_index=X_train_features_df[X_train_features_df['vaccin']>0].index\n",
    "len(vaccin_index), list(vaccin_index)"
   ]
  },
  {
   "cell_type": "code",
   "execution_count": 99,
   "id": "3eeef186-25c9-4908-8f0f-873714af8812",
   "metadata": {},
   "outputs": [
    {
     "name": "stdout",
     "output_type": "stream",
     "text": [
      "Index 1024:\n",
      "Hi. I've never been to Hawaii and am seeking advice. Single older guy looking to take girlfriend. \n",
      "\n",
      "Here's my questions:\n",
      "- best island for white sandy beaches and warm blue water\n",
      "- best all inclusive package on that island\n",
      "- has adults only pools and jacuzzi\n",
      "- and less crowded beaches\n",
      "- best time of year to go\n",
      "- is proof of vaccination or negative test required for the flights or to enter the state? \n",
      "\n",
      "Anything I'm forgetting? \n",
      "\n",
      "Thank you. Hawaii\n",
      "\n",
      "\n",
      "Index 1291:\n",
      "Traveling to Germany from USA and I only have a paper vaccine card. From what I can tell, I need an electronic QR code proof of vaccination. How do I get that? I’ve noticed that not only do I need proof to get in the country, I need it to get into attractions like castles. I want to make sure I get this squared away before we leave in a few months. Thanks! Proof of vaccination accepted in Germany, Austria, and Switzerland\n",
      "\n",
      "\n",
      "Index 821:\n",
      "I have a vaccine card from USA. Its getting brown/dirty. I'm trying to figure out which apps to put it into before it gets any worse so I'll be alright when I go to Germany and Greece \n",
      "\n",
      "which apps do they accept? Ex: Munich Germany or Athens Greece Questions for people who have tried out vaccine card apps in Germany and/or Greece\n",
      "\n",
      "\n",
      "Index 1191:\n",
      "I have a fake covid vax card. Like it’s a legit card I just never got my vacation. I’m about to travel from Ohio to Miami FL in two days. Will they check me for a vacation card and if they do will having a fake one be an issue. As I said it’s a legit card I just don’t actually have my vaccination Fake covid vax card\n",
      "\n",
      "\n",
      "Index 911:\n",
      "We had United Airlines tickets for 2021 that we cancelled since the pandemic was still going and ended up with a voucher. I misunderstood and thought I had until December 2022 to book, turns out it's to travel. \n",
      "\n",
      "We have two kids that still don't have a vaccine available so I don't feel comfortable traveling in the next few months, but I found some tickets in February 2023 that I was about to buy until the voucher wouldn't apply and I realized what was going on.\n",
      "\n",
      "I've talked to customer service on the phone and in chat, nicely telling them that hey if they could extend it just a few months I'll spend that $800 + $1200 to fly United, or else I'll just use the voucher amount and not a cent more. That didn't seem to work though. So now I'm looking for any loophole, because honestly I don't know if I could spend that $800 voucher before December. I'm waiting on an email back too, but based on how the other reps were I am expecting a similar \"Well this is our policy, but we'll put you on a list and let you know if it changes.\" Any hacks to extend a travel voucher expiration?\n",
      "\n",
      "\n"
     ]
    }
   ],
   "source": [
    "# print out 5 rows of content that has word 'np'\n",
    "for i in vaccin_index[:5]:\n",
    "    text = combined_posts['selftext_title'].loc[i]\n",
    "    print(f'Index {i}:\\n{text}\\n\\n')"
   ]
  },
  {
   "cell_type": "markdown",
   "id": "3df78e75-38d2-42e4-80b6-169fb1a46c7b",
   "metadata": {},
   "source": [
    "1. The higher the difference in the log probability of the word, the higher is its importance in classifying a submission as TravelHacks subreddit.\n",
    "2. The top five words of importance to classify submission as TravelHacks are 'layover', 'hack', 'airline', 'refund' and 'discount'.\n",
    "3. Other than the flight related topics under TravelHacks subreddit like air tickets discussed earlier, some of the interesting words identified here are:\n",
    "    - 'test': travellers are concern with the types of test requirements (PCR, ART tests) during travelling. The project can explore providing testing services at airport to facilitate travellers meeting the requirements to ease the travellers' burden. \n",
    "    - 'vaccine': travellers are concerned about being vaccinated or show proof of vaccine when travelling to other countries. "
   ]
  },
  {
   "cell_type": "code",
   "execution_count": 100,
   "id": "055afcc3-4283-4329-88d6-d30577677f2c",
   "metadata": {
    "tags": []
   },
   "outputs": [
    {
     "data": {
      "image/png": "[encoded data removed]",
      "text/plain": [
       "<Figure size 576x576 with 1 Axes>"
      ]
     },
     "metadata": {
      "needs_background": "light"
     },
     "output_type": "display_data"
    }
   ],
   "source": [
    "# Compute log_prob_diff for roadtrip\n",
    "log_prob_df['log_prob_diff_inv'] = log_prob_df['log_prob_diff'].map(lambda value: -1*value)\n",
    "\n",
    "# plot top 20 words that differentiate TravelHacks submissions from roadtrip's\n",
    "plt.figure(figsize=(8, 8))\n",
    "ax = sns.barplot(data=log_prob_df.sort_values(by='log_prob_diff_inv', \n",
    "                                              ascending=False).head(20), \n",
    "                 y=log_prob_df.sort_values(by='log_prob_diff_inv', \n",
    "                                           ascending=False).head(20).index, \n",
    "                 x='log_prob_diff_inv', \n",
    "                 palette=\"crest\");\n",
    "ax.bar_label(ax.containers[0])\n",
    "plt.title('20 Highest Log Probability Difference Words for roadtrips', size=15);"
   ]
  },
  {
   "cell_type": "code",
   "execution_count": 101,
   "id": "1cfef52c-338e-4c13-b6b4-2e95d3301417",
   "metadata": {},
   "outputs": [
    {
     "data": {
      "text/plain": [
       "(22,\n",
       " [1623,\n",
       "  2301,\n",
       "  1833,\n",
       "  2113,\n",
       "  2532,\n",
       "  1707,\n",
       "  2582,\n",
       "  2123,\n",
       "  1574,\n",
       "  2535,\n",
       "  1693,\n",
       "  2122,\n",
       "  1626,\n",
       "  1500,\n",
       "  1591,\n",
       "  2452,\n",
       "  1988,\n",
       "  1999,\n",
       "  2336,\n",
       "  2203,\n",
       "  1843,\n",
       "  2304])"
      ]
     },
     "execution_count": 101,
     "metadata": {},
     "output_type": "execute_result"
    }
   ],
   "source": [
    "# Explore content which has 'np' word\n",
    "np_index=X_train_features_df[X_train_features_df['np']>0].index\n",
    "len(np_index), list(np_index)"
   ]
  },
  {
   "cell_type": "code",
   "execution_count": 102,
   "id": "3e5323d7-8d63-4e8c-b84b-6b0ec9657a5f",
   "metadata": {},
   "outputs": [
    {
     "name": "stdout",
     "output_type": "stream",
     "text": [
      "Index 1623:\n",
      "Hello! My SO and I want to take our Australian Shepherd on his first roadtrip from 8/27-9/5 and know that we want to camp in Acadia NP, but are not sure what would be the best route to drive out there? I haven’t seen the east coast at all so ideally we’d get to see some of that on our way out or on the way back to Cleveland. \n",
      "\n",
      "\n",
      "The route options I’ve come up with are the following:\n",
      "\n",
      "\n",
      "1.\t(15ish hrs) Cle > Buffalo NY > Syracuse NY > Albany NY > Boston MA > Portland ME > Acadia \n",
      "2.\t(15ish hrs) Cle > drive through mid PA (stop in Scranton-ish area?) > Hartford CT > Boston MA > Portland ME > Acadia\n",
      "3.\t(17ish hrs) Cle > Pittsburgh > Philadelphia > Hartford CT > Boston MA > Portland ME > Acadia \n",
      "\n",
      "\n",
      "I think #3 might be cool because I know someone in Philly and I’ve never been, though it’s definitely the longer route. \n",
      "\n",
      "\n",
      "I’ve never road-tripped with a dog before either so I’m not sure how often we’ll want to stop or where to stay along the route (probably motels until we get to Maine) \n",
      "\n",
      "\n",
      "My only roadtrip experience was when we drove from Cleveland to Eugene OR and back, which was an awesome trip but we drove like 11hrs a at a time and didn’t have planned stops until we were at the coast which won’t work with a [pup](https://i.imgur.com/FJVlI6a.jpg)! \n",
      "\n",
      "\n",
      "I’d love to hear anyones thoughts, especially since booking for Acadia campsites for our dates opens up in about a week. We’d love to make stops for good food/coffee/hikes/etc - we just have to stay dog friendly.  Thank you in advance!! Best route from Cleveland OH to Acadia National Park?\n",
      "\n",
      "\n",
      "Index 2301:\n",
      "I'm moving to San Diego, CA for work and considering a road trip with my family from Chicago, IL to San Diego, CA. I'll have my parents with me (both of them are in their 50s). The point is to cover the tourist spots on the way, and I'd ideally like to keep the trip under 25 days. I have thought about two possible options: \n",
      "\n",
      "1. Chicago > Yellowstone NP > Arches NP > Grand Canyon NP > Las Vegas > SD\n",
      "2. Chicago > Rocky Mountain NP > Arches NP > Grand Canyon NP > Las Vegas > SD\n",
      "\n",
      "​\n",
      "\n",
      "[Route plan for Option 1](https://preview.redd.it/53kk4naj69o81.png?width=2312&format=png&auto=webp&s=3c81c413f16af61f2c60e3c221895dcb57c1aa01)\n",
      "\n",
      "​\n",
      "\n",
      "[Route plan for Option 2](https://preview.redd.it/z1zpurom69o81.png?width=2258&format=png&auto=webp&s=8d0d9e4638ce4734828159ffd9256b61d24e8eed) Road-tripping with family from Chicago to San Diego. Looking to cover tourist spots on the way. Route suggestions?\n",
      "\n",
      "\n",
      "Index 1833:\n",
      "First Reddit post here, and first road trip planned for the PNW. Washington and Oregon specifically. 3 week timeframe and I plan to spend 7-12 days in those two states alone. I guess it’s like a mini national park tour. On the way out, I have stops planned in, Chicago, Iowa, Nebraska and/S. Dakota, Wyoming(grand Teton, Yellowstone), Montana(glacier Np),Idaho, then Washington abs Oregon. I have a route for the way back as well, but I feel as if this post is already long winded. I’ll have a companion for the first half and then will drive home solo. Have a rooftop tent and some other essentials. So I and just looking for any advice, tips, things to be wary of as I embark on this journey. Or any other things to make sure to bring that could be forgotten or overlooked. Any advice is welcome! Cheers! First Time road trip.\n",
      "\n",
      "\n",
      "Index 2113:\n",
      "So we I just got green light to take a 3 month sabatical after working myself to the brink of insanity as a pulmonologist during COVID the last two years. We re planning do fly to the US and do a 6-9 week road trip partly with an RV.  We ve been to quite few NP's before the kids were born but figured this would be an awesome experience for all of us.\n",
      "\n",
      "We ll be travelling the 2nd half of september till the 2nd week of december.  \n",
      "And the idea to to start on the west coast and then either drive of fly to the east (or the other way around) .\n",
      "\n",
      "The plan i came up with so far:  \n",
      "\n",
      "\n",
      "\\- LA\n",
      "\n",
      "\\- Highway nr 1 in 2-3 days\n",
      "\n",
      "\\- San Francisco\n",
      "\n",
      "\\- Yosemite NP\n",
      "\n",
      "\\- Sequoia NP\n",
      "\n",
      "\\- Bakersfield (?) I wanna avoid driving > 6 hrs on a day\n",
      "\n",
      "\\- Las Vegas\n",
      "\n",
      "\\- Grand Canyon NP\n",
      "\n",
      "\\- Page\n",
      "\n",
      "\\- Zion NP\n",
      "\n",
      "\\- Bryce NP\n",
      "\n",
      "\\- Capitol Reef NP\n",
      "\n",
      "\\- Moab\n",
      "\n",
      "\\- Salt Lake City\n",
      "\n",
      "\\- Grand Teton (we need a stop somewhat in between SLC & GT)\n",
      "\n",
      "\\- Yellowstone\n",
      "\n",
      "\\- Rocky mountain NP (need a stop between yellowstone & RMNP)\n",
      "\n",
      "then we ll probably fly from Denver to NY & go by car from there\n",
      "\n",
      "\\- NY for a few days\n",
      "\n",
      "\\- Philly \n",
      "\n",
      "\\- Washington\n",
      "\n",
      "\\- Great smoky mountains \n",
      "\n",
      "\\- Charleston / Savannah\n",
      "\n",
      "\\- Orlando\n",
      "\n",
      "\\- Keys \n",
      "\n",
      "\\- Miami\n",
      "\n",
      "​\n",
      "\n",
      "I m not quite sure how the east coast part is gonna work out. Any suggestions would be great. Planning a road trip with an RV with 2 kids (4 & 3 yo)\n",
      "\n",
      "\n",
      "Index 2532:\n",
      "I have 2 months booked off from work starting on July 30th till Sept 25th for a long solo roadtrip. my plan is to start in Vancouver with the Alaska marine highway ferry from Bellingham and tour Alaska, the Yukon, go through the North West Territories, Visit the arctic circle, then back down through Alberta and cut back into BC to return home.\n",
      "\n",
      "ill be taking my 2017 DCLB Tacoma with a sleeper setup built under the bed canopy along with a OVS 270 awning. so hopefully i wont be needing any hotel rooms and can just free camp most nights unless the cost of campsites is cheaper than the cost of driving out of the NP to find a free site.\n",
      "\n",
      "the start date ferry is booked already and other than the Kenai fjord NP boat tour nothing has firm dates.\n",
      "\n",
      "[planned route so far](https://www.google.com/maps/d/viewer?mid=1pw3rWvje-6bF3sTIl-0SUEbEkRAfI_AC&ll=63.928615668616644%2C-140.18910991018032&z=7)\n",
      "\n",
      "1.Vancouver to Bellingham on July 30th to catch a 6pm Alaska Marine Highway Ferry to Whittier Alaska.\n",
      "2. Whittier Alaska (aug4) - rent a kayak and use my own drysuit to do a day paddle around Blackstone Bay.\n",
      "3. Seward, AK (aug5) - day boat tour around Kenai fjord NP\n",
      "4. Kenai fjord NP (2 days) - camp/hike, visitor center\n",
      "5. Angchorage, AK (1 day) - visit the city, stock up on food, visit historic sites\n",
      "6. Denali NP (3 days) - camp/hike, visitor center\n",
      "7. Fairbanks, AK (1 day including travel)\n",
      "8. Castner Glacier Cave (1 day) - camp/hike\n",
      "9. Wrangell-St. Elias NP (3 days) - camp hike, Visitor center\n",
      "10. Dawson City, YK (3-5 days) - should arrive week of August 15-19 to take part in the Discovery Day celebrations/parade\n",
      "11. Tombstone Territorial Park, YK(1-2 days) - hike/camp\n",
      "12. Tuktoyaktuk, NWT(1 day) - camp, visit the arctic circle sign, swim in the arctic\n",
      "13. Whitehorse, YK(1 day) - visit the provincial capital, museums, historic sites.\n",
      "14. Haines Junction, YK(1 day) - take an air tour of Mt. Logan, the tallest mountain in Canada and one of the most western points of Canada.\n",
      "15. Kluane NP (2-3 days) - hike/camp\n",
      "16. Yellowknife, NWT (1 day) - visit the capital, museums, historic sites\n",
      "17. Wood Buffalo NP (3 days) - Fort smith visitor center, camp/hike\n",
      "18. Jasper NP (3 days) - camp/hike, maligne Canyon, Skytram, Glacier walkway\n",
      "19. Mt Robson provincial park (1 day) - camp/hike\n",
      "20. arrive in Calgary morning of Friday September 23. - stay with relatives friday night till midday sunday\n",
      "21. arrive in Vancouver late morning Monday Sept 26 for first day back at work on afternoon shift.\n",
      "\n",
      "\n",
      "i dont need to visit Banff NP, Yoho NP, Kootney NP, or Revelstoke NP as i have been to them already on other roadtrips.\n",
      "\n",
      "according to google maps the trip should be 9826km, but i think will more likely be around 12-13,000km when i take into account driving around town and the national parks, getting to and from campsites, and other unexpected detours.\n",
      "\n",
      "time not spent on the ferry is 53 days, taking a full 20 days out for full day activities where none or very little travelling will be done makes the average driving distance approx 379km/travel day. id like to keep my driving to around 4-5hrs per day as longer driving stretches seem to just drag the whole trip down. Id rather take longer and see/do more than drive past many interesting things i wont be near again.\n",
      "\n",
      "any suggestions for things to do/see? places to eat or popular places to avoid?\n",
      "\n",
      "Thanks. North Western Canada and Alaska itinerary and suggestions.\n",
      "\n",
      "\n"
     ]
    }
   ],
   "source": [
    "# print out 5 rows of content that has word 'np'\n",
    "for i in np_index[:5]:\n",
    "    text = combined_posts['selftext_title'].loc[i]\n",
    "    print(f'Index {i}:\\n{text}\\n\\n')"
   ]
  },
  {
   "cell_type": "code",
   "execution_count": 103,
   "id": "beeb746e-0ab8-4249-b777-8b4d53ec287d",
   "metadata": {},
   "outputs": [
    {
     "data": {
      "text/plain": [
       "(23,\n",
       " [2455,\n",
       "  1593,\n",
       "  1970,\n",
       "  1503,\n",
       "  2113,\n",
       "  2453,\n",
       "  2030,\n",
       "  2540,\n",
       "  2109,\n",
       "  2321,\n",
       "  1574,\n",
       "  2302,\n",
       "  2129,\n",
       "  2543,\n",
       "  2020,\n",
       "  2017,\n",
       "  1631,\n",
       "  2023,\n",
       "  2118,\n",
       "  2111,\n",
       "  2353,\n",
       "  1894,\n",
       "  1748])"
      ]
     },
     "execution_count": 103,
     "metadata": {},
     "output_type": "execute_result"
    }
   ],
   "source": [
    "# Explore content which has 'rv' word\n",
    "rv_index=X_train_features_df[X_train_features_df['rv']>0].index\n",
    "len(rv_index), list(rv_index)"
   ]
  },
  {
   "cell_type": "code",
   "execution_count": 104,
   "id": "82d06c9d-50cf-4e6b-a0aa-fd0732115943",
   "metadata": {},
   "outputs": [
    {
     "name": "stdout",
     "output_type": "stream",
     "text": [
      "Index 2455:\n",
      "My family and I are from Hawaii and we'll be spending 15 days in the states in March. We plan to take an RV from Los Angeles to Washington DC and back mostly to get a taste of areas we'd like to spend more time in for future trips. We've been up and down the East and West Coasts but never went cross country.\n",
      "\n",
      "Below is the route we're planning to take. We can't extend the trip, but what recommendations do you have on:\n",
      "\n",
      "1. Quick stops along the route should definitely not miss or \n",
      "2. Changes in the route that are worth making\n",
      "3. RV tips (we're very worried about snow and hail, should we be?)\n",
      "\n",
      "Our son is off to college later this year so it'll be good to spend a good chunk of time together with him and our daughters. We're excited to venture out from the islands yet again :)\n",
      "\n",
      "https://preview.redd.it/30gewvebqwi81.png?width=668&format=png&auto=webp&s=fd4689a128c1a0b18b9aff77a11a5e963a3ee13a Los Angeles to Washington DC and back in 15 days with a family of 5...what's the best route?\n",
      "\n",
      "\n",
      "Index 1593:\n",
      "Filling out our ArriveCan for travel through BC on Sunday. They are asking for our quarantine address. we are travelling with our travel trailer and will be camping/boondocking. \n",
      "\n",
      "Can't find any information on the website, and I don't want to call them, in case my account gets flagged. \n",
      "\n",
      "Any other RV travellers go through Canada recently? What address did you use?\n",
      "\n",
      "Thank you! ArriveCan Quarantine Address for RV travel through Canada\n",
      "\n",
      "\n",
      "Index 1970:\n",
      "Hi! My first ever post on reddit (hopefully I don't fall foul of etiquette). I'm planning an epic road trip around US for potentially 4-5 months, seeing all 48 continental states (is that the right term). Lots of miles, lots of stops, a major bucket list trip. I'm from the UK and it doesn't seem possible to just buy a car to sell at the end without jumping through many many hoops. Has any one else done something like this and what did you find to be the best car rental option? Should I do a few smaller one way hires so I'm not putting massive mileage on a car in a short time? Start and finish in the same place in the same car that I've put 18k miles on? Is there something totally different that would work better that I haven't thought about? I'm not keen to rent an RV or similar as I will be in several cities and am a bit worried about being able to park it. \n",
      "\n",
      "There will be times I'm in a city for a couple of days and perhaps wouldn't need a car. Is it worth making those sections one way trips for the sake of a few days where I'm not using it, but get a one way rental extra charge? Has anyone tried to swap cars mid-rental period so it's not all on the one vehicle? My inclination is to rent one vehicle the entire time but maybe the internet knows better.\n",
      "\n",
      "Any advice for an extra long trip would be great.\n",
      "\n",
      "Thanks! Advice on long term rental for USA road trip.\n",
      "\n",
      "\n",
      "Index 1503:\n",
      "Hi guys, I'm travelling to canada on august 21st and going from Vancouver to Calgary via the Rockies. Our trip ends on the 11th of September!\n",
      "\n",
      "Would a camper van or a car be the best option? I love doing activities and love the outdoors. \n",
      "\n",
      "I've had a little look into campervans/RV's but the prices are crazy! The alternative would be to hire a car and switch between camping and airbnbs\n",
      "during the route!\n",
      "\n",
      "It’s just a matter of weighing up the pros and cons of both so was just wondering if anyone here has done this trip or one similar and could shed some light onto what they think is best?\n",
      "\n",
      "Would anyone be able to give me any advice in what you think would be best?\n",
      "\n",
      "Thanks RV/Camper vs Car hire + Airbnb/Tent\n",
      "\n",
      "\n",
      "Index 2113:\n",
      "So we I just got green light to take a 3 month sabatical after working myself to the brink of insanity as a pulmonologist during COVID the last two years. We re planning do fly to the US and do a 6-9 week road trip partly with an RV.  We ve been to quite few NP's before the kids were born but figured this would be an awesome experience for all of us.\n",
      "\n",
      "We ll be travelling the 2nd half of september till the 2nd week of december.  \n",
      "And the idea to to start on the west coast and then either drive of fly to the east (or the other way around) .\n",
      "\n",
      "The plan i came up with so far:  \n",
      "\n",
      "\n",
      "\\- LA\n",
      "\n",
      "\\- Highway nr 1 in 2-3 days\n",
      "\n",
      "\\- San Francisco\n",
      "\n",
      "\\- Yosemite NP\n",
      "\n",
      "\\- Sequoia NP\n",
      "\n",
      "\\- Bakersfield (?) I wanna avoid driving > 6 hrs on a day\n",
      "\n",
      "\\- Las Vegas\n",
      "\n",
      "\\- Grand Canyon NP\n",
      "\n",
      "\\- Page\n",
      "\n",
      "\\- Zion NP\n",
      "\n",
      "\\- Bryce NP\n",
      "\n",
      "\\- Capitol Reef NP\n",
      "\n",
      "\\- Moab\n",
      "\n",
      "\\- Salt Lake City\n",
      "\n",
      "\\- Grand Teton (we need a stop somewhat in between SLC & GT)\n",
      "\n",
      "\\- Yellowstone\n",
      "\n",
      "\\- Rocky mountain NP (need a stop between yellowstone & RMNP)\n",
      "\n",
      "then we ll probably fly from Denver to NY & go by car from there\n",
      "\n",
      "\\- NY for a few days\n",
      "\n",
      "\\- Philly \n",
      "\n",
      "\\- Washington\n",
      "\n",
      "\\- Great smoky mountains \n",
      "\n",
      "\\- Charleston / Savannah\n",
      "\n",
      "\\- Orlando\n",
      "\n",
      "\\- Keys \n",
      "\n",
      "\\- Miami\n",
      "\n",
      "​\n",
      "\n",
      "I m not quite sure how the east coast part is gonna work out. Any suggestions would be great. Planning a road trip with an RV with 2 kids (4 & 3 yo)\n",
      "\n",
      "\n"
     ]
    }
   ],
   "source": [
    "# print out 5 rows of content that has word 'rv'\n",
    "for i in rv_index[:5]:\n",
    "    text = combined_posts['selftext_title'].loc[i]\n",
    "    print(f'Index {i}:\\n{text}\\n\\n')"
   ]
  },
  {
   "cell_type": "code",
   "execution_count": 105,
   "id": "a997619d-df1f-4476-be15-d9c06e879f8b",
   "metadata": {},
   "outputs": [
    {
     "data": {
      "text/plain": [
       "(26,\n",
       " [2301,\n",
       "  2177,\n",
       "  2262,\n",
       "  2345,\n",
       "  1451,\n",
       "  2260,\n",
       "  1487,\n",
       "  2533,\n",
       "  2380,\n",
       "  2453,\n",
       "  2167,\n",
       "  2540,\n",
       "  1707,\n",
       "  2187,\n",
       "  1598,\n",
       "  1723,\n",
       "  2392,\n",
       "  2004,\n",
       "  1770,\n",
       "  1988,\n",
       "  2023,\n",
       "  2203,\n",
       "  1547,\n",
       "  2077,\n",
       "  2304,\n",
       "  2501])"
      ]
     },
     "execution_count": 105,
     "metadata": {},
     "output_type": "execute_result"
    }
   ],
   "source": [
    "# Explore content which has 'arch' word\n",
    "arch_index=X_train_features_df[X_train_features_df['arch']>0].index\n",
    "len(arch_index), list(arch_index)"
   ]
  },
  {
   "cell_type": "code",
   "execution_count": 106,
   "id": "4399eba1-4b91-421f-a3be-b71a911d4b15",
   "metadata": {},
   "outputs": [
    {
     "name": "stdout",
     "output_type": "stream",
     "text": [
      "Index 2301:\n",
      "I'm moving to San Diego, CA for work and considering a road trip with my family from Chicago, IL to San Diego, CA. I'll have my parents with me (both of them are in their 50s). The point is to cover the tourist spots on the way, and I'd ideally like to keep the trip under 25 days. I have thought about two possible options: \n",
      "\n",
      "1. Chicago > Yellowstone NP > Arches NP > Grand Canyon NP > Las Vegas > SD\n",
      "2. Chicago > Rocky Mountain NP > Arches NP > Grand Canyon NP > Las Vegas > SD\n",
      "\n",
      "​\n",
      "\n",
      "[Route plan for Option 1](https://preview.redd.it/53kk4naj69o81.png?width=2312&format=png&auto=webp&s=3c81c413f16af61f2c60e3c221895dcb57c1aa01)\n",
      "\n",
      "​\n",
      "\n",
      "[Route plan for Option 2](https://preview.redd.it/z1zpurom69o81.png?width=2258&format=png&auto=webp&s=8d0d9e4638ce4734828159ffd9256b61d24e8eed) Road-tripping with family from Chicago to San Diego. Looking to cover tourist spots on the way. Route suggestions?\n",
      "\n",
      "\n",
      "Index 2177:\n",
      "We got ticket entrance to Arches National Park at 1pm. \n",
      "\n",
      "Please suggest some places nearby attractions we can do prior to entering 1pm. Like. Corona Arch or Park Avenue\n",
      "\n",
      "We're leaving from St George, Utah early morning to Moab the prior day from said ticket and was entertaining either Mesa Arch or Dead Horse Point State Park to fill the time.\n",
      "\n",
      "Any suggestions is greatly appreciated\n",
      "Thanks Arches National Park\n",
      "\n",
      "\n",
      "Index 2262:\n",
      "A few of my friends and I are planning a long trip through Yellowstone and Grand Teton and then down towards Canyonlands, Arches, and Zion, ending with the Grand Canyon from Seattle. I know national parks are huge and have lots to explore but keeping this whole thing under like 20 days how long should we realistically spend in each one to have a full experience? The time limit is a little flexible btw. Also what general advice do you have for long roads trips in general? U.S. Southwest National Parks Trip Advice\n",
      "\n",
      "\n",
      "Index 2345:\n",
      "Im in the process of planning 2.5 week fall trip in October to southern Utah from Texas.  We’ve previously been to Moab to see Canyonlands and Arches National Parks a few years ago.  We will be in a truck camper and plan to do some dry camping/national forest camping and will also have a separate four wheel drive vehicle with us if there are any high clearance roads we shouldn’t miss out on.\n",
      "\n",
      "I do not know much about the area and I’m not sure if I allocated too many days to Capitol Reef and if it is worth staying in Torrey to get laundry done one day after being so close in Capitol Reef or should we move somewhere else down Highway 12.  I saw Kodachrome State Park may have laundry facilities further down Hwy 12 we could stop at.  Is grand staircase national monument worth exploring for two days or should we move on?  Here’s what I have so far:\n",
      "\n",
      "1 Texas to Albuquerque 1 night\n",
      "2 Monument Valley Mexican Hat area\n",
      "3 Monument Valley Mexican Hat area\n",
      "4 Capitol Reef\n",
      "5 Capitol Reef\n",
      "6 Capitol Reef \n",
      "7 Capitol Reef to Torrey for 1 night?\n",
      "8 To Grand Staircase National Monument\n",
      "9 Grand Staircase\n",
      "10 Dixie National Forest or somewhere else?\n",
      "11 Dixie National Forest or somewhere else?\n",
      "12 Stay somewhere overnight towards New Mexico\n",
      "13 Gila National Forest\n",
      "14 Gila National Forest\n",
      "15 Gila National Forest\n",
      "16 El Paso (contemplating staying at Franklin Mountains SP)\n",
      "17 El Paso \n",
      "18 El Paso to home\n",
      "\n",
      "We are also sort of close to the Grand Canyon North Rim but I’m wondering if we should save that for a future trip to the area.  We also like to avoid crowded parks so I think Zion is out.  Thank you! Thoughts on Southern Utah Itinerary\n",
      "\n",
      "\n",
      "Index 1451:\n",
      "Any big suggestions, I’m planning on angels landing, narrows, white pocket and arches. I really enjoy the small less touristy spots, but any must sees along the way would be great! Portland to Utah September-October\n",
      "\n",
      "\n"
     ]
    }
   ],
   "source": [
    "# print out 5 rows of content that has word 'arch'\n",
    "for i in arch_index[:5]:\n",
    "    text = combined_posts['selftext_title'].loc[i]\n",
    "    print(f'Index {i}:\\n{text}\\n\\n')"
   ]
  },
  {
   "cell_type": "code",
   "execution_count": 107,
   "id": "68f6caf0-7d5a-429b-878c-e954226bcea8",
   "metadata": {},
   "outputs": [
    {
     "data": {
      "text/plain": [
       "(29,\n",
       " [1471,\n",
       "  2449,\n",
       "  1568,\n",
       "  2494,\n",
       "  2010,\n",
       "  1967,\n",
       "  1401,\n",
       "  1551,\n",
       "  2532,\n",
       "  2361,\n",
       "  2369,\n",
       "  2593,\n",
       "  1422,\n",
       "  1872,\n",
       "  2012,\n",
       "  1827,\n",
       "  1855,\n",
       "  1697,\n",
       "  1607,\n",
       "  2015,\n",
       "  2458,\n",
       "  2201,\n",
       "  2528,\n",
       "  1881,\n",
       "  1965,\n",
       "  1896,\n",
       "  1753,\n",
       "  1791,\n",
       "  2501])"
      ]
     },
     "execution_count": 107,
     "metadata": {},
     "output_type": "execute_result"
    }
   ],
   "source": [
    "# Explore content which has 'detour' word\n",
    "detour_index=X_train_features_df[X_train_features_df['detour']>0].index\n",
    "len(detour_index), list(detour_index)"
   ]
  },
  {
   "cell_type": "code",
   "execution_count": 108,
   "id": "a785d53c-4686-456d-84c9-2275e0bd9ab8",
   "metadata": {},
   "outputs": [
    {
     "name": "stdout",
     "output_type": "stream",
     "text": [
      "Index 1471:\n",
      "Hello everyone. I'm planning a trip starting in Zurich - Milan - Genoa - Monaco - Marseille - Grenoble - Geneva - Zurich. The trip will be in April 2023. The itinerary is flexible. \n",
      "\n",
      "What do I need to know? \n",
      "What do I need to prepare for border crossings?\n",
      "Do I actually need an international driving permit?\n",
      "Any suggested detours? Things to do it not to do? \n",
      "Any help or thoughts will be appreciated. Planning a road trip in Europe as an American\n",
      "\n",
      "\n",
      "Index 2449:\n",
      "Hello, people. I am thinking about travelling all over the US on a sightseeing tour looking for my new home and plan to camp in some national parks/forests to help cut down on costs along the way. Maybe camp for 1/3 or 1/4 of the time in various places.\n",
      "\n",
      "The states I am looking to travel to and see are, Nevada, California, Oregon, Washington, Montana, Wyoming, South Dakota, Colorado, Oklahoma, Illinois, Indiana, West Virginia, Virginia and D.C. and am willing to make plenty of detours as well.\n",
      "\n",
      "Do you guys have any suggestions, destinations, or things to consider when planning such a major trip? I've never done anything of this magnitude before so even the simple tips are welcome. All over the U.S.: 6 Month+ Trip\n",
      "\n",
      "\n",
      "Index 1568:\n",
      "Hello! I know that direct blog posts are not allowed here so hopefully this self post with a link is alright!\n",
      "\n",
      "I just wanted to share our video series on roadside attractions, Just a Quick Detour. We do deep dives into offbeat and quirky roadside stuff across the US. Beyond just uncovering the history of unusual roadside stops, we always try to find out what each attraction means to the community. We love meeting and talking to people who have connections to the attractions and sharing their stories!\n",
      "\n",
      "Anyway, we figured some of you here may enjoy the series so we wanted to share it with you!\n",
      "\n",
      "[Here is our newest episode about Handless Jacques in Marblehead, OH.](https://youtu.be/frHWm0ITqC0) He’s a 30-foot tall chef with no hands who is currently undergoing an exciting restoration.\n",
      "\n",
      "[And here is a link to our main episode page.](https://youtube.com/c/JustaQuickDetour)\n",
      "\n",
      "We’d love some feedback, too! Or if you know of any quirky roadside stuff that would make a good episode let us know! (We’re based in Pittsburgh so we can pretty easily hit any of the states surrounding PA over a weekend. And we’ll be doing some California and Colorado stuff later this year.)\n",
      "\n",
      "We hope you enjoy our videos if you decide to check them out! Our roadside attraction video series, Just a Quick Detour\n",
      "\n",
      "\n",
      "Index 2494:\n",
      "I'm looking for scenic stops along I-5 from SF to Seattle next week. We will be in an AWD car with snow-rated tires and be bringing the usual supplies (scraper, shovel, chains, tire changing equip), so I hope weather won't be a problem.\n",
      "\n",
      "Along the route, we have been to Crater Lake, Lava Beds NM, Portland. We are looking to do the trip in 2 days so I assume long detours aren't possible. We'd be interested in *short* hikes, scenic spots/vista points, and any unique/quirky attractions. SF to Seattle road trip\n",
      "\n",
      "\n",
      "Index 2010:\n",
      "Moving from Seattle to Virginia with my spouse and our dog. Looking to stretch it out to 6ish days - would love overall feedback, recommendations for great stopping points on any particular leg, can't-miss minor detours (I'm using vacation time so not looking to add any major destinations).\n",
      "\n",
      "Day 1: Seattle, WA to Boise, ID\n",
      "Day 2: Boise, ID to Salt Lake City, UT\n",
      "Day 3: Salt Lake City, UT to Denver, CO\n",
      "Day 4: Denver, CO to Kansas City, MO\n",
      "Day 5: Kansas City, MO to Louisville, KY\n",
      "Day 6: Louisville, KY to our final destination! Route Feedback - Seattle to Virginia\n",
      "\n",
      "\n"
     ]
    }
   ],
   "source": [
    "# print out 5 rows of content that has word 'detour'\n",
    "for i in detour_index[:5]:\n",
    "    text = combined_posts['selftext_title'].loc[i]\n",
    "    print(f'Index {i}:\\n{text}\\n\\n')"
   ]
  },
  {
   "cell_type": "markdown",
   "id": "ff9f1d49-dbee-4b2e-a967-1e7b176f45e2",
   "metadata": {
    "tags": []
   },
   "source": [
    "### Overview of all models"
   ]
  },
  {
   "cell_type": "code",
   "execution_count": 109,
   "id": "567fab2e-5c50-4736-9675-f4683b18c645",
   "metadata": {},
   "outputs": [
    {
     "data": {
      "text/html": [
       "<div>\n",
       "<style scoped>\n",
       "    .dataframe tbody tr th:only-of-type {\n",
       "        vertical-align: middle;\n",
       "    }\n",
       "\n",
       "    .dataframe tbody tr th {\n",
       "        vertical-align: top;\n",
       "    }\n",
       "\n",
       "    .dataframe thead th {\n",
       "        text-align: right;\n",
       "    }\n",
       "</style>\n",
       "<table border=\"1\" class=\"dataframe\">\n",
       "  <thead>\n",
       "    <tr style=\"text-align: right;\">\n",
       "      <th></th>\n",
       "      <th>Model</th>\n",
       "      <th>Cross Validated Score</th>\n",
       "      <th>Training Accuracy</th>\n",
       "      <th>Accuracy</th>\n",
       "      <th>Sensitivity</th>\n",
       "      <th>Specificity</th>\n",
       "      <th>ROC</th>\n",
       "    </tr>\n",
       "  </thead>\n",
       "  <tbody>\n",
       "    <tr>\n",
       "      <th>0</th>\n",
       "      <td>logreg_base</td>\n",
       "      <td>0.898408</td>\n",
       "      <td>0.997111</td>\n",
       "      <td>0.905769</td>\n",
       "      <td>0.928315</td>\n",
       "      <td>0.879668</td>\n",
       "      <td>0.964024</td>\n",
       "    </tr>\n",
       "    <tr>\n",
       "      <th>1</th>\n",
       "      <td>logreg_tvec (gs_logreg_model)</td>\n",
       "      <td>0.922237</td>\n",
       "      <td>0.953779</td>\n",
       "      <td>0.919231</td>\n",
       "      <td>0.935484</td>\n",
       "      <td>0.900415</td>\n",
       "      <td>0.969363</td>\n",
       "    </tr>\n",
       "    <tr>\n",
       "      <th>2</th>\n",
       "      <td>nb_cvec (gs_nb_model)</td>\n",
       "      <td>0.932595</td>\n",
       "      <td>0.932595</td>\n",
       "      <td>0.898077</td>\n",
       "      <td>0.870968</td>\n",
       "      <td>0.929461</td>\n",
       "      <td>0.959904</td>\n",
       "    </tr>\n",
       "  </tbody>\n",
       "</table>\n",
       "</div>"
      ],
      "text/plain": [
       "                           Model  Cross Validated Score  Training Accuracy  \\\n",
       "0                    logreg_base               0.898408           0.997111   \n",
       "1  logreg_tvec (gs_logreg_model)               0.922237           0.953779   \n",
       "2          nb_cvec (gs_nb_model)               0.932595           0.932595   \n",
       "\n",
       "   Accuracy  Sensitivity  Specificity       ROC  \n",
       "0  0.905769     0.928315     0.879668  0.964024  \n",
       "1  0.919231     0.935484     0.900415  0.969363  \n",
       "2  0.898077     0.870968     0.929461  0.959904  "
      ]
     },
     "execution_count": 109,
     "metadata": {},
     "output_type": "execute_result"
    }
   ],
   "source": [
    "# Display models summary\n",
    "model_summary"
   ]
  },
  {
   "cell_type": "markdown",
   "id": "cf1db062-a3e6-48df-9919-c76f62eac254",
   "metadata": {
    "tags": []
   },
   "source": [
    "### Evaluation"
   ]
  },
  {
   "cell_type": "markdown",
   "id": "76b987e8-e110-47e9-8c9e-0de5b37c390d",
   "metadata": {
    "tags": []
   },
   "source": [
    "1. Of all the models created, logreg_tvec (Logistics Regression Model with tf-idf vectorizer) performed the best based on the highest Test Accuracy score and ROC score of 92% and 97% respectively. This is a significant improvement from the Zero Rate Classifier (baseline accuracy), with a of an improvement about 40% increase (80% increase).\n",
    "2. The difference between the testing and training accuracy is small, about 3%.\n",
    "3. The model has a Training Cross Validation accuracy score of 92%. This means the model is able to explain 92% of the variance in the y_train values.\n",
    "4. The top 5 important features use to classify the respective subreddits are shown in the table below. This means that the probability of a submission classifying in the respective subreddit increase with the increase of the number of words in each group.\n",
    "\n",
    "|TravelHacks|roadtrip|\n",
    "|-|-|\n",
    "|flight|road|\n",
    "|travel|drive|\n",
    "|book|roadtrip|\n",
    "|ticket|stop|\n",
    "|airline|route|\n",
    "\n",
    "5. The improvement in accuracy of the model is likely due to the reduction number of features (from the original 7044 features to 3000) used to train the model, reducing overfitting and resulting in lower biasness and higher variance.\n"
   ]
  },
  {
   "cell_type": "markdown",
   "id": "17feeae7-746c-4277-bcc9-cf32ddc47e2d",
   "metadata": {},
   "source": [
    "#### Misclassified Submissions\n",
    "- The following section aims to analyse the reason for misclassifications. \n",
    "- Refer to the confusion matrix [here](#Plot-gs_logreg_model-Results)."
   ]
  },
  {
   "cell_type": "code",
   "execution_count": 110,
   "id": "7ab5f767-9141-4db9-a1af-82fc94c04e98",
   "metadata": {},
   "outputs": [
    {
     "data": {
      "text/plain": [
       "Pipeline(steps=[('tvec',\n",
       "                 TfidfVectorizer(max_df=0.85, max_features=4000, min_df=3,\n",
       "                                 ngram_range=(1, 2))),\n",
       "                ('estimator', LogisticRegression())])"
      ]
     },
     "execution_count": 110,
     "metadata": {},
     "output_type": "execute_result"
    }
   ],
   "source": [
    "# Display parameters for Logistics Regression Model with tf-idf vectorizer \n",
    "gs_logreg_model"
   ]
  },
  {
   "cell_type": "code",
   "execution_count": 111,
   "id": "462f50b2-f2b7-4d94-b0bf-8aefd1c93ba3",
   "metadata": {},
   "outputs": [],
   "source": [
    "# Instantiate count vectorizer object, which is sklearn's\n",
    "# bag of words tool.\n",
    "gs_logreg_tvec = TfidfVectorizer(max_df=0.85, \n",
    "                                 max_features=4000, \n",
    "                                 min_df=3,\n",
    "                                 ngram_range=(1, 2))\n",
    "\n",
    "# fit_transform() does two things: First, it fits the model and \n",
    "# learns the vocabulary; second, it transforms our training data\n",
    "# into feature vectors. The input to fit_transform should be a \n",
    "# list of strings, which will be used to transform X_test. \n",
    "X_train_tvec = gs_logreg_tvec.fit_transform(X_train)\n",
    "X_test_tvec = gs_logreg_tvec.transform(X_test)"
   ]
  },
  {
   "cell_type": "code",
   "execution_count": 112,
   "id": "5f4f693c-2a51-41fd-8b23-07689a4bd8eb",
   "metadata": {},
   "outputs": [
    {
     "name": "stderr",
     "output_type": "stream",
     "text": [
      "C:\\Users\\Wende.Joanne\\anaconda3\\lib\\site-packages\\sklearn\\utils\\deprecation.py:87: FutureWarning: Function get_feature_names is deprecated; get_feature_names is deprecated in 1.0 and will be removed in 1.2. Please use get_feature_names_out instead.\n",
      "  warnings.warn(msg, category=FutureWarning)\n"
     ]
    }
   ],
   "source": [
    "# Re-instantiate Dataframe for further analysis\n",
    "X_test_features_df = pd.DataFrame(X_test_tvec.toarray(),\n",
    "                                   columns=gs_logreg_tvec.get_feature_names(),\n",
    "                                   index=X_test.index)"
   ]
  },
  {
   "cell_type": "code",
   "execution_count": 113,
   "id": "db4a0942-6013-40bc-ae58-9d7a28f17caf",
   "metadata": {},
   "outputs": [],
   "source": [
    "# Comparing predictions from Logistics Regression Model with tf-idf vectorizer \n",
    "# against y_test data\n",
    "y_preds = gs_logreg_model.predict(X_test)"
   ]
  },
  {
   "cell_type": "code",
   "execution_count": 114,
   "id": "e649bc7d-3caf-4559-bb18-8730f41fd398",
   "metadata": {},
   "outputs": [
    {
     "data": {
      "text/html": [
       "<div>\n",
       "<style scoped>\n",
       "    .dataframe tbody tr th:only-of-type {\n",
       "        vertical-align: middle;\n",
       "    }\n",
       "\n",
       "    .dataframe tbody tr th {\n",
       "        vertical-align: top;\n",
       "    }\n",
       "\n",
       "    .dataframe thead th {\n",
       "        text-align: right;\n",
       "    }\n",
       "</style>\n",
       "<table border=\"1\" class=\"dataframe\">\n",
       "  <thead>\n",
       "    <tr style=\"text-align: right;\">\n",
       "      <th></th>\n",
       "      <th>subreddit_label</th>\n",
       "      <th>y_preds</th>\n",
       "    </tr>\n",
       "  </thead>\n",
       "  <tbody>\n",
       "    <tr>\n",
       "      <th>837</th>\n",
       "      <td>1</td>\n",
       "      <td>1</td>\n",
       "    </tr>\n",
       "    <tr>\n",
       "      <th>97</th>\n",
       "      <td>1</td>\n",
       "      <td>1</td>\n",
       "    </tr>\n",
       "    <tr>\n",
       "      <th>701</th>\n",
       "      <td>1</td>\n",
       "      <td>1</td>\n",
       "    </tr>\n",
       "    <tr>\n",
       "      <th>493</th>\n",
       "      <td>1</td>\n",
       "      <td>1</td>\n",
       "    </tr>\n",
       "    <tr>\n",
       "      <th>822</th>\n",
       "      <td>1</td>\n",
       "      <td>1</td>\n",
       "    </tr>\n",
       "  </tbody>\n",
       "</table>\n",
       "</div>"
      ],
      "text/plain": [
       "     subreddit_label  y_preds\n",
       "837                1        1\n",
       "97                 1        1\n",
       "701                1        1\n",
       "493                1        1\n",
       "822                1        1"
      ]
     },
     "execution_count": 114,
     "metadata": {},
     "output_type": "execute_result"
    }
   ],
   "source": [
    "# convert y_preds to dataframe\n",
    "true_pred_df = y_test.to_frame()#.merge(y_preds)\n",
    "true_pred_df['y_preds'] = y_preds\n",
    "true_pred_df.head()"
   ]
  },
  {
   "cell_type": "code",
   "execution_count": 115,
   "id": "2cd4a8e0-4237-4a18-9db2-9e584e393444",
   "metadata": {},
   "outputs": [
    {
     "data": {
      "text/html": [
       "<div>\n",
       "<style scoped>\n",
       "    .dataframe tbody tr th:only-of-type {\n",
       "        vertical-align: middle;\n",
       "    }\n",
       "\n",
       "    .dataframe tbody tr th {\n",
       "        vertical-align: top;\n",
       "    }\n",
       "\n",
       "    .dataframe thead th {\n",
       "        text-align: right;\n",
       "    }\n",
       "</style>\n",
       "<table border=\"1\" class=\"dataframe\">\n",
       "  <thead>\n",
       "    <tr style=\"text-align: right;\">\n",
       "      <th></th>\n",
       "      <th>0</th>\n",
       "      <th>1</th>\n",
       "    </tr>\n",
       "  </thead>\n",
       "  <tbody>\n",
       "    <tr>\n",
       "      <th>837</th>\n",
       "      <td>0.314561</td>\n",
       "      <td>0.685439</td>\n",
       "    </tr>\n",
       "    <tr>\n",
       "      <th>97</th>\n",
       "      <td>0.256032</td>\n",
       "      <td>0.743968</td>\n",
       "    </tr>\n",
       "    <tr>\n",
       "      <th>701</th>\n",
       "      <td>0.156290</td>\n",
       "      <td>0.843710</td>\n",
       "    </tr>\n",
       "    <tr>\n",
       "      <th>493</th>\n",
       "      <td>0.497697</td>\n",
       "      <td>0.502303</td>\n",
       "    </tr>\n",
       "    <tr>\n",
       "      <th>822</th>\n",
       "      <td>0.102825</td>\n",
       "      <td>0.897175</td>\n",
       "    </tr>\n",
       "  </tbody>\n",
       "</table>\n",
       "</div>"
      ],
      "text/plain": [
       "            0         1\n",
       "837  0.314561  0.685439\n",
       "97   0.256032  0.743968\n",
       "701  0.156290  0.843710\n",
       "493  0.497697  0.502303\n",
       "822  0.102825  0.897175"
      ]
     },
     "execution_count": 115,
     "metadata": {},
     "output_type": "execute_result"
    }
   ],
   "source": [
    "# Retrieve probability for X_test.\n",
    "proba_df=pd.DataFrame(gs_logreg_model.predict_proba(X_test), \n",
    "             index=X_test.index)\n",
    "\n",
    "proba_df.head()"
   ]
  },
  {
   "cell_type": "markdown",
   "id": "40310f9b-36bd-4ebc-bce1-f211a1b39df6",
   "metadata": {},
   "source": [
    "##### False Positives (predict a roadtrip submission as TravelHacks submission)\n",
    "1. The probability of these post being in TravelHacks ranges between 50% and 70%, for most of the submissions. This means that they are borderline cases where they could be in either subreddits.\n",
    "2. These submissions are wrongly classified likely due to the inclusion of key words in TravelHacks such as 'travel' and 'book'\n",
    "3. They also contain words that are common to both subreddits, such as 'plan', which are ambiguous in predicting the submissions. \n",
    "4. These submissions may either be irrelevant to the subreddit (e.g. advertisements/spams) or do not have enough content for the model to better classify it. "
   ]
  },
  {
   "cell_type": "code",
   "execution_count": 116,
   "id": "dabf7b89-58d4-4f95-823c-af1b4c858080",
   "metadata": {},
   "outputs": [],
   "source": [
    "# Retrieve false positives \n",
    "# (predict a roadtrip submission as TravelHacks submission)\n",
    "false_positive_index = true_pred_df[\n",
    "    (true_pred_df['y_preds'] == 1) \n",
    "    & (true_pred_df['subreddit_label'] == 0)\n",
    "].index"
   ]
  },
  {
   "cell_type": "code",
   "execution_count": 117,
   "id": "3d6587af-0d66-478f-aa22-4a549e5b26b5",
   "metadata": {
    "tags": []
   },
   "outputs": [
    {
     "data": {
      "text/html": [
       "<div>\n",
       "<style scoped>\n",
       "    .dataframe tbody tr th:only-of-type {\n",
       "        vertical-align: middle;\n",
       "    }\n",
       "\n",
       "    .dataframe tbody tr th {\n",
       "        vertical-align: top;\n",
       "    }\n",
       "\n",
       "    .dataframe thead th {\n",
       "        text-align: right;\n",
       "    }\n",
       "</style>\n",
       "<table border=\"1\" class=\"dataframe\">\n",
       "  <thead>\n",
       "    <tr style=\"text-align: right;\">\n",
       "      <th></th>\n",
       "      <th>0</th>\n",
       "      <th>1</th>\n",
       "    </tr>\n",
       "  </thead>\n",
       "  <tbody>\n",
       "    <tr>\n",
       "      <th>2093</th>\n",
       "      <td>0.341215</td>\n",
       "      <td>0.658785</td>\n",
       "    </tr>\n",
       "    <tr>\n",
       "      <th>2104</th>\n",
       "      <td>0.464449</td>\n",
       "      <td>0.535551</td>\n",
       "    </tr>\n",
       "    <tr>\n",
       "      <th>2433</th>\n",
       "      <td>0.260511</td>\n",
       "      <td>0.739489</td>\n",
       "    </tr>\n",
       "    <tr>\n",
       "      <th>2120</th>\n",
       "      <td>0.373335</td>\n",
       "      <td>0.626665</td>\n",
       "    </tr>\n",
       "    <tr>\n",
       "      <th>2235</th>\n",
       "      <td>0.361153</td>\n",
       "      <td>0.638847</td>\n",
       "    </tr>\n",
       "    <tr>\n",
       "      <th>2416</th>\n",
       "      <td>0.372353</td>\n",
       "      <td>0.627647</td>\n",
       "    </tr>\n",
       "    <tr>\n",
       "      <th>1625</th>\n",
       "      <td>0.219714</td>\n",
       "      <td>0.780286</td>\n",
       "    </tr>\n",
       "    <tr>\n",
       "      <th>2137</th>\n",
       "      <td>0.117313</td>\n",
       "      <td>0.882687</td>\n",
       "    </tr>\n",
       "    <tr>\n",
       "      <th>2027</th>\n",
       "      <td>0.489784</td>\n",
       "      <td>0.510216</td>\n",
       "    </tr>\n",
       "    <tr>\n",
       "      <th>1904</th>\n",
       "      <td>0.228528</td>\n",
       "      <td>0.771472</td>\n",
       "    </tr>\n",
       "    <tr>\n",
       "      <th>2586</th>\n",
       "      <td>0.360625</td>\n",
       "      <td>0.639375</td>\n",
       "    </tr>\n",
       "    <tr>\n",
       "      <th>1459</th>\n",
       "      <td>0.248650</td>\n",
       "      <td>0.751350</td>\n",
       "    </tr>\n",
       "    <tr>\n",
       "      <th>2278</th>\n",
       "      <td>0.227253</td>\n",
       "      <td>0.772747</td>\n",
       "    </tr>\n",
       "    <tr>\n",
       "      <th>2035</th>\n",
       "      <td>0.422145</td>\n",
       "      <td>0.577855</td>\n",
       "    </tr>\n",
       "    <tr>\n",
       "      <th>1725</th>\n",
       "      <td>0.484420</td>\n",
       "      <td>0.515580</td>\n",
       "    </tr>\n",
       "    <tr>\n",
       "      <th>1596</th>\n",
       "      <td>0.355437</td>\n",
       "      <td>0.644563</td>\n",
       "    </tr>\n",
       "    <tr>\n",
       "      <th>1614</th>\n",
       "      <td>0.396238</td>\n",
       "      <td>0.603762</td>\n",
       "    </tr>\n",
       "    <tr>\n",
       "      <th>1490</th>\n",
       "      <td>0.287257</td>\n",
       "      <td>0.712743</td>\n",
       "    </tr>\n",
       "    <tr>\n",
       "      <th>1435</th>\n",
       "      <td>0.401165</td>\n",
       "      <td>0.598835</td>\n",
       "    </tr>\n",
       "    <tr>\n",
       "      <th>1493</th>\n",
       "      <td>0.366688</td>\n",
       "      <td>0.633312</td>\n",
       "    </tr>\n",
       "    <tr>\n",
       "      <th>2171</th>\n",
       "      <td>0.484073</td>\n",
       "      <td>0.515927</td>\n",
       "    </tr>\n",
       "    <tr>\n",
       "      <th>2549</th>\n",
       "      <td>0.438515</td>\n",
       "      <td>0.561485</td>\n",
       "    </tr>\n",
       "    <tr>\n",
       "      <th>2210</th>\n",
       "      <td>0.283961</td>\n",
       "      <td>0.716039</td>\n",
       "    </tr>\n",
       "    <tr>\n",
       "      <th>1740</th>\n",
       "      <td>0.439392</td>\n",
       "      <td>0.560608</td>\n",
       "    </tr>\n",
       "  </tbody>\n",
       "</table>\n",
       "</div>"
      ],
      "text/plain": [
       "             0         1\n",
       "2093  0.341215  0.658785\n",
       "2104  0.464449  0.535551\n",
       "2433  0.260511  0.739489\n",
       "2120  0.373335  0.626665\n",
       "2235  0.361153  0.638847\n",
       "2416  0.372353  0.627647\n",
       "1625  0.219714  0.780286\n",
       "2137  0.117313  0.882687\n",
       "2027  0.489784  0.510216\n",
       "1904  0.228528  0.771472\n",
       "2586  0.360625  0.639375\n",
       "1459  0.248650  0.751350\n",
       "2278  0.227253  0.772747\n",
       "2035  0.422145  0.577855\n",
       "1725  0.484420  0.515580\n",
       "1596  0.355437  0.644563\n",
       "1614  0.396238  0.603762\n",
       "1490  0.287257  0.712743\n",
       "1435  0.401165  0.598835\n",
       "1493  0.366688  0.633312\n",
       "2171  0.484073  0.515927\n",
       "2549  0.438515  0.561485\n",
       "2210  0.283961  0.716039\n",
       "1740  0.439392  0.560608"
      ]
     },
     "execution_count": 117,
     "metadata": {},
     "output_type": "execute_result"
    }
   ],
   "source": [
    "# verify probability of these subsmissions\n",
    "proba_df.loc[false_positive_index]"
   ]
  },
  {
   "cell_type": "code",
   "execution_count": 118,
   "id": "c6296619-e523-43c9-9812-d0ed9329793b",
   "metadata": {},
   "outputs": [],
   "source": [
    "# retrieve words count in these submissions. \n",
    "words=[]\n",
    "\n",
    "for i in false_positive_index:\n",
    "    words.extend(X_test_features_df.columns[(X_test_features_df.loc[i] != 0)])\n",
    "    \n",
    "words_dict = {i:words.count(i) for i in words}\n",
    "        \n",
    "words_dict_df = pd.DataFrame(words_dict.items(), \n",
    "                             columns= ['word', 'count'])"
   ]
  },
  {
   "cell_type": "code",
   "execution_count": 119,
   "id": "59610b4b-ccb6-486d-a63f-4eec5a5b6640",
   "metadata": {},
   "outputs": [
    {
     "data": {
      "image/png": "[encoded data removed]",
      "text/plain": [
       "<Figure size 576x576 with 1 Axes>"
      ]
     },
     "metadata": {
      "needs_background": "light"
     },
     "output_type": "display_data"
    }
   ],
   "source": [
    "# plot word count\n",
    "plt.figure(figsize=(8, 8))\n",
    "ax = sns.barplot(data=words_dict_df.sort_values(by='count', \n",
    "                                                 ascending=False).head(20), \n",
    "                 y=words_dict_df.sort_values(by='count', \n",
    "                                             ascending=False).head(20)['word'], \n",
    "                 x='count', \n",
    "                 palette=\"crest\");\n",
    "ax.bar_label(ax.containers[0])\n",
    "plt.title('Top 20 word count in false positive submissions', size=15);"
   ]
  },
  {
   "cell_type": "code",
   "execution_count": 120,
   "id": "0fb9d2bb-7624-45fd-a851-06aae5e3273d",
   "metadata": {},
   "outputs": [
    {
     "name": "stdout",
     "output_type": "stream",
     "text": [
      "Index 2093:\n",
      "Hi! Join the Bitcoin 19 millionth Airdrop on LATOKEN for a chance to win 💲500 (and additional rewards for first time traders/depositors)\n",
      "https://latoken.com/airdrops/entrance?refcode=hm2r6wpx&airdrop=BTC&source=sbre LATOKEN BTC Airdrop\n",
      "\n",
      "\n",
      "Index 2104:\n",
      "I’m on a car trip for my grandpa’s funeral and my ass is now numb. I can feel that I cant feel my butt. But it’s numb. Is this normal? My ass is numb\n",
      "\n",
      "\n",
      "Index 2433:\n",
      "Anybody have any tips for staying warm while traveling/ living in my car. It's average 25 - 35° right now in my area Staying warm\n",
      "\n",
      "\n"
     ]
    }
   ],
   "source": [
    "# display context of these submissions. \n",
    "for i in false_positive_index[:3]:\n",
    "    content = combined_posts.loc[i]['selftext_title']\n",
    "    print(f'Index {i}:\\n{content}\\n\\n')"
   ]
  },
  {
   "cell_type": "markdown",
   "id": "8a996892-846b-4f53-8bc9-17f8c156e358",
   "metadata": {},
   "source": [
    "##### False Negatives (predict a TravelHacks submission as roadtrip submission)\n",
    "1. The probability of these post being in roadtrip ranges between 50% and 70%, for most of the submissions. This means that they are borderline cases where they could be in either subreddits.\n",
    "2. These submissions are wrongly classified likely due to the inclusion words that are common to both subreddits, such as 'plan', which are ambiguous in predicting the submissions. \n",
    "3. These submissions may either contain images & links or do not have enough content for the model to better classify it."
   ]
  },
  {
   "cell_type": "code",
   "execution_count": 121,
   "id": "41a3e19c-5f93-40c4-a045-c8a99d76b4b8",
   "metadata": {},
   "outputs": [],
   "source": [
    "# Retrieve false positives \n",
    "# (predict a roadtrip submission as TravelHacks submission)\n",
    "false_negative_index = true_pred_df[\n",
    "    (true_pred_df['y_preds'] == 0) \n",
    "    & (true_pred_df['subreddit_label'] == 1)\n",
    "].index"
   ]
  },
  {
   "cell_type": "code",
   "execution_count": 122,
   "id": "6faee549-6967-4a5d-939d-e461eadf469d",
   "metadata": {
    "tags": []
   },
   "outputs": [
    {
     "data": {
      "text/html": [
       "<div>\n",
       "<style scoped>\n",
       "    .dataframe tbody tr th:only-of-type {\n",
       "        vertical-align: middle;\n",
       "    }\n",
       "\n",
       "    .dataframe tbody tr th {\n",
       "        vertical-align: top;\n",
       "    }\n",
       "\n",
       "    .dataframe thead th {\n",
       "        text-align: right;\n",
       "    }\n",
       "</style>\n",
       "<table border=\"1\" class=\"dataframe\">\n",
       "  <thead>\n",
       "    <tr style=\"text-align: right;\">\n",
       "      <th></th>\n",
       "      <th>0</th>\n",
       "      <th>1</th>\n",
       "    </tr>\n",
       "  </thead>\n",
       "  <tbody>\n",
       "    <tr>\n",
       "      <th>1062</th>\n",
       "      <td>0.509699</td>\n",
       "      <td>0.490301</td>\n",
       "    </tr>\n",
       "    <tr>\n",
       "      <th>182</th>\n",
       "      <td>0.540646</td>\n",
       "      <td>0.459354</td>\n",
       "    </tr>\n",
       "    <tr>\n",
       "      <th>1308</th>\n",
       "      <td>0.622027</td>\n",
       "      <td>0.377973</td>\n",
       "    </tr>\n",
       "    <tr>\n",
       "      <th>375</th>\n",
       "      <td>0.822653</td>\n",
       "      <td>0.177347</td>\n",
       "    </tr>\n",
       "    <tr>\n",
       "      <th>1130</th>\n",
       "      <td>0.690649</td>\n",
       "      <td>0.309351</td>\n",
       "    </tr>\n",
       "    <tr>\n",
       "      <th>523</th>\n",
       "      <td>0.765480</td>\n",
       "      <td>0.234520</td>\n",
       "    </tr>\n",
       "    <tr>\n",
       "      <th>1085</th>\n",
       "      <td>0.651514</td>\n",
       "      <td>0.348486</td>\n",
       "    </tr>\n",
       "    <tr>\n",
       "      <th>153</th>\n",
       "      <td>0.505605</td>\n",
       "      <td>0.494395</td>\n",
       "    </tr>\n",
       "    <tr>\n",
       "      <th>1179</th>\n",
       "      <td>0.845811</td>\n",
       "      <td>0.154189</td>\n",
       "    </tr>\n",
       "    <tr>\n",
       "      <th>774</th>\n",
       "      <td>0.511454</td>\n",
       "      <td>0.488546</td>\n",
       "    </tr>\n",
       "    <tr>\n",
       "      <th>935</th>\n",
       "      <td>0.581777</td>\n",
       "      <td>0.418223</td>\n",
       "    </tr>\n",
       "    <tr>\n",
       "      <th>1182</th>\n",
       "      <td>0.660324</td>\n",
       "      <td>0.339676</td>\n",
       "    </tr>\n",
       "    <tr>\n",
       "      <th>1311</th>\n",
       "      <td>0.533968</td>\n",
       "      <td>0.466032</td>\n",
       "    </tr>\n",
       "    <tr>\n",
       "      <th>710</th>\n",
       "      <td>0.756197</td>\n",
       "      <td>0.243803</td>\n",
       "    </tr>\n",
       "    <tr>\n",
       "      <th>1249</th>\n",
       "      <td>0.853795</td>\n",
       "      <td>0.146205</td>\n",
       "    </tr>\n",
       "    <tr>\n",
       "      <th>329</th>\n",
       "      <td>0.552465</td>\n",
       "      <td>0.447535</td>\n",
       "    </tr>\n",
       "    <tr>\n",
       "      <th>1272</th>\n",
       "      <td>0.725667</td>\n",
       "      <td>0.274333</td>\n",
       "    </tr>\n",
       "    <tr>\n",
       "      <th>1181</th>\n",
       "      <td>0.705033</td>\n",
       "      <td>0.294967</td>\n",
       "    </tr>\n",
       "  </tbody>\n",
       "</table>\n",
       "</div>"
      ],
      "text/plain": [
       "             0         1\n",
       "1062  0.509699  0.490301\n",
       "182   0.540646  0.459354\n",
       "1308  0.622027  0.377973\n",
       "375   0.822653  0.177347\n",
       "1130  0.690649  0.309351\n",
       "523   0.765480  0.234520\n",
       "1085  0.651514  0.348486\n",
       "153   0.505605  0.494395\n",
       "1179  0.845811  0.154189\n",
       "774   0.511454  0.488546\n",
       "935   0.581777  0.418223\n",
       "1182  0.660324  0.339676\n",
       "1311  0.533968  0.466032\n",
       "710   0.756197  0.243803\n",
       "1249  0.853795  0.146205\n",
       "329   0.552465  0.447535\n",
       "1272  0.725667  0.274333\n",
       "1181  0.705033  0.294967"
      ]
     },
     "execution_count": 122,
     "metadata": {},
     "output_type": "execute_result"
    }
   ],
   "source": [
    "# verify probability of these subsmissions\n",
    "proba_df.loc[false_negative_index]"
   ]
  },
  {
   "cell_type": "code",
   "execution_count": 123,
   "id": "3d5638a6-b844-4180-8512-b4797a56536f",
   "metadata": {},
   "outputs": [],
   "source": [
    "# retrieve words count in these submissions. \n",
    "words=[]\n",
    "\n",
    "for i in false_negative_index:\n",
    "    words.extend(X_test_features_df.columns[(X_test_features_df.loc[i] != 0)])\n",
    "    \n",
    "words_dict = {i:words.count(i) for i in words}\n",
    "        \n",
    "words_dict_df = pd.DataFrame(words_dict.items(), \n",
    "                             columns= ['word', 'count'])"
   ]
  },
  {
   "cell_type": "code",
   "execution_count": 124,
   "id": "e37659d1-214d-4452-ba18-6b60583b388e",
   "metadata": {},
   "outputs": [
    {
     "data": {
      "image/png": "[encoded data removed]",
      "text/plain": [
       "<Figure size 576x576 with 1 Axes>"
      ]
     },
     "metadata": {
      "needs_background": "light"
     },
     "output_type": "display_data"
    }
   ],
   "source": [
    "# plot word count\n",
    "plt.figure(figsize=(8, 8))\n",
    "ax = sns.barplot(data=words_dict_df.sort_values(by='count', \n",
    "                                                 ascending=False).head(20), \n",
    "                 y=words_dict_df.sort_values(by='count', \n",
    "                                             ascending=False).head(20)['word'], \n",
    "                 x='count', \n",
    "                 palette=\"crest\");\n",
    "ax.bar_label(ax.containers[0])\n",
    "plt.title('Top 20 word count in false negative submissions', size=15);"
   ]
  },
  {
   "cell_type": "code",
   "execution_count": 125,
   "id": "a921168d-cdd4-443a-ac8a-bd18c062979d",
   "metadata": {},
   "outputs": [
    {
     "name": "stdout",
     "output_type": "stream",
     "text": [
      "Index 1062:\n",
      "There are many amazing places to visit in Stockholm, Sweden. \n",
      "\n",
      "Some of the most popular tourist destinations include the Royal Palace, the Vasa Museum, and Skansen.\n",
      "\n",
      "[Here](https://semlas.com/blog/2022/03/10/looking-for-the-best-places-to-visit-in-stockholm/) is the list of the best places to visit in Stockholm. The Best Places to visit in Stockholm, Sweden\n",
      "\n",
      "\n",
      "Index 182:\n",
      "https://i.imgur.com/9eHmJEZ.jpg Any idea where this could be?\n",
      "\n",
      "\n",
      "Index 1308:\n",
      "I surprised my gf w tickets to a concert in New York for our one year anniversary. I’ve never been to New York but she loves it. I am not a huge fan of the fast paced chaotic life and tbh the crime out there scares me a little. I would love to take her to some cool local spots instead of doing the hype over populated touristy spots. We love art, live music, whole in the walls, good views, good food and nature. We will be staying Friday-Monday around Brooklyn, as that’s where the concert will be. I am open to suggestions! Any New York locals, please…which would be some cool spots to visit? \n",
      "\n",
      "Much appreciate guys 🙏🏽 First time in New York!\n",
      "\n",
      "\n",
      "Index 375:\n",
      "What are your favorite USA national parks and why? National Parks\n",
      "\n",
      "\n",
      "Index 1130:\n",
      "## [Alaska—from history to awe-inspiring highway journey](https://ishmoh.com/dalton-highway-alaska-a-travel-to-the-loneliest-road/) Dalton Highway Alaska: A Travel to the Loneliest Road\n",
      "\n",
      "\n"
     ]
    }
   ],
   "source": [
    "# display context of these submissions. \n",
    "for i in false_negative_index[:5]:\n",
    "    content = combined_posts.loc[i]['selftext_title']\n",
    "    print(f'Index {i}:\\n{content}\\n\\n')"
   ]
  },
  {
   "cell_type": "markdown",
   "id": "b0082e02-67db-456c-aac3-a14097c436cb",
   "metadata": {},
   "source": [
    "---\n",
    "## 4. Recommendations and Future Works"
   ]
  },
  {
   "cell_type": "markdown",
   "id": "3b3976be-782c-4a6f-b289-9482ba94bbb1",
   "metadata": {
    "jp-MarkdownHeadingCollapsed": true,
    "tags": []
   },
   "source": [
    "### Proposed Classification Model: Logistics Regression Model with TF-IDF vectorizer (logreg_tvec)\n",
    "\n",
    "1. The project proposed the adoption of Logistics Regression Model with TF-IDF vectorizer (logreg_tvec) to the Senior Management Team of the agency.\n",
    "2. The model has highest test Accuracy score and ROC score of 95% and 97% respectively.\n",
    "3. The model has a Training Cross Validation accuracy score of 92%. This means the model is able to explain 92% of the variance in the subreddit classifications.\n",
    "4. It is recommended that logreg_tvec (Logistics Regression Model with tf-idf vectorizer) is the best classification model of all the models and will be proposed to the senior management to deploy online for travellers to use. "
   ]
  },
  {
   "cell_type": "markdown",
   "id": "e32dbf53-f598-43a0-ad2f-c73f3f6798ce",
   "metadata": {
    "jp-MarkdownHeadingCollapsed": true,
    "tags": []
   },
   "source": [
    "### Proposals to Attract Travellers based on respective Subreddits. \n",
    "(based on assessment of coefficients/importance of features and sentiment analysis)\n",
    "\n",
    "**Findings from TravelHacks**\n",
    "1. Flight Deals and Availability:\n",
    "    - The project may consider reviewing strategies implemented by airlines at TravelHacks and partner airlines operating in Australia to attract travellers and increase availability of flight.\n",
    "2. Car Rental Cost and Trustworthiness:\n",
    "    - The project could consider attracting more car rental companies to operate at the airport to provide more economical solutions (increase supply will lower costs). Grading systems for car rental companies would be beneficial for traveller to make better informed decisions and partner with a more trustworthy rental company.\n",
    "3. Covid Testing:\n",
    "    - The project can explore formulating policy to support travellers who are tested positively to recoup some of the costs incurred during planning or to delay their trip. \n",
    "    -  The project can explore providing testing services at airport to facilitate travellers meeting the requirements to ease the travellers' burden.\n",
    "4. Vaccination Status:\n",
    "    - travellers are concerned about being vaccinated or show proof of vaccine when travelling to other countries. As vaccination is up to individuals. There is not much Australia can do about it. However, marketing resources may be invested in countries where vaccination take up rate is high, for example, Singapore.\n",
    "5. Travel Insurance:\n",
    "    - Given the uncertainty of the evolving Covid measures, it is important that travel insurance covers the unfortunate event that a traveller being infected by Covid. The project can consider partnering travel insurance agency to provide such coverage for this event.\n",
    "\n",
    "**Findings from roadtrip**\n",
    "1. Safety:\n",
    "    - The project may review the typical routes for road trips in Australia to pass through areas that are safer. Police stations could be situated at intervals along the typical routes to assure travellers or assist travellers if needed.\n",
    "2. Stops/detours:\n",
    "    - The project may considor building attractions or amenities pit stop along typical scenic route in Australia so that travellers could take breaks in between long drives.\n",
    "    - The project may consider establishing resting areas with amenities or camping areas around nature parks or along coastal roads unique to Austrialia, e.g. the Great Ocean Road.\n",
    "3. Attractions:\n",
    "    - Places of interests along the route to include nature parks and coastal roads. \n",
    "4. Vehicle Types:\n",
    "    - The project can also partner car rental agency to supply more SUVs or campervans for better comfort, especially for families.\n",
    "\n"
   ]
  },
  {
   "cell_type": "markdown",
   "id": "10aabb6d-71fe-4356-acff-246372e3819f",
   "metadata": {
    "tags": []
   },
   "source": [
    "### Future Work to Improve Accuracy of the Model\n",
    "1. Some of the submissions contains advertisements or websites addresses with insufficient content for the model to classify accurately. Such submissions should be extracted and not be considered in the project. \n",
    "2. In order to get meaningful analysis of the submissions, submissions should be of a certain length before they may be considered for assessment by the project team. \n",
    "3. As posts are scrapped from the past 8 months, the context may evolve especially with new development in the Covid virus situations. Being up to date with the latest development would be helpful in predicting future travel needs.\n",
    "4. About 50% or more of the raw data consists of images and videos without a message body.  OCR on the images may be considered on these post to document the content for analysis.\n",
    "5. As the roadtrips subreddit submissions centers around travelling in US, US related words could be added to the list of stopwords when training the model to be used for Australian context. "
   ]
  },
  {
   "cell_type": "markdown",
   "id": "30c37292-ce9c-43c1-989e-a60c70c52cb8",
   "metadata": {
    "tags": []
   },
   "source": [
    "## 5. Conclusion"
   ]
  },
  {
   "cell_type": "markdown",
   "id": "32ad4a24-11c1-4e3e-919f-158e52d92484",
   "metadata": {},
   "source": [
    "1. Logistics Regression Model with TF-IDF vectorizer (logreg_tvec) has the highest test accuracy with highest true positive (sensitivity) and true negative rates (specificity) and is recommended to be deployed online for travellers to identify subreddits to submit their post for discussion. \n",
    "2. The model has a Training Cross Validation accuracy score of 92%, explaining 92% of the variance in the subreddit classifications.\n",
    "3. The project identify the various topics and proposals in each subreddits for Tourism Australia to review to attract travellers and promote roadtrips in Australia. \n",
    "    - TravelHacks: flight deals & availability, car rental cost & trustworthiness, covid testing, vaccination, travel insurance\n",
    "    - roadtrip: safety, stops/detours, attractions, vehicle types.\n",
    "4. The model will also help travellers to decide which subreddits to post their submissions for discussion during itinerary planning.\n",
    "5. The project also identified various areas to explore to improve the accuracy of the model. \n",
    "\n"
   ]
  },
  {
   "cell_type": "markdown",
   "id": "57762350-5e86-4abf-83a8-e7b8471d682f",
   "metadata": {
    "tags": []
   },
   "source": [
    "# <center> **End of Notebook**"
   ]
  }
 ],
 "metadata": {
  "kernelspec": {
   "display_name": "Python 3 (ipykernel)",
   "language": "python",
   "name": "python3"
  },
  "language_info": {
   "codemirror_mode": {
    "name": "ipython",
    "version": 3
   },
   "file_extension": ".py",
   "mimetype": "text/x-python",
   "name": "python",
   "nbconvert_exporter": "python",
   "pygments_lexer": "ipython3",
   "version": "3.9.12"
  }
 },
 "nbformat": 4,
 "nbformat_minor": 5
}
